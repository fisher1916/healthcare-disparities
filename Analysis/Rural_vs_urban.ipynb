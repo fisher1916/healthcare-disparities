{
 "cells": [
  {
   "cell_type": "code",
   "execution_count": 4,
   "metadata": {},
   "outputs": [
    {
     "data": {
      "text/plain": [
       "Index(['Facility ID', 'Facility Name', 'Address', 'City', 'State_x',\n",
       "       'ZIP Code', 'County Name', 'Measure ID', 'Measure Name', 'Denominator',\n",
       "       'Score', 'Lower Estimate', 'Higher Estimate', 'Start Date', 'End Date',\n",
       "       'State_y', 'State Abbr', 'Household Median Income',\n",
       "       'Family's Median Income', 'Total Population', 'Percent Poverty',\n",
       "       'Percent Veteran', 'Percent Married', 'Percent Bachelor',\n",
       "       'Percent One Race White', 'Percent One Race Black+',\n",
       "       'Percent One Race American Indian+', 'Percent One Race Asian',\n",
       "       'Percent One Race Hawaiian+', 'Percent One Race Some Other',\n",
       "       'Percent Two Race Or More', 'State Code', 'County Code'],\n",
       "      dtype='object')"
      ]
     },
     "execution_count": 4,
     "metadata": {},
     "output_type": "execute_result"
    }
   ],
   "source": [
    "# Dependencies and Setup\n",
    "import matplotlib.pyplot as plt\n",
    "import pandas as pd\n",
    "import scipy.stats as st\n",
    "import numpy as np\n",
    "from statistics import mean\n",
    "\n",
    "# Study data files\n",
    "census_metadata_path = \"../ETL/ETL-Results/census_data.csv\"\n",
    "health_metadata_path = \"../ETL/ETL-Results/four_mort_measures.csv\"\n",
    "\n",
    "# Read the mouse data and the study results\n",
    "health_metadata = pd.read_csv(health_metadata_path)\n",
    "census_metadata = pd.read_csv(census_metadata_path)\n",
    "\n",
    "# Combine the data into a single dataset\n",
    "race_data_df = pd.merge(health_metadata, census_metadata, how = \"inner\", right_on = [\"State Abbr\", \"County Name\"], \n",
    "                        left_on = [\"State\", \"County Name\"])\n",
    "\n",
    "# Display the data table for preview\n",
    "race_data_df.columns\n"
   ]
  },
  {
   "cell_type": "code",
   "execution_count": 31,
   "metadata": {},
   "outputs": [
    {
     "data": {
      "text/html": [
       "<div>\n",
       "<style scoped>\n",
       "    .dataframe tbody tr th:only-of-type {\n",
       "        vertical-align: middle;\n",
       "    }\n",
       "\n",
       "    .dataframe tbody tr th {\n",
       "        vertical-align: top;\n",
       "    }\n",
       "\n",
       "    .dataframe thead th {\n",
       "        text-align: right;\n",
       "    }\n",
       "</style>\n",
       "<table border=\"1\" class=\"dataframe\">\n",
       "  <thead>\n",
       "    <tr style=\"text-align: right;\">\n",
       "      <th></th>\n",
       "      <th>Facility Name</th>\n",
       "      <th>County Name</th>\n",
       "      <th>City</th>\n",
       "      <th>State Abbr</th>\n",
       "      <th>Total Population</th>\n",
       "      <th>Measure Name</th>\n",
       "      <th>Mortality Percentage</th>\n",
       "      <th>Percent One Race White</th>\n",
       "      <th>Percent One Race Black+</th>\n",
       "      <th>Percent One Race American Indian+</th>\n",
       "      <th>Percent One Race Asian</th>\n",
       "      <th>Percent One Race Hawaiian+</th>\n",
       "      <th>Percent One Race Some Other</th>\n",
       "      <th>Percent Two Race Or More</th>\n",
       "    </tr>\n",
       "  </thead>\n",
       "  <tbody>\n",
       "    <tr>\n",
       "      <th>0</th>\n",
       "      <td>MISSION COMMUNITY HOSPITAL</td>\n",
       "      <td>LOS ANGELES</td>\n",
       "      <td>PANORAMA CITY</td>\n",
       "      <td>CA</td>\n",
       "      <td>10081570</td>\n",
       "      <td>Death rate for COPD patients</td>\n",
       "      <td>5.1</td>\n",
       "      <td>51.3</td>\n",
       "      <td>8.1</td>\n",
       "      <td>0.7</td>\n",
       "      <td>14.6</td>\n",
       "      <td>0.3</td>\n",
       "      <td>21.0</td>\n",
       "      <td>4.0</td>\n",
       "    </tr>\n",
       "    <tr>\n",
       "      <th>1</th>\n",
       "      <td>CEDARS-SINAI MEDICAL CENTER</td>\n",
       "      <td>LOS ANGELES</td>\n",
       "      <td>LOS ANGELES</td>\n",
       "      <td>CA</td>\n",
       "      <td>10081570</td>\n",
       "      <td>Death rate for COPD patients</td>\n",
       "      <td>5.2</td>\n",
       "      <td>51.3</td>\n",
       "      <td>8.1</td>\n",
       "      <td>0.7</td>\n",
       "      <td>14.6</td>\n",
       "      <td>0.3</td>\n",
       "      <td>21.0</td>\n",
       "      <td>4.0</td>\n",
       "    </tr>\n",
       "    <tr>\n",
       "      <th>2</th>\n",
       "      <td>CENTINELA HOSPITAL MEDICAL CENTER</td>\n",
       "      <td>LOS ANGELES</td>\n",
       "      <td>INGLEWOOD</td>\n",
       "      <td>CA</td>\n",
       "      <td>10081570</td>\n",
       "      <td>Death rate for heart failure patients</td>\n",
       "      <td>5.3</td>\n",
       "      <td>51.3</td>\n",
       "      <td>8.1</td>\n",
       "      <td>0.7</td>\n",
       "      <td>14.6</td>\n",
       "      <td>0.3</td>\n",
       "      <td>21.0</td>\n",
       "      <td>4.0</td>\n",
       "    </tr>\n",
       "    <tr>\n",
       "      <th>3</th>\n",
       "      <td>L A DOWNTOWN MEDICAL CENTER, LLC</td>\n",
       "      <td>LOS ANGELES</td>\n",
       "      <td>LOS ANGELES</td>\n",
       "      <td>CA</td>\n",
       "      <td>10081570</td>\n",
       "      <td>Death rate for COPD patients</td>\n",
       "      <td>5.3</td>\n",
       "      <td>51.3</td>\n",
       "      <td>8.1</td>\n",
       "      <td>0.7</td>\n",
       "      <td>14.6</td>\n",
       "      <td>0.3</td>\n",
       "      <td>21.0</td>\n",
       "      <td>4.0</td>\n",
       "    </tr>\n",
       "    <tr>\n",
       "      <th>4</th>\n",
       "      <td>WEST COVINA MEDICAL CENTER, INC</td>\n",
       "      <td>LOS ANGELES</td>\n",
       "      <td>WEST COVINA</td>\n",
       "      <td>CA</td>\n",
       "      <td>10081570</td>\n",
       "      <td>Death rate for COPD patients</td>\n",
       "      <td>5.5</td>\n",
       "      <td>51.3</td>\n",
       "      <td>8.1</td>\n",
       "      <td>0.7</td>\n",
       "      <td>14.6</td>\n",
       "      <td>0.3</td>\n",
       "      <td>21.0</td>\n",
       "      <td>4.0</td>\n",
       "    </tr>\n",
       "  </tbody>\n",
       "</table>\n",
       "</div>"
      ],
      "text/plain": [
       "                       Facility Name  County Name           City State Abbr  \\\n",
       "0         MISSION COMMUNITY HOSPITAL  LOS ANGELES  PANORAMA CITY         CA   \n",
       "1        CEDARS-SINAI MEDICAL CENTER  LOS ANGELES    LOS ANGELES         CA   \n",
       "2  CENTINELA HOSPITAL MEDICAL CENTER  LOS ANGELES      INGLEWOOD         CA   \n",
       "3   L A DOWNTOWN MEDICAL CENTER, LLC  LOS ANGELES    LOS ANGELES         CA   \n",
       "4    WEST COVINA MEDICAL CENTER, INC  LOS ANGELES    WEST COVINA         CA   \n",
       "\n",
       "   Total Population                           Measure Name  \\\n",
       "0          10081570           Death rate for COPD patients   \n",
       "1          10081570           Death rate for COPD patients   \n",
       "2          10081570  Death rate for heart failure patients   \n",
       "3          10081570           Death rate for COPD patients   \n",
       "4          10081570           Death rate for COPD patients   \n",
       "\n",
       "   Mortality Percentage  Percent One Race White  Percent One Race Black+  \\\n",
       "0                   5.1                    51.3                      8.1   \n",
       "1                   5.2                    51.3                      8.1   \n",
       "2                   5.3                    51.3                      8.1   \n",
       "3                   5.3                    51.3                      8.1   \n",
       "4                   5.5                    51.3                      8.1   \n",
       "\n",
       "   Percent One Race American Indian+  Percent One Race Asian  \\\n",
       "0                                0.7                    14.6   \n",
       "1                                0.7                    14.6   \n",
       "2                                0.7                    14.6   \n",
       "3                                0.7                    14.6   \n",
       "4                                0.7                    14.6   \n",
       "\n",
       "   Percent One Race Hawaiian+  Percent One Race Some Other  \\\n",
       "0                         0.3                         21.0   \n",
       "1                         0.3                         21.0   \n",
       "2                         0.3                         21.0   \n",
       "3                         0.3                         21.0   \n",
       "4                         0.3                         21.0   \n",
       "\n",
       "   Percent Two Race Or More  \n",
       "0                       4.0  \n",
       "1                       4.0  \n",
       "2                       4.0  \n",
       "3                       4.0  \n",
       "4                       4.0  "
      ]
     },
     "execution_count": 31,
     "metadata": {},
     "output_type": "execute_result"
    }
   ],
   "source": [
    "race_data_df = race_data_df.rename(columns={\"State_y\":\"State\", \"Score\": \"Mortality Percentage\"})\n",
    "race_merged = race_data_df[['Facility Name', 'County Name','City', 'State Abbr', 'Total Population','Measure Name', 'Mortality Percentage','Percent One Race White', 'Percent One Race Black+',\n",
    "       'Percent One Race American Indian+', 'Percent One Race Asian',\n",
    "       'Percent One Race Hawaiian+', 'Percent One Race Some Other',\n",
    "       'Percent Two Race Or More']]\n",
    "race_merged.head()"
   ]
  },
  {
   "cell_type": "code",
   "execution_count": 20,
   "metadata": {},
   "outputs": [],
   "source": [
    "# “The Census Bureau identifies two types of urban areas: Urbanized Areas (UAs) of 50,000 or more people; Urban Clusters (UCs) \n",
    "# of at least 2,500 and less than 50,000 people. ‘Rural’ encompasses all population, housing, and territory not included \n",
    "# within an urban area.” -- https://www.washingtonpost.com/politics/the-federal-definition-of-rural--times-15/2013/06/08/a39e46a8-cd4a-11e2-ac03-178510c9cc0a_story.html\n",
    "\n",
    "# The Census recognizes that \"densely settled communities outside the boundaries of large incorporated municipalities were just \n",
    "# as ''urban'' as the densely settled population inside those boundaries.\" Their definition does not follow city or county \n",
    "# boundaries, and so it is sometimes difficult to determine whether a particular area is considered urban or rural.\n",
    "# https://www.hrsa.gov/rural-health/about-us/definition/index.html#:~:text=All%20counties%20that%20are%20not,\n",
    "# as%20either%20Metro%20or%20Micro."
   ]
  },
  {
   "cell_type": "code",
   "execution_count": 21,
   "metadata": {},
   "outputs": [
    {
     "data": {
      "text/html": [
       "<div>\n",
       "<style scoped>\n",
       "    .dataframe tbody tr th:only-of-type {\n",
       "        vertical-align: middle;\n",
       "    }\n",
       "\n",
       "    .dataframe tbody tr th {\n",
       "        vertical-align: top;\n",
       "    }\n",
       "\n",
       "    .dataframe thead th {\n",
       "        text-align: right;\n",
       "    }\n",
       "</style>\n",
       "<table border=\"1\" class=\"dataframe\">\n",
       "  <thead>\n",
       "    <tr style=\"text-align: right;\">\n",
       "      <th></th>\n",
       "      <th></th>\n",
       "      <th>Percent One Race Black+</th>\n",
       "    </tr>\n",
       "    <tr>\n",
       "      <th>County Name</th>\n",
       "      <th>State Abbr</th>\n",
       "      <th></th>\n",
       "    </tr>\n",
       "  </thead>\n",
       "  <tbody>\n",
       "    <tr>\n",
       "      <th>ABBEVILLE</th>\n",
       "      <th>SC</th>\n",
       "      <td>27.6</td>\n",
       "    </tr>\n",
       "    <tr>\n",
       "      <th>ACADIA</th>\n",
       "      <th>LA</th>\n",
       "      <td>17.4</td>\n",
       "    </tr>\n",
       "    <tr>\n",
       "      <th>ACCOMACK</th>\n",
       "      <th>VA</th>\n",
       "      <td>28.6</td>\n",
       "    </tr>\n",
       "    <tr>\n",
       "      <th>ADA</th>\n",
       "      <th>ID</th>\n",
       "      <td>1.4</td>\n",
       "    </tr>\n",
       "    <tr>\n",
       "      <th>ADAIR</th>\n",
       "      <th>KY</th>\n",
       "      <td>3.1</td>\n",
       "    </tr>\n",
       "  </tbody>\n",
       "</table>\n",
       "</div>"
      ],
      "text/plain": [
       "                        Percent One Race Black+\n",
       "County Name State Abbr                         \n",
       "ABBEVILLE   SC                             27.6\n",
       "ACADIA      LA                             17.4\n",
       "ACCOMACK    VA                             28.6\n",
       "ADA         ID                              1.4\n",
       "ADAIR       KY                              3.1"
      ]
     },
     "execution_count": 21,
     "metadata": {},
     "output_type": "execute_result"
    }
   ],
   "source": [
    "hist_agg = race_merged.groupby(['County Name', 'State Abbr']).agg({'Percent One Race Black+':'mean'})\n",
    "hist_agg.head()"
   ]
  },
  {
   "cell_type": "code",
   "execution_count": 22,
   "metadata": {},
   "outputs": [
    {
     "data": {
      "text/plain": [
       "8.943256653134867"
      ]
     },
     "execution_count": 22,
     "metadata": {},
     "output_type": "execute_result"
    }
   ],
   "source": [
    "hist_agg['Percent One Race Black+'].mean()"
   ]
  },
  {
   "cell_type": "code",
   "execution_count": 23,
   "metadata": {},
   "outputs": [
    {
     "data": {
      "text/html": [
       "<div>\n",
       "<style scoped>\n",
       "    .dataframe tbody tr th:only-of-type {\n",
       "        vertical-align: middle;\n",
       "    }\n",
       "\n",
       "    .dataframe tbody tr th {\n",
       "        vertical-align: top;\n",
       "    }\n",
       "\n",
       "    .dataframe thead th {\n",
       "        text-align: right;\n",
       "    }\n",
       "</style>\n",
       "<table border=\"1\" class=\"dataframe\">\n",
       "  <thead>\n",
       "    <tr style=\"text-align: right;\">\n",
       "      <th></th>\n",
       "      <th></th>\n",
       "      <th>Percent One Race White</th>\n",
       "    </tr>\n",
       "    <tr>\n",
       "      <th>County Name</th>\n",
       "      <th>State Abbr</th>\n",
       "      <th></th>\n",
       "    </tr>\n",
       "  </thead>\n",
       "  <tbody>\n",
       "    <tr>\n",
       "      <th>ABBEVILLE</th>\n",
       "      <th>SC</th>\n",
       "      <td>69.9</td>\n",
       "    </tr>\n",
       "    <tr>\n",
       "      <th>ACADIA</th>\n",
       "      <th>LA</th>\n",
       "      <td>79.3</td>\n",
       "    </tr>\n",
       "    <tr>\n",
       "      <th>ACCOMACK</th>\n",
       "      <th>VA</th>\n",
       "      <td>68.2</td>\n",
       "    </tr>\n",
       "    <tr>\n",
       "      <th>ADA</th>\n",
       "      <th>ID</th>\n",
       "      <td>90.5</td>\n",
       "    </tr>\n",
       "    <tr>\n",
       "      <th>ADAIR</th>\n",
       "      <th>KY</th>\n",
       "      <td>94.9</td>\n",
       "    </tr>\n",
       "  </tbody>\n",
       "</table>\n",
       "</div>"
      ],
      "text/plain": [
       "                        Percent One Race White\n",
       "County Name State Abbr                        \n",
       "ABBEVILLE   SC                            69.9\n",
       "ACADIA      LA                            79.3\n",
       "ACCOMACK    VA                            68.2\n",
       "ADA         ID                            90.5\n",
       "ADAIR       KY                            94.9"
      ]
     },
     "execution_count": 23,
     "metadata": {},
     "output_type": "execute_result"
    }
   ],
   "source": [
    "hist_agg_white = race_merged.groupby(['County Name', 'State Abbr']).agg({'Percent One Race White':'mean'})\n",
    "hist_agg_white.head()"
   ]
  },
  {
   "cell_type": "code",
   "execution_count": 24,
   "metadata": {},
   "outputs": [
    {
     "data": {
      "text/plain": [
       "83.03157419936852"
      ]
     },
     "execution_count": 24,
     "metadata": {},
     "output_type": "execute_result"
    }
   ],
   "source": [
    "hist_agg_white['Percent One Race White'].mean()"
   ]
  },
  {
   "cell_type": "code",
   "execution_count": 35,
   "metadata": {},
   "outputs": [],
   "source": [
    "race_merged[race_merged['Percent One Race Black+'] > hist_agg['Percent One Race Black+'].mean()] \n",
    "race_merged[race_merged['Percent One Race White'] > hist_agg_white['Percent One Race White'].mean()] \n",
    "race_merged[(race_merged['Percent One Race White'] > hist_agg_white['Percent One Race White'].mean()) & (race_merged['Percent One Race Black+'] > hist_agg['Percent One Race Black+'].mean())]\n",
    "race_dropped = race_merged[~((race_merged['Percent One Race White'] > hist_agg_white['Percent One Race White'].mean()) & (race_merged['Percent One Race Black+'] > hist_agg['Percent One Race Black+'].mean()))]"
   ]
  },
  {
   "cell_type": "code",
   "execution_count": 41,
   "metadata": {},
   "outputs": [],
   "source": [
    "white_df = race_dropped[race_dropped['Percent One Race White'] > hist_agg_white['Percent One Race White'].mean()]\n",
    "black_df = race_dropped[race_dropped['Percent One Race Black+'] > hist_agg['Percent One Race Black+'].mean()] "
   ]
  },
  {
   "cell_type": "code",
   "execution_count": 42,
   "metadata": {},
   "outputs": [
    {
     "data": {
      "text/plain": [
       "dtype('int64')"
      ]
     },
     "execution_count": 42,
     "metadata": {},
     "output_type": "execute_result"
    }
   ],
   "source": [
    "black_df['Total Population'].dtypes"
   ]
  },
  {
   "cell_type": "code",
   "execution_count": 43,
   "metadata": {},
   "outputs": [
    {
     "ename": "TypeError",
     "evalue": "'(304      False\n305      False\n306      False\n307      False\n308      False\n         ...  \n13196    False\n13198    False\n13206    False\n13212    False\n13215    False\nName: Total Population, Length: 5058, dtype: bool, 0)' is an invalid key",
     "output_type": "error",
     "traceback": [
      "\u001b[1;31m---------------------------------------------------------------------------\u001b[0m",
      "\u001b[1;31mTypeError\u001b[0m                                 Traceback (most recent call last)",
      "\u001b[1;32m<ipython-input-43-84684b14b97a>\u001b[0m in \u001b[0;36m<module>\u001b[1;34m\u001b[0m\n\u001b[1;32m----> 1\u001b[1;33m \u001b[0mrural_df\u001b[0m \u001b[1;33m=\u001b[0m \u001b[0mblack_df\u001b[0m\u001b[1;33m[\u001b[0m\u001b[0mblack_df\u001b[0m\u001b[1;33m[\u001b[0m\u001b[1;34m'Total Population'\u001b[0m\u001b[1;33m]\u001b[0m \u001b[1;33m<=\u001b[0m \u001b[1;36m50\u001b[0m\u001b[1;33m,\u001b[0m\u001b[1;36m000\u001b[0m\u001b[1;33m]\u001b[0m\u001b[1;33m\u001b[0m\u001b[1;33m\u001b[0m\u001b[0m\n\u001b[0m\u001b[0;32m      2\u001b[0m \u001b[0mrural_df\u001b[0m\u001b[1;33m\u001b[0m\u001b[1;33m\u001b[0m\u001b[0m\n",
      "\u001b[1;32m~\\.conda\\envs\\PythonData\\lib\\site-packages\\pandas\\core\\frame.py\u001b[0m in \u001b[0;36m__getitem__\u001b[1;34m(self, key)\u001b[0m\n\u001b[0;32m   2798\u001b[0m             \u001b[1;32mif\u001b[0m \u001b[0mself\u001b[0m\u001b[1;33m.\u001b[0m\u001b[0mcolumns\u001b[0m\u001b[1;33m.\u001b[0m\u001b[0mnlevels\u001b[0m \u001b[1;33m>\u001b[0m \u001b[1;36m1\u001b[0m\u001b[1;33m:\u001b[0m\u001b[1;33m\u001b[0m\u001b[1;33m\u001b[0m\u001b[0m\n\u001b[0;32m   2799\u001b[0m                 \u001b[1;32mreturn\u001b[0m \u001b[0mself\u001b[0m\u001b[1;33m.\u001b[0m\u001b[0m_getitem_multilevel\u001b[0m\u001b[1;33m(\u001b[0m\u001b[0mkey\u001b[0m\u001b[1;33m)\u001b[0m\u001b[1;33m\u001b[0m\u001b[1;33m\u001b[0m\u001b[0m\n\u001b[1;32m-> 2800\u001b[1;33m             \u001b[0mindexer\u001b[0m \u001b[1;33m=\u001b[0m \u001b[0mself\u001b[0m\u001b[1;33m.\u001b[0m\u001b[0mcolumns\u001b[0m\u001b[1;33m.\u001b[0m\u001b[0mget_loc\u001b[0m\u001b[1;33m(\u001b[0m\u001b[0mkey\u001b[0m\u001b[1;33m)\u001b[0m\u001b[1;33m\u001b[0m\u001b[1;33m\u001b[0m\u001b[0m\n\u001b[0m\u001b[0;32m   2801\u001b[0m             \u001b[1;32mif\u001b[0m \u001b[0mis_integer\u001b[0m\u001b[1;33m(\u001b[0m\u001b[0mindexer\u001b[0m\u001b[1;33m)\u001b[0m\u001b[1;33m:\u001b[0m\u001b[1;33m\u001b[0m\u001b[1;33m\u001b[0m\u001b[0m\n\u001b[0;32m   2802\u001b[0m                 \u001b[0mindexer\u001b[0m \u001b[1;33m=\u001b[0m \u001b[1;33m[\u001b[0m\u001b[0mindexer\u001b[0m\u001b[1;33m]\u001b[0m\u001b[1;33m\u001b[0m\u001b[1;33m\u001b[0m\u001b[0m\n",
      "\u001b[1;32m~\\.conda\\envs\\PythonData\\lib\\site-packages\\pandas\\core\\indexes\\base.py\u001b[0m in \u001b[0;36mget_loc\u001b[1;34m(self, key, method, tolerance)\u001b[0m\n\u001b[0;32m   2644\u001b[0m                 )\n\u001b[0;32m   2645\u001b[0m             \u001b[1;32mtry\u001b[0m\u001b[1;33m:\u001b[0m\u001b[1;33m\u001b[0m\u001b[1;33m\u001b[0m\u001b[0m\n\u001b[1;32m-> 2646\u001b[1;33m                 \u001b[1;32mreturn\u001b[0m \u001b[0mself\u001b[0m\u001b[1;33m.\u001b[0m\u001b[0m_engine\u001b[0m\u001b[1;33m.\u001b[0m\u001b[0mget_loc\u001b[0m\u001b[1;33m(\u001b[0m\u001b[0mkey\u001b[0m\u001b[1;33m)\u001b[0m\u001b[1;33m\u001b[0m\u001b[1;33m\u001b[0m\u001b[0m\n\u001b[0m\u001b[0;32m   2647\u001b[0m             \u001b[1;32mexcept\u001b[0m \u001b[0mKeyError\u001b[0m\u001b[1;33m:\u001b[0m\u001b[1;33m\u001b[0m\u001b[1;33m\u001b[0m\u001b[0m\n\u001b[0;32m   2648\u001b[0m                 \u001b[1;32mreturn\u001b[0m \u001b[0mself\u001b[0m\u001b[1;33m.\u001b[0m\u001b[0m_engine\u001b[0m\u001b[1;33m.\u001b[0m\u001b[0mget_loc\u001b[0m\u001b[1;33m(\u001b[0m\u001b[0mself\u001b[0m\u001b[1;33m.\u001b[0m\u001b[0m_maybe_cast_indexer\u001b[0m\u001b[1;33m(\u001b[0m\u001b[0mkey\u001b[0m\u001b[1;33m)\u001b[0m\u001b[1;33m)\u001b[0m\u001b[1;33m\u001b[0m\u001b[1;33m\u001b[0m\u001b[0m\n",
      "\u001b[1;32mpandas\\_libs\\index.pyx\u001b[0m in \u001b[0;36mpandas._libs.index.IndexEngine.get_loc\u001b[1;34m()\u001b[0m\n",
      "\u001b[1;32mpandas\\_libs\\index.pyx\u001b[0m in \u001b[0;36mpandas._libs.index.IndexEngine.get_loc\u001b[1;34m()\u001b[0m\n",
      "\u001b[1;31mTypeError\u001b[0m: '(304      False\n305      False\n306      False\n307      False\n308      False\n         ...  \n13196    False\n13198    False\n13206    False\n13212    False\n13215    False\nName: Total Population, Length: 5058, dtype: bool, 0)' is an invalid key"
     ]
    }
   ],
   "source": [
    "black_rural_df = black_df[black_df['Total Population'] <= 50,000]\n",
    "black_rural_df"
   ]
  },
  {
   "cell_type": "code",
   "execution_count": null,
   "metadata": {},
   "outputs": [],
   "source": []
  },
  {
   "cell_type": "code",
   "execution_count": null,
   "metadata": {},
   "outputs": [],
   "source": []
  }
 ],
 "metadata": {
  "kernelspec": {
   "display_name": "Python 3",
   "language": "python",
   "name": "python3"
  },
  "language_info": {
   "codemirror_mode": {
    "name": "ipython",
    "version": 3
   },
   "file_extension": ".py",
   "mimetype": "text/x-python",
   "name": "python",
   "nbconvert_exporter": "python",
   "pygments_lexer": "ipython3",
   "version": "3.6.10"
  }
 },
 "nbformat": 4,
 "nbformat_minor": 4
}
