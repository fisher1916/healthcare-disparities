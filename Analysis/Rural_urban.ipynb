{
 "cells": [
  {
   "cell_type": "code",
   "execution_count": 1,
   "metadata": {},
   "outputs": [],
   "source": [
    "# Dependencies and Setup\n",
    "import matplotlib.pyplot as plt\n",
    "import pandas as pd\n",
    "import scipy.stats as st\n",
    "import numpy as np\n",
    "from statistics import mean\n",
    "\n",
    "# Read in target dataframes\n",
    "census_df = pd.read_csv(\"../ETL/ETL-Results/census_data.csv\", dtype=str)\n",
    "cms_df = pd.read_csv(\"../ETL/ETL-Results/four_mort_measures.csv\", dtype=str)\n",
    "\n"
   ]
  },
  {
   "cell_type": "code",
   "execution_count": 2,
   "metadata": {},
   "outputs": [],
   "source": [
    "# Remove Some Items due to county issues\n",
    "cms_df = cms_df[cms_df[\"State\"] != \"PR\"]\n",
    "cms_df = cms_df[cms_df[\"State\"] != \"GU\"]\n",
    "cms_df = cms_df[cms_df[\"State\"] != \"MP\"]\n",
    "cms_df = cms_df[cms_df[\"State\"] != \"VI\"]"
   ]
  },
  {
   "cell_type": "code",
   "execution_count": 3,
   "metadata": {},
   "outputs": [],
   "source": [
    "# Remove Some Items due to county issues\n",
    "cms_df = cms_df[cms_df[\"County Name\"] != \"OBRIEN\"]\n",
    "cms_df = cms_df[cms_df[\"County Name\"] != \"JEFFRSON DAVIS\"]\n",
    "\n",
    "cms_df = cms_df[~((cms_df[\"County Name\"] == \"LASALLE\")\n",
    "                & (cms_df[\"State\"] == \"LA\"))]\n",
    "cms_df = cms_df[~((cms_df[\"County Name\"] == \"ST. MARYS\")\n",
    "                & (cms_df[\"State\"] == \"MD\"))]\n",
    "cms_df = cms_df[~((cms_df[\"County Name\"] == \"MCLEAN\")\n",
    "                & (cms_df[\"State\"] == \"ND\"))]"
   ]
  },
  {
   "cell_type": "code",
   "execution_count": 4,
   "metadata": {},
   "outputs": [],
   "source": [
    "def fix_county_name(string):\n",
    "\n",
    "    if string == \"DEKALB\":\n",
    "        return \"DE KALB\"\n",
    "    if string == \"DUPAGE\":\n",
    "        return \"DU PAGE\"\n",
    "    elif string == \"DISTRICT OF COLUMBIA\":\n",
    "        return \"THE DISTRICT\"\n",
    "    elif string == \"ANCHORAGE MUNICIPALITY\":\n",
    "        return \"ANCHORAGE\"\n",
    "    elif string == \"PRINCE GEORGE\\'S\":\n",
    "        return \"PRINCE GEORGES\"\n",
    "    elif string == \"MCDOWELL\":\n",
    "        return \"MC DOWELL\"\n",
    "    elif string == \"MCHENRY\":\n",
    "        return \"MC HENRY\"\n",
    "    elif string == \"LASALLE\":\n",
    "        return \"LA SALLE\"\n",
    "    elif string == \"MCKEAN\":\n",
    "        return \"MC KEAN\"\n",
    "    elif string == \"MCDUFFIE\":\n",
    "        return \"MC DUFFIE\"\n",
    "    elif string == \"EAST BATON ROUGE\":\n",
    "        return \"E. BATON ROUGE\"\n",
    "    elif string == \"LAPORTE\":\n",
    "        return \"LA PORTE\"\n",
    "    elif string == \"DEWITT\":\n",
    "        return \"DE WITT\"\n",
    "    elif string == \"JUNEAU CITY AND BOROUGH\":\n",
    "        return \"JUNEAU\"\n",
    "    elif string == \"KENAI PENINSULA BOROUGH\":\n",
    "        return \"KENAI PENINSULA\"\n",
    "    elif string == \"MATANUSKA-SUSITNA BOROUGH\":\n",
    "        return \"MATANUSKA-SUSITNA\"\n",
    "    elif string == \"DESOTO\":\n",
    "        return \"DE SOTO\"\n",
    "    elif string == \"DOÑA ANA\":\n",
    "        return \"DONA ANA\"\n",
    "    elif string == \"LA PAZ\":\n",
    "        return \"LAPAZ\"\n",
    "    elif string == \"MCLEAN\":\n",
    "        return \"MC LEAN\"\n",
    "    elif string == \"MCCRACKEN\":\n",
    "        return \"MC CRACKEN\"\n",
    "    elif string == \"MCDONOUGH\":\n",
    "        return \"MC DONOUGH\"\n",
    "    elif string == \"KETCHIKAN GATEWAY BOROUGH\":\n",
    "        return \"KETCHIKAN GATEWAY\"\n",
    "    elif string == \"SCOTTS BLUFF\":\n",
    "        return \"SCOTT BLUFF\"\n",
    "    elif string == \"NORTHUMBERLAND\":\n",
    "        return \"NORTHUMBERLND\"\n",
    "    elif string == \"MCLENNAN\":\n",
    "        return \"MC LENNAN\"\n",
    "    elif string == \"MCMINN\":\n",
    "        return \"MC MINN\"\n",
    "    elif string == \"FAIRBANKS NORTH STAR BOROUGH\":\n",
    "        return \"FAIRBANKS NORTH STAR\"\n",
    "    elif string == \"MCLEOD\":\n",
    "        return \"MC LEOD\"\n",
    "    elif string == \"YELLOW MEDICINE\":\n",
    "        return \"YELLOW MEDCINE\"\n",
    "    elif string == \"SITKA CITY AND BOROUGH\":\n",
    "        return \"SITKA BOROUGH\"\n",
    "    else:\n",
    "        return string"
   ]
  },
  {
   "cell_type": "code",
   "execution_count": 5,
   "metadata": {},
   "outputs": [],
   "source": [
    "# Save formatted county names\n",
    "census_df['County Name'] = census_df['County Name'].apply(\n",
    "    lambda x: fix_county_name(x))"
   ]
  },
  {
   "cell_type": "code",
   "execution_count": 6,
   "metadata": {},
   "outputs": [],
   "source": [
    "cms_merged_df = pd.merge(\n",
    "    cms_df, census_df, \n",
    "    how=\"inner\", left_on=[\"State\", \"County Name\"], right_on=[\"State Abbr\", \"County Name\"]\n",
    ")"
   ]
  },
  {
   "cell_type": "code",
   "execution_count": 7,
   "metadata": {},
   "outputs": [
    {
     "data": {
      "text/plain": [
       "Index(['Facility ID', 'Facility Name', 'Address', 'City', 'State_x',\n",
       "       'ZIP Code', 'County Name', 'Measure ID', 'Measure Name', 'Denominator',\n",
       "       'Score', 'Lower Estimate', 'Higher Estimate', 'Start Date', 'End Date',\n",
       "       'State_y', 'State Abbr', 'Household Median Income',\n",
       "       'Family's Median Income', 'Total Population', 'Percent Poverty',\n",
       "       'Percent Veteran', 'Percent Married', 'Percent Bachelor',\n",
       "       'Percent One Race White', 'Percent One Race Black+',\n",
       "       'Percent One Race American Indian+', 'Percent One Race Asian',\n",
       "       'Percent One Race Hawaiian+', 'Percent One Race Some Other',\n",
       "       'Percent Two Race Or More', 'State Code', 'County Code'],\n",
       "      dtype='object')"
      ]
     },
     "execution_count": 7,
     "metadata": {},
     "output_type": "execute_result"
    }
   ],
   "source": [
    "cms_merged_df.columns"
   ]
  },
  {
   "cell_type": "code",
   "execution_count": 8,
   "metadata": {},
   "outputs": [],
   "source": [
    "cms_merged_df = cms_merged_df.astype({'Percent One Race Black+':'float', 'Percent One Race White': 'float', 'Total Population': 'int'})"
   ]
  },
  {
   "cell_type": "code",
   "execution_count": 9,
   "metadata": {},
   "outputs": [],
   "source": [
    "black_mean_df = cms_merged_df.groupby(['County Name', 'State Abbr']).agg({'Percent One Race Black+':'mean'})\n",
    "white_mean_df = cms_merged_df.groupby(['County Name', 'State Abbr']).agg({'Percent One Race White':'mean'})\n"
   ]
  },
  {
   "cell_type": "code",
   "execution_count": 10,
   "metadata": {},
   "outputs": [],
   "source": [
    "black_mean = black_mean_df['Percent One Race Black+'].mean()\n",
    "white_mean = white_mean_df['Percent One Race White'].mean()"
   ]
  },
  {
   "cell_type": "code",
   "execution_count": 11,
   "metadata": {},
   "outputs": [],
   "source": [
    "black_df = cms_merged_df[cms_merged_df['Percent One Race Black+'] > black_mean]\n",
    "white_df = cms_merged_df[cms_merged_df['Percent One Race White'] > white_mean]\n",
    "black_df = black_df[~((black_df['Percent One Race White'] > white_mean) & (black_df['Percent One Race Black+'] > black_mean))]\n",
    "white_df = white_df[~((white_df['Percent One Race White'] > white_mean) & (white_df['Percent One Race Black+'] > black_mean))]\n"
   ]
  },
  {
   "cell_type": "code",
   "execution_count": 12,
   "metadata": {},
   "outputs": [
    {
     "data": {
      "text/plain": [
       "Index(['Facility ID', 'Facility Name', 'Address', 'City', 'State_x',\n",
       "       'ZIP Code', 'County Name', 'Measure ID', 'Measure Name', 'Denominator',\n",
       "       'Score', 'Lower Estimate', 'Higher Estimate', 'Start Date', 'End Date',\n",
       "       'State_y', 'State Abbr', 'Household Median Income',\n",
       "       'Family's Median Income', 'Total Population', 'Percent Poverty',\n",
       "       'Percent Veteran', 'Percent Married', 'Percent Bachelor',\n",
       "       'Percent One Race White', 'Percent One Race Black+',\n",
       "       'Percent One Race American Indian+', 'Percent One Race Asian',\n",
       "       'Percent One Race Hawaiian+', 'Percent One Race Some Other',\n",
       "       'Percent Two Race Or More', 'State Code', 'County Code'],\n",
       "      dtype='object')"
      ]
     },
     "execution_count": 12,
     "metadata": {},
     "output_type": "execute_result"
    }
   ],
   "source": [
    "white_black_df = pd.concat([white_df, black_df])\n",
    "white_black_df.columns"
   ]
  },
  {
   "cell_type": "code",
   "execution_count": 13,
   "metadata": {},
   "outputs": [
    {
     "data": {
      "text/html": [
       "<div>\n",
       "<style scoped>\n",
       "    .dataframe tbody tr th:only-of-type {\n",
       "        vertical-align: middle;\n",
       "    }\n",
       "\n",
       "    .dataframe tbody tr th {\n",
       "        vertical-align: top;\n",
       "    }\n",
       "\n",
       "    .dataframe thead th {\n",
       "        text-align: right;\n",
       "    }\n",
       "</style>\n",
       "<table border=\"1\" class=\"dataframe\">\n",
       "  <thead>\n",
       "    <tr style=\"text-align: right;\">\n",
       "      <th></th>\n",
       "      <th>Facility Name</th>\n",
       "      <th>County Name</th>\n",
       "      <th>City</th>\n",
       "      <th>State Abbr</th>\n",
       "      <th>Total Population</th>\n",
       "      <th>Measure Name</th>\n",
       "      <th>Score</th>\n",
       "      <th>Percent One Race White</th>\n",
       "      <th>Percent One Race Black+</th>\n",
       "    </tr>\n",
       "  </thead>\n",
       "  <tbody>\n",
       "    <tr>\n",
       "      <th>298</th>\n",
       "      <td>SSM HEALTH ST MARY'S HOSPITAL -CENTRALIA</td>\n",
       "      <td>MARION</td>\n",
       "      <td>CENTRALIA</td>\n",
       "      <td>IL</td>\n",
       "      <td>37743</td>\n",
       "      <td>Death rate for COPD patients</td>\n",
       "      <td>5.2</td>\n",
       "      <td>92.5</td>\n",
       "      <td>3.7</td>\n",
       "    </tr>\n",
       "    <tr>\n",
       "      <th>299</th>\n",
       "      <td>SALEM TOWNSHIP HOSPITAL</td>\n",
       "      <td>MARION</td>\n",
       "      <td>SALEM</td>\n",
       "      <td>IL</td>\n",
       "      <td>37743</td>\n",
       "      <td>Death rate for COPD patients</td>\n",
       "      <td>8.8</td>\n",
       "      <td>92.5</td>\n",
       "      <td>3.7</td>\n",
       "    </tr>\n",
       "    <tr>\n",
       "      <th>300</th>\n",
       "      <td>SSM HEALTH ST MARY'S HOSPITAL -CENTRALIA</td>\n",
       "      <td>MARION</td>\n",
       "      <td>CENTRALIA</td>\n",
       "      <td>IL</td>\n",
       "      <td>37743</td>\n",
       "      <td>Death rate for heart failure patients</td>\n",
       "      <td>12.4</td>\n",
       "      <td>92.5</td>\n",
       "      <td>3.7</td>\n",
       "    </tr>\n",
       "    <tr>\n",
       "      <th>301</th>\n",
       "      <td>SSM HEALTH ST MARY'S HOSPITAL -CENTRALIA</td>\n",
       "      <td>MARION</td>\n",
       "      <td>CENTRALIA</td>\n",
       "      <td>IL</td>\n",
       "      <td>37743</td>\n",
       "      <td>Death rate for heart attack patients</td>\n",
       "      <td>12.5</td>\n",
       "      <td>92.5</td>\n",
       "      <td>3.7</td>\n",
       "    </tr>\n",
       "    <tr>\n",
       "      <th>302</th>\n",
       "      <td>SALEM TOWNSHIP HOSPITAL</td>\n",
       "      <td>MARION</td>\n",
       "      <td>SALEM</td>\n",
       "      <td>IL</td>\n",
       "      <td>37743</td>\n",
       "      <td>Death rate for pneumonia patients</td>\n",
       "      <td>13.5</td>\n",
       "      <td>92.5</td>\n",
       "      <td>3.7</td>\n",
       "    </tr>\n",
       "  </tbody>\n",
       "</table>\n",
       "</div>"
      ],
      "text/plain": [
       "                                Facility Name County Name       City  \\\n",
       "298  SSM HEALTH ST MARY'S HOSPITAL -CENTRALIA      MARION  CENTRALIA   \n",
       "299                   SALEM TOWNSHIP HOSPITAL      MARION      SALEM   \n",
       "300  SSM HEALTH ST MARY'S HOSPITAL -CENTRALIA      MARION  CENTRALIA   \n",
       "301  SSM HEALTH ST MARY'S HOSPITAL -CENTRALIA      MARION  CENTRALIA   \n",
       "302                   SALEM TOWNSHIP HOSPITAL      MARION      SALEM   \n",
       "\n",
       "    State Abbr  Total Population                           Measure Name Score  \\\n",
       "298         IL             37743           Death rate for COPD patients   5.2   \n",
       "299         IL             37743           Death rate for COPD patients   8.8   \n",
       "300         IL             37743  Death rate for heart failure patients  12.4   \n",
       "301         IL             37743   Death rate for heart attack patients  12.5   \n",
       "302         IL             37743      Death rate for pneumonia patients  13.5   \n",
       "\n",
       "     Percent One Race White  Percent One Race Black+  \n",
       "298                    92.5                      3.7  \n",
       "299                    92.5                      3.7  \n",
       "300                    92.5                      3.7  \n",
       "301                    92.5                      3.7  \n",
       "302                    92.5                      3.7  "
      ]
     },
     "execution_count": 13,
     "metadata": {},
     "output_type": "execute_result"
    }
   ],
   "source": [
    "reduced_df = white_black_df[['Facility Name', 'County Name','City', 'State Abbr', 'Total Population','Measure Name', \n",
    "                             'Score','Percent One Race White', 'Percent One Race Black+',]]\n",
    "reduced_df.head()"
   ]
  },
  {
   "cell_type": "code",
   "execution_count": 14,
   "metadata": {},
   "outputs": [
    {
     "data": {
      "text/plain": [
       "<pandas.core.groupby.generic.DataFrameGroupBy object at 0x0000025C9CC5CD30>"
      ]
     },
     "execution_count": 14,
     "metadata": {},
     "output_type": "execute_result"
    }
   ],
   "source": [
    "rural_urban_df = reduced_df.groupby(['County Name', 'State Abbr'])\n",
    "rural_urban_df"
   ]
  },
  {
   "cell_type": "code",
   "execution_count": 15,
   "metadata": {},
   "outputs": [],
   "source": [
    "# rural_urban = reduced_df.groupby(['County Name', 'State Abbr', 'Measure Name']).agg({\n",
    "#     'Mortality Percentage' : 'mean',\n",
    "#     'Percent One Race White' : 'mean',\n",
    "#     'Percent One Race Black+' : 'mean'\n",
    "# }).reset_index()"
   ]
  },
  {
   "cell_type": "code",
   "execution_count": 16,
   "metadata": {},
   "outputs": [],
   "source": [
    "def get_urban_rural(x):\n",
    "    if x <= 50000: \n",
    "        return 'RURAL'\n",
    "    else: \n",
    "        return 'URBAN'"
   ]
  },
  {
   "cell_type": "code",
   "execution_count": 17,
   "metadata": {},
   "outputs": [
    {
     "ename": "ValueError",
     "evalue": "The truth value of a Series is ambiguous. Use a.empty, a.bool(), a.item(), a.any() or a.all().",
     "output_type": "error",
     "traceback": [
      "\u001b[1;31m---------------------------------------------------------------------------\u001b[0m",
      "\u001b[1;31mValueError\u001b[0m                                Traceback (most recent call last)",
      "\u001b[1;32m<ipython-input-17-3766799b517e>\u001b[0m in \u001b[0;36m<module>\u001b[1;34m\u001b[0m\n\u001b[1;32m----> 1\u001b[1;33m \u001b[0mrural_urban_df\u001b[0m\u001b[1;33m[\u001b[0m\u001b[1;34m'Urban_Rural'\u001b[0m\u001b[1;33m]\u001b[0m \u001b[1;33m=\u001b[0m \u001b[0mrural_urban_df\u001b[0m\u001b[1;33m[\u001b[0m\u001b[1;34m'Total Population'\u001b[0m\u001b[1;33m]\u001b[0m\u001b[1;33m.\u001b[0m\u001b[0mapply\u001b[0m\u001b[1;33m(\u001b[0m\u001b[0mget_urban_rural\u001b[0m\u001b[1;33m)\u001b[0m\u001b[1;33m\u001b[0m\u001b[1;33m\u001b[0m\u001b[0m\n\u001b[0m\u001b[0;32m      2\u001b[0m \u001b[0mrural_urban_df\u001b[0m\u001b[1;33m[\u001b[0m\u001b[0mrural_urban_df\u001b[0m\u001b[1;33m[\u001b[0m\u001b[1;34m'Urban_Rural'\u001b[0m\u001b[1;33m]\u001b[0m \u001b[1;33m==\u001b[0m \u001b[1;34m'URBAN'\u001b[0m\u001b[1;33m]\u001b[0m\u001b[1;33m\u001b[0m\u001b[1;33m\u001b[0m\u001b[0m\n",
      "\u001b[1;32m~\\.conda\\envs\\PythonData\\lib\\site-packages\\pandas\\core\\groupby\\generic.py\u001b[0m in \u001b[0;36mapply\u001b[1;34m(self, func, *args, **kwargs)\u001b[0m\n\u001b[0;32m    222\u001b[0m     )\n\u001b[0;32m    223\u001b[0m     \u001b[1;32mdef\u001b[0m \u001b[0mapply\u001b[0m\u001b[1;33m(\u001b[0m\u001b[0mself\u001b[0m\u001b[1;33m,\u001b[0m \u001b[0mfunc\u001b[0m\u001b[1;33m,\u001b[0m \u001b[1;33m*\u001b[0m\u001b[0margs\u001b[0m\u001b[1;33m,\u001b[0m \u001b[1;33m**\u001b[0m\u001b[0mkwargs\u001b[0m\u001b[1;33m)\u001b[0m\u001b[1;33m:\u001b[0m\u001b[1;33m\u001b[0m\u001b[1;33m\u001b[0m\u001b[0m\n\u001b[1;32m--> 224\u001b[1;33m         \u001b[1;32mreturn\u001b[0m \u001b[0msuper\u001b[0m\u001b[1;33m(\u001b[0m\u001b[1;33m)\u001b[0m\u001b[1;33m.\u001b[0m\u001b[0mapply\u001b[0m\u001b[1;33m(\u001b[0m\u001b[0mfunc\u001b[0m\u001b[1;33m,\u001b[0m \u001b[1;33m*\u001b[0m\u001b[0margs\u001b[0m\u001b[1;33m,\u001b[0m \u001b[1;33m**\u001b[0m\u001b[0mkwargs\u001b[0m\u001b[1;33m)\u001b[0m\u001b[1;33m\u001b[0m\u001b[1;33m\u001b[0m\u001b[0m\n\u001b[0m\u001b[0;32m    225\u001b[0m \u001b[1;33m\u001b[0m\u001b[0m\n\u001b[0;32m    226\u001b[0m     @Substitution(\n",
      "\u001b[1;32m~\\.conda\\envs\\PythonData\\lib\\site-packages\\pandas\\core\\groupby\\groupby.py\u001b[0m in \u001b[0;36mapply\u001b[1;34m(self, func, *args, **kwargs)\u001b[0m\n\u001b[0;32m    734\u001b[0m         \u001b[1;32mwith\u001b[0m \u001b[0moption_context\u001b[0m\u001b[1;33m(\u001b[0m\u001b[1;34m\"mode.chained_assignment\"\u001b[0m\u001b[1;33m,\u001b[0m \u001b[1;32mNone\u001b[0m\u001b[1;33m)\u001b[0m\u001b[1;33m:\u001b[0m\u001b[1;33m\u001b[0m\u001b[1;33m\u001b[0m\u001b[0m\n\u001b[0;32m    735\u001b[0m             \u001b[1;32mtry\u001b[0m\u001b[1;33m:\u001b[0m\u001b[1;33m\u001b[0m\u001b[1;33m\u001b[0m\u001b[0m\n\u001b[1;32m--> 736\u001b[1;33m                 \u001b[0mresult\u001b[0m \u001b[1;33m=\u001b[0m \u001b[0mself\u001b[0m\u001b[1;33m.\u001b[0m\u001b[0m_python_apply_general\u001b[0m\u001b[1;33m(\u001b[0m\u001b[0mf\u001b[0m\u001b[1;33m)\u001b[0m\u001b[1;33m\u001b[0m\u001b[1;33m\u001b[0m\u001b[0m\n\u001b[0m\u001b[0;32m    737\u001b[0m             \u001b[1;32mexcept\u001b[0m \u001b[0mTypeError\u001b[0m\u001b[1;33m:\u001b[0m\u001b[1;33m\u001b[0m\u001b[1;33m\u001b[0m\u001b[0m\n\u001b[0;32m    738\u001b[0m                 \u001b[1;31m# gh-20949\u001b[0m\u001b[1;33m\u001b[0m\u001b[1;33m\u001b[0m\u001b[1;33m\u001b[0m\u001b[0m\n",
      "\u001b[1;32m~\\.conda\\envs\\PythonData\\lib\\site-packages\\pandas\\core\\groupby\\groupby.py\u001b[0m in \u001b[0;36m_python_apply_general\u001b[1;34m(self, f)\u001b[0m\n\u001b[0;32m    750\u001b[0m \u001b[1;33m\u001b[0m\u001b[0m\n\u001b[0;32m    751\u001b[0m     \u001b[1;32mdef\u001b[0m \u001b[0m_python_apply_general\u001b[0m\u001b[1;33m(\u001b[0m\u001b[0mself\u001b[0m\u001b[1;33m,\u001b[0m \u001b[0mf\u001b[0m\u001b[1;33m)\u001b[0m\u001b[1;33m:\u001b[0m\u001b[1;33m\u001b[0m\u001b[1;33m\u001b[0m\u001b[0m\n\u001b[1;32m--> 752\u001b[1;33m         \u001b[0mkeys\u001b[0m\u001b[1;33m,\u001b[0m \u001b[0mvalues\u001b[0m\u001b[1;33m,\u001b[0m \u001b[0mmutated\u001b[0m \u001b[1;33m=\u001b[0m \u001b[0mself\u001b[0m\u001b[1;33m.\u001b[0m\u001b[0mgrouper\u001b[0m\u001b[1;33m.\u001b[0m\u001b[0mapply\u001b[0m\u001b[1;33m(\u001b[0m\u001b[0mf\u001b[0m\u001b[1;33m,\u001b[0m \u001b[0mself\u001b[0m\u001b[1;33m.\u001b[0m\u001b[0m_selected_obj\u001b[0m\u001b[1;33m,\u001b[0m \u001b[0mself\u001b[0m\u001b[1;33m.\u001b[0m\u001b[0maxis\u001b[0m\u001b[1;33m)\u001b[0m\u001b[1;33m\u001b[0m\u001b[1;33m\u001b[0m\u001b[0m\n\u001b[0m\u001b[0;32m    753\u001b[0m \u001b[1;33m\u001b[0m\u001b[0m\n\u001b[0;32m    754\u001b[0m         return self._wrap_applied_output(\n",
      "\u001b[1;32m~\\.conda\\envs\\PythonData\\lib\\site-packages\\pandas\\core\\groupby\\ops.py\u001b[0m in \u001b[0;36mapply\u001b[1;34m(self, f, data, axis)\u001b[0m\n\u001b[0;32m    204\u001b[0m             \u001b[1;31m# group might be modified\u001b[0m\u001b[1;33m\u001b[0m\u001b[1;33m\u001b[0m\u001b[1;33m\u001b[0m\u001b[0m\n\u001b[0;32m    205\u001b[0m             \u001b[0mgroup_axes\u001b[0m \u001b[1;33m=\u001b[0m \u001b[0mgroup\u001b[0m\u001b[1;33m.\u001b[0m\u001b[0maxes\u001b[0m\u001b[1;33m\u001b[0m\u001b[1;33m\u001b[0m\u001b[0m\n\u001b[1;32m--> 206\u001b[1;33m             \u001b[0mres\u001b[0m \u001b[1;33m=\u001b[0m \u001b[0mf\u001b[0m\u001b[1;33m(\u001b[0m\u001b[0mgroup\u001b[0m\u001b[1;33m)\u001b[0m\u001b[1;33m\u001b[0m\u001b[1;33m\u001b[0m\u001b[0m\n\u001b[0m\u001b[0;32m    207\u001b[0m             \u001b[1;32mif\u001b[0m \u001b[1;32mnot\u001b[0m \u001b[0m_is_indexed_like\u001b[0m\u001b[1;33m(\u001b[0m\u001b[0mres\u001b[0m\u001b[1;33m,\u001b[0m \u001b[0mgroup_axes\u001b[0m\u001b[1;33m)\u001b[0m\u001b[1;33m:\u001b[0m\u001b[1;33m\u001b[0m\u001b[1;33m\u001b[0m\u001b[0m\n\u001b[0;32m    208\u001b[0m                 \u001b[0mmutated\u001b[0m \u001b[1;33m=\u001b[0m \u001b[1;32mTrue\u001b[0m\u001b[1;33m\u001b[0m\u001b[1;33m\u001b[0m\u001b[0m\n",
      "\u001b[1;32m<ipython-input-16-2c8d862144d5>\u001b[0m in \u001b[0;36mget_urban_rural\u001b[1;34m(x)\u001b[0m\n\u001b[0;32m      1\u001b[0m \u001b[1;32mdef\u001b[0m \u001b[0mget_urban_rural\u001b[0m\u001b[1;33m(\u001b[0m\u001b[0mx\u001b[0m\u001b[1;33m)\u001b[0m\u001b[1;33m:\u001b[0m\u001b[1;33m\u001b[0m\u001b[1;33m\u001b[0m\u001b[0m\n\u001b[1;32m----> 2\u001b[1;33m     \u001b[1;32mif\u001b[0m \u001b[0mx\u001b[0m \u001b[1;33m<=\u001b[0m \u001b[1;36m50000\u001b[0m\u001b[1;33m:\u001b[0m\u001b[1;33m\u001b[0m\u001b[1;33m\u001b[0m\u001b[0m\n\u001b[0m\u001b[0;32m      3\u001b[0m         \u001b[1;32mreturn\u001b[0m \u001b[1;34m'RURAL'\u001b[0m\u001b[1;33m\u001b[0m\u001b[1;33m\u001b[0m\u001b[0m\n\u001b[0;32m      4\u001b[0m     \u001b[1;32melse\u001b[0m\u001b[1;33m:\u001b[0m\u001b[1;33m\u001b[0m\u001b[1;33m\u001b[0m\u001b[0m\n\u001b[0;32m      5\u001b[0m         \u001b[1;32mreturn\u001b[0m \u001b[1;34m'URBAN'\u001b[0m\u001b[1;33m\u001b[0m\u001b[1;33m\u001b[0m\u001b[0m\n",
      "\u001b[1;32m~\\.conda\\envs\\PythonData\\lib\\site-packages\\pandas\\core\\generic.py\u001b[0m in \u001b[0;36m__nonzero__\u001b[1;34m(self)\u001b[0m\n\u001b[0;32m   1477\u001b[0m     \u001b[1;32mdef\u001b[0m \u001b[0m__nonzero__\u001b[0m\u001b[1;33m(\u001b[0m\u001b[0mself\u001b[0m\u001b[1;33m)\u001b[0m\u001b[1;33m:\u001b[0m\u001b[1;33m\u001b[0m\u001b[1;33m\u001b[0m\u001b[0m\n\u001b[0;32m   1478\u001b[0m         raise ValueError(\n\u001b[1;32m-> 1479\u001b[1;33m             \u001b[1;34mf\"The truth value of a {type(self).__name__} is ambiguous. \"\u001b[0m\u001b[1;33m\u001b[0m\u001b[1;33m\u001b[0m\u001b[0m\n\u001b[0m\u001b[0;32m   1480\u001b[0m             \u001b[1;34m\"Use a.empty, a.bool(), a.item(), a.any() or a.all().\"\u001b[0m\u001b[1;33m\u001b[0m\u001b[1;33m\u001b[0m\u001b[0m\n\u001b[0;32m   1481\u001b[0m         )\n",
      "\u001b[1;31mValueError\u001b[0m: The truth value of a Series is ambiguous. Use a.empty, a.bool(), a.item(), a.any() or a.all()."
     ]
    }
   ],
   "source": [
    "rural_urban_df['Urban_Rural'] = rural_urban_df['Total Population'].apply(get_urban_rural)\n",
    "rural_urban_df[rural_urban_df['Urban_Rural'] == 'URBAN']"
   ]
  },
  {
   "cell_type": "code",
   "execution_count": null,
   "metadata": {},
   "outputs": [],
   "source": []
  }
 ],
 "metadata": {
  "kernelspec": {
   "display_name": "Python 3",
   "language": "python",
   "name": "python3"
  },
  "language_info": {
   "codemirror_mode": {
    "name": "ipython",
    "version": 3
   },
   "file_extension": ".py",
   "mimetype": "text/x-python",
   "name": "python",
   "nbconvert_exporter": "python",
   "pygments_lexer": "ipython3",
   "version": "3.6.10"
  }
 },
 "nbformat": 4,
 "nbformat_minor": 4
}
