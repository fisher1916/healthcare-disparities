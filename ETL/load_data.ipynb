{
 "cells": [
  {
   "cell_type": "code",
   "execution_count": 1,
   "metadata": {},
   "outputs": [],
   "source": [
    "from sqlalchemy import create_engine\n",
    "import pandas as pd"
   ]
  },
  {
   "cell_type": "code",
   "execution_count": 2,
   "metadata": {},
   "outputs": [
    {
     "name": "stdout",
     "output_type": "stream",
     "text": [
      "2021-02-04 20:32:41,105 INFO sqlalchemy.engine.base.Engine SELECT CAST('test plain returns' AS VARCHAR(60)) AS anon_1\n",
      "2021-02-04 20:32:41,112 INFO sqlalchemy.engine.base.Engine ()\n",
      "2021-02-04 20:32:41,117 INFO sqlalchemy.engine.base.Engine SELECT CAST('test unicode returns' AS VARCHAR(60)) AS anon_1\n",
      "2021-02-04 20:32:41,119 INFO sqlalchemy.engine.base.Engine ()\n"
     ]
    }
   ],
   "source": [
    "engine = create_engine(\"sqlite:///../data/cms.db\", echo=True)\n",
    "conn = engine.connect()"
   ]
  },
  {
   "cell_type": "code",
   "execution_count": 3,
   "metadata": {
    "scrolled": true
   },
   "outputs": [
    {
     "name": "stdout",
     "output_type": "stream",
     "text": [
      "2021-02-04 20:32:41,152 INFO sqlalchemy.engine.base.Engine DROP TABLE CMS\n",
      "2021-02-04 20:32:41,156 INFO sqlalchemy.engine.base.Engine ()\n",
      "2021-02-04 20:32:41,461 INFO sqlalchemy.engine.base.Engine COMMIT\n",
      "2021-02-04 20:32:41,466 INFO sqlalchemy.engine.base.Engine \n",
      "CREATE TABLE IF NOT EXISTS cms (\n",
      "    cms_id INTEGER PRIMARY KEY AUTOINCREMENT ,\n",
      "    facility_id TEXT NOT NULL ,\n",
      "    facility_name TEXT NOT NULL ,\n",
      "    address TEXT NOT NULL ,\n",
      "    city TEXT NOT NULL ,\n",
      "    state TEXT NOT NULL ,\n",
      "    state_name TEXT NOT NULL,\n",
      "    zip_code TEXT NOT NULL ,\n",
      "    county_name TEXT NOT NULL ,\n",
      "    measure_id TEXT  NOT NULL ,\n",
      "    measure_name TEXT  NOT NULL ,\n",
      "    denominator INTEGER  NOT NULL ,\n",
      "    score REAL  NOT NULL ,\n",
      "    lower_estimate REAL  NOT NULL ,\n",
      "    higher_estimate REAL  NOT NULL ,\n",
      "    start_date TEXT NOT NULL ,\n",
      "    end_date TEXT NOT NULL ,\n",
      "    race_category TEXT NOT NULL,\n",
      "    household_median_income INTEGER NOT NULL ,\n",
      "    family_median_income INTEGER NOT NULL ,\n",
      "    total_population INTEGER NOT NULL ,\n",
      "    percent_poverty REAL  NOT NULL ,\n",
      "    percent_veteran REAL  NOT NULL ,\n",
      "    percent_married REAL  NOT NULL ,\n",
      "    percent_bachelor REAL  NOT NULL ,\n",
      "    percent_white REAL  NOT NULL ,\n",
      "    percent_black REAL  NOT NULL ,\n",
      "    percent_american_indian REAL  NOT NULL ,\n",
      "    percent_asian REAL  NOT NULL ,\n",
      "    percent_hawaiian REAL  NOT NULL ,\n",
      "    percent_some_other REAL  NOT NULL ,\n",
      "    percent_two_or_more REAL  NOT NULL ,\n",
      "    state_code TEXT  NOT NULL ,\n",
      "    county_code TEXT  NOT NULL \n",
      ")\n",
      "\n",
      "2021-02-04 20:32:41,470 INFO sqlalchemy.engine.base.Engine ()\n",
      "2021-02-04 20:32:41,547 INFO sqlalchemy.engine.base.Engine COMMIT\n"
     ]
    },
    {
     "data": {
      "text/plain": [
       "<sqlalchemy.engine.result.ResultProxy at 0x27454ef1cf8>"
      ]
     },
     "execution_count": 3,
     "metadata": {},
     "output_type": "execute_result"
    }
   ],
   "source": [
    "conn.execute(\"\"\"DROP TABLE CMS\"\"\")\n",
    "# Create the table - note that if we use automap_base, the table must have primary key!\n",
    "conn.execute(\"\"\"\n",
    "CREATE TABLE IF NOT EXISTS cms (\n",
    "    cms_id INTEGER PRIMARY KEY AUTOINCREMENT ,\n",
    "    facility_id TEXT NOT NULL ,\n",
    "    facility_name TEXT NOT NULL ,\n",
    "    address TEXT NOT NULL ,\n",
    "    city TEXT NOT NULL ,\n",
    "    state TEXT NOT NULL ,\n",
    "    state_name TEXT NOT NULL,\n",
    "    zip_code TEXT NOT NULL ,\n",
    "    county_name TEXT NOT NULL ,\n",
    "    measure_id TEXT  NOT NULL ,\n",
    "    measure_name TEXT  NOT NULL ,\n",
    "    denominator INTEGER  NOT NULL ,\n",
    "    score REAL  NOT NULL ,\n",
    "    lower_estimate REAL  NOT NULL ,\n",
    "    higher_estimate REAL  NOT NULL ,\n",
    "    start_date TEXT NOT NULL ,\n",
    "    end_date TEXT NOT NULL ,\n",
    "    race_category TEXT NOT NULL,\n",
    "    household_median_income INTEGER NOT NULL ,\n",
    "    family_median_income INTEGER NOT NULL ,\n",
    "    total_population INTEGER NOT NULL ,\n",
    "    percent_poverty REAL  NOT NULL ,\n",
    "    percent_veteran REAL  NOT NULL ,\n",
    "    percent_married REAL  NOT NULL ,\n",
    "    percent_bachelor REAL  NOT NULL ,\n",
    "    percent_white REAL  NOT NULL ,\n",
    "    percent_black REAL  NOT NULL ,\n",
    "    percent_american_indian REAL  NOT NULL ,\n",
    "    percent_asian REAL  NOT NULL ,\n",
    "    percent_hawaiian REAL  NOT NULL ,\n",
    "    percent_some_other REAL  NOT NULL ,\n",
    "    percent_two_or_more REAL  NOT NULL ,\n",
    "    state_code TEXT  NOT NULL ,\n",
    "    county_code TEXT  NOT NULL \n",
    ")\n",
    "\"\"\")"
   ]
  },
  {
   "cell_type": "code",
   "execution_count": 4,
   "metadata": {},
   "outputs": [],
   "source": [
    "# Read in target dataframes\n",
    "census_df = pd.read_csv(\"../ETL/ETL-Results/census_data.csv\", dtype=str)\n",
    "cms_df = pd.read_csv(\"../ETL/ETL-Results/four_mort_measures.csv\", dtype=str)"
   ]
  },
  {
   "cell_type": "code",
   "execution_count": 5,
   "metadata": {},
   "outputs": [],
   "source": [
    "# Remove Some Items due to county issues\n",
    "cms_df = cms_df[cms_df[\"State\"] != \"PR\"]\n",
    "cms_df = cms_df[cms_df[\"State\"] != \"GU\"]\n",
    "cms_df = cms_df[cms_df[\"State\"] != \"MP\"]\n",
    "cms_df = cms_df[cms_df[\"State\"] != \"VI\"]"
   ]
  },
  {
   "cell_type": "code",
   "execution_count": 6,
   "metadata": {},
   "outputs": [
    {
     "data": {
      "text/plain": [
       "13478"
      ]
     },
     "execution_count": 6,
     "metadata": {},
     "output_type": "execute_result"
    }
   ],
   "source": [
    "len(cms_df)"
   ]
  },
  {
   "cell_type": "code",
   "execution_count": 7,
   "metadata": {},
   "outputs": [],
   "source": [
    "# Remove Some Items due to county issues\n",
    "cms_df = cms_df[cms_df[\"County Name\"] != \"OBRIEN\"]\n",
    "cms_df = cms_df[cms_df[\"County Name\"] != \"JEFFRSON DAVIS\"]\n",
    "\n",
    "cms_df = cms_df[~((cms_df[\"County Name\"] == \"LASALLE\")\n",
    "                & (cms_df[\"State\"] == \"LA\"))]\n",
    "cms_df = cms_df[~((cms_df[\"County Name\"] == \"ST. MARYS\")\n",
    "                & (cms_df[\"State\"] == \"MD\"))]\n",
    "cms_df = cms_df[~((cms_df[\"County Name\"] == \"MCLEAN\")\n",
    "                & (cms_df[\"State\"] == \"ND\"))]"
   ]
  },
  {
   "cell_type": "code",
   "execution_count": 8,
   "metadata": {},
   "outputs": [
    {
     "data": {
      "text/plain": [
       "13461"
      ]
     },
     "execution_count": 8,
     "metadata": {},
     "output_type": "execute_result"
    }
   ],
   "source": [
    "len(cms_df)"
   ]
  },
  {
   "cell_type": "code",
   "execution_count": 9,
   "metadata": {},
   "outputs": [],
   "source": [
    "def fix_county_name(string):\n",
    "\n",
    "    if string == \"DEKALB\":\n",
    "        return \"DE KALB\"\n",
    "    if string == \"DUPAGE\":\n",
    "        return \"DU PAGE\"\n",
    "    elif string == \"DISTRICT OF COLUMBIA\":\n",
    "        return \"THE DISTRICT\"\n",
    "    elif string == \"ANCHORAGE MUNICIPALITY\":\n",
    "        return \"ANCHORAGE\"\n",
    "    elif string == \"PRINCE GEORGE\\'S\":\n",
    "        return \"PRINCE GEORGES\"\n",
    "    elif string == \"MCDOWELL\":\n",
    "        return \"MC DOWELL\"\n",
    "    elif string == \"MCHENRY\":\n",
    "        return \"MC HENRY\"\n",
    "    elif string == \"LASALLE\":\n",
    "        return \"LA SALLE\"\n",
    "    elif string == \"MCKEAN\":\n",
    "        return \"MC KEAN\"\n",
    "    elif string == \"MCDUFFIE\":\n",
    "        return \"MC DUFFIE\"\n",
    "    elif string == \"EAST BATON ROUGE\":\n",
    "        return \"E. BATON ROUGE\"\n",
    "    elif string == \"LAPORTE\":\n",
    "        return \"LA PORTE\"\n",
    "    elif string == \"DEWITT\":\n",
    "        return \"DE WITT\"\n",
    "    elif string == \"JUNEAU CITY AND BOROUGH\":\n",
    "        return \"JUNEAU\"\n",
    "    elif string == \"KENAI PENINSULA BOROUGH\":\n",
    "        return \"KENAI PENINSULA\"\n",
    "    elif string == \"MATANUSKA-SUSITNA BOROUGH\":\n",
    "        return \"MATANUSKA-SUSITNA\"\n",
    "    elif string == \"DESOTO\":\n",
    "        return \"DE SOTO\"\n",
    "    elif string == \"DOÑA ANA\":\n",
    "        return \"DONA ANA\"\n",
    "    elif string == \"LA PAZ\":\n",
    "        return \"LAPAZ\"\n",
    "    elif string == \"MCLEAN\":\n",
    "        return \"MC LEAN\"\n",
    "    elif string == \"MCCRACKEN\":\n",
    "        return \"MC CRACKEN\"\n",
    "    elif string == \"MCDONOUGH\":\n",
    "        return \"MC DONOUGH\"\n",
    "    elif string == \"KETCHIKAN GATEWAY BOROUGH\":\n",
    "        return \"KETCHIKAN GATEWAY\"\n",
    "    elif string == \"SCOTTS BLUFF\":\n",
    "        return \"SCOTT BLUFF\"\n",
    "    elif string == \"NORTHUMBERLAND\":\n",
    "        return \"NORTHUMBERLND\"\n",
    "    elif string == \"MCLENNAN\":\n",
    "        return \"MC LENNAN\"\n",
    "    elif string == \"MCMINN\":\n",
    "        return \"MC MINN\"\n",
    "    elif string == \"FAIRBANKS NORTH STAR BOROUGH\":\n",
    "        return \"FAIRBANKS NORTH STAR\"\n",
    "    elif string == \"MCLEOD\":\n",
    "        return \"MC LEOD\"\n",
    "    elif string == \"YELLOW MEDICINE\":\n",
    "        return \"YELLOW MEDCINE\"\n",
    "    elif string == \"SITKA CITY AND BOROUGH\":\n",
    "        return \"SITKA BOROUGH\"\n",
    "    else:\n",
    "        return string"
   ]
  },
  {
   "cell_type": "code",
   "execution_count": 10,
   "metadata": {},
   "outputs": [],
   "source": [
    "# Save formatted county names\n",
    "census_df['County Name'] = census_df['County Name'].apply(\n",
    "    lambda x: fix_county_name(x))"
   ]
  },
  {
   "cell_type": "code",
   "execution_count": 11,
   "metadata": {},
   "outputs": [
    {
     "data": {
      "text/plain": [
       "Index(['County Name', 'State', 'State Abbr', 'Household Median Income',\n",
       "       'Family's Median Income', 'Total Population', 'Percent Poverty',\n",
       "       'Percent Veteran', 'Percent Married', 'Percent Bachelor',\n",
       "       'Percent One Race White', 'Percent One Race Black+',\n",
       "       'Percent One Race American Indian+', 'Percent One Race Asian',\n",
       "       'Percent One Race Hawaiian+', 'Percent One Race Some Other',\n",
       "       'Percent Two Race Or More', 'State Code', 'County Code'],\n",
       "      dtype='object')"
      ]
     },
     "execution_count": 11,
     "metadata": {},
     "output_type": "execute_result"
    }
   ],
   "source": [
    "census_df.columns"
   ]
  },
  {
   "cell_type": "code",
   "execution_count": 12,
   "metadata": {},
   "outputs": [
    {
     "data": {
      "text/plain": [
       "Index(['Facility ID', 'Facility Name', 'Address', 'City', 'State', 'ZIP Code',\n",
       "       'County Name', 'Measure ID', 'Measure Name', 'Denominator', 'Score',\n",
       "       'Lower Estimate', 'Higher Estimate', 'Start Date', 'End Date'],\n",
       "      dtype='object')"
      ]
     },
     "execution_count": 12,
     "metadata": {},
     "output_type": "execute_result"
    }
   ],
   "source": [
    "cms_df.columns"
   ]
  },
  {
   "cell_type": "code",
   "execution_count": 13,
   "metadata": {},
   "outputs": [],
   "source": [
    "cms_merged_df = pd.merge(\n",
    "    cms_df, census_df, \n",
    "    how=\"inner\", left_on=[\"State\", \"County Name\"], right_on=[\"State Abbr\", \"County Name\"]\n",
    ")"
   ]
  },
  {
   "cell_type": "code",
   "execution_count": 14,
   "metadata": {},
   "outputs": [
    {
     "data": {
      "text/plain": [
       "Index(['Facility ID', 'Facility Name', 'Address', 'City', 'State_x',\n",
       "       'ZIP Code', 'County Name', 'Measure ID', 'Measure Name', 'Denominator',\n",
       "       'Score', 'Lower Estimate', 'Higher Estimate', 'Start Date', 'End Date',\n",
       "       'State_y', 'State Abbr', 'Household Median Income',\n",
       "       'Family's Median Income', 'Total Population', 'Percent Poverty',\n",
       "       'Percent Veteran', 'Percent Married', 'Percent Bachelor',\n",
       "       'Percent One Race White', 'Percent One Race Black+',\n",
       "       'Percent One Race American Indian+', 'Percent One Race Asian',\n",
       "       'Percent One Race Hawaiian+', 'Percent One Race Some Other',\n",
       "       'Percent Two Race Or More', 'State Code', 'County Code'],\n",
       "      dtype='object')"
      ]
     },
     "execution_count": 14,
     "metadata": {},
     "output_type": "execute_result"
    }
   ],
   "source": [
    "cms_merged_df.columns"
   ]
  },
  {
   "cell_type": "code",
   "execution_count": 15,
   "metadata": {},
   "outputs": [
    {
     "data": {
      "text/plain": [
       "13461"
      ]
     },
     "execution_count": 15,
     "metadata": {},
     "output_type": "execute_result"
    }
   ],
   "source": [
    "len(cms_merged_df)"
   ]
  },
  {
   "cell_type": "code",
   "execution_count": 16,
   "metadata": {},
   "outputs": [],
   "source": [
    "cms_merged_df = cms_merged_df.astype({'Percent One Race Black+':'float', 'Percent One Race White': 'float'})"
   ]
  },
  {
   "cell_type": "code",
   "execution_count": 17,
   "metadata": {},
   "outputs": [
    {
     "data": {
      "text/plain": [
       "Facility ID                           object\n",
       "Facility Name                         object\n",
       "Address                               object\n",
       "City                                  object\n",
       "State_x                               object\n",
       "ZIP Code                              object\n",
       "County Name                           object\n",
       "Measure ID                            object\n",
       "Measure Name                          object\n",
       "Denominator                           object\n",
       "Score                                 object\n",
       "Lower Estimate                        object\n",
       "Higher Estimate                       object\n",
       "Start Date                            object\n",
       "End Date                              object\n",
       "State_y                               object\n",
       "State Abbr                            object\n",
       "Household Median Income               object\n",
       "Family's Median Income                object\n",
       "Total Population                      object\n",
       "Percent Poverty                       object\n",
       "Percent Veteran                       object\n",
       "Percent Married                       object\n",
       "Percent Bachelor                      object\n",
       "Percent One Race White               float64\n",
       "Percent One Race Black+              float64\n",
       "Percent One Race American Indian+     object\n",
       "Percent One Race Asian                object\n",
       "Percent One Race Hawaiian+            object\n",
       "Percent One Race Some Other           object\n",
       "Percent Two Race Or More              object\n",
       "State Code                            object\n",
       "County Code                           object\n",
       "dtype: object"
      ]
     },
     "execution_count": 17,
     "metadata": {},
     "output_type": "execute_result"
    }
   ],
   "source": [
    "cms_merged_df.dtypes"
   ]
  },
  {
   "cell_type": "code",
   "execution_count": 18,
   "metadata": {},
   "outputs": [
    {
     "data": {
      "text/html": [
       "<div>\n",
       "<style scoped>\n",
       "    .dataframe tbody tr th:only-of-type {\n",
       "        vertical-align: middle;\n",
       "    }\n",
       "\n",
       "    .dataframe tbody tr th {\n",
       "        vertical-align: top;\n",
       "    }\n",
       "\n",
       "    .dataframe thead th {\n",
       "        text-align: right;\n",
       "    }\n",
       "</style>\n",
       "<table border=\"1\" class=\"dataframe\">\n",
       "  <thead>\n",
       "    <tr style=\"text-align: right;\">\n",
       "      <th></th>\n",
       "      <th></th>\n",
       "      <th>Percent One Race Black+</th>\n",
       "    </tr>\n",
       "    <tr>\n",
       "      <th>County Name</th>\n",
       "      <th>State Abbr</th>\n",
       "      <th></th>\n",
       "    </tr>\n",
       "  </thead>\n",
       "  <tbody>\n",
       "    <tr>\n",
       "      <th>ABBEVILLE</th>\n",
       "      <th>SC</th>\n",
       "      <td>27.6</td>\n",
       "    </tr>\n",
       "    <tr>\n",
       "      <th>ACADIA</th>\n",
       "      <th>LA</th>\n",
       "      <td>17.4</td>\n",
       "    </tr>\n",
       "    <tr>\n",
       "      <th>ACCOMACK</th>\n",
       "      <th>VA</th>\n",
       "      <td>28.6</td>\n",
       "    </tr>\n",
       "    <tr>\n",
       "      <th>ADA</th>\n",
       "      <th>ID</th>\n",
       "      <td>1.4</td>\n",
       "    </tr>\n",
       "    <tr>\n",
       "      <th>ADAIR</th>\n",
       "      <th>KY</th>\n",
       "      <td>3.1</td>\n",
       "    </tr>\n",
       "  </tbody>\n",
       "</table>\n",
       "</div>"
      ],
      "text/plain": [
       "                        Percent One Race Black+\n",
       "County Name State Abbr                         \n",
       "ABBEVILLE   SC                             27.6\n",
       "ACADIA      LA                             17.4\n",
       "ACCOMACK    VA                             28.6\n",
       "ADA         ID                              1.4\n",
       "ADAIR       KY                              3.1"
      ]
     },
     "execution_count": 18,
     "metadata": {},
     "output_type": "execute_result"
    }
   ],
   "source": [
    "black_mean_df = cms_merged_df.groupby(['County Name', 'State Abbr']).agg({'Percent One Race Black+':'mean'})\n",
    "black_mean_df.head()"
   ]
  },
  {
   "cell_type": "code",
   "execution_count": 19,
   "metadata": {},
   "outputs": [
    {
     "data": {
      "text/html": [
       "<div>\n",
       "<style scoped>\n",
       "    .dataframe tbody tr th:only-of-type {\n",
       "        vertical-align: middle;\n",
       "    }\n",
       "\n",
       "    .dataframe tbody tr th {\n",
       "        vertical-align: top;\n",
       "    }\n",
       "\n",
       "    .dataframe thead th {\n",
       "        text-align: right;\n",
       "    }\n",
       "</style>\n",
       "<table border=\"1\" class=\"dataframe\">\n",
       "  <thead>\n",
       "    <tr style=\"text-align: right;\">\n",
       "      <th></th>\n",
       "      <th></th>\n",
       "      <th>Percent One Race White</th>\n",
       "    </tr>\n",
       "    <tr>\n",
       "      <th>County Name</th>\n",
       "      <th>State Abbr</th>\n",
       "      <th></th>\n",
       "    </tr>\n",
       "  </thead>\n",
       "  <tbody>\n",
       "    <tr>\n",
       "      <th>ABBEVILLE</th>\n",
       "      <th>SC</th>\n",
       "      <td>69.9</td>\n",
       "    </tr>\n",
       "    <tr>\n",
       "      <th>ACADIA</th>\n",
       "      <th>LA</th>\n",
       "      <td>79.3</td>\n",
       "    </tr>\n",
       "    <tr>\n",
       "      <th>ACCOMACK</th>\n",
       "      <th>VA</th>\n",
       "      <td>68.2</td>\n",
       "    </tr>\n",
       "    <tr>\n",
       "      <th>ADA</th>\n",
       "      <th>ID</th>\n",
       "      <td>90.5</td>\n",
       "    </tr>\n",
       "    <tr>\n",
       "      <th>ADAIR</th>\n",
       "      <th>KY</th>\n",
       "      <td>94.9</td>\n",
       "    </tr>\n",
       "  </tbody>\n",
       "</table>\n",
       "</div>"
      ],
      "text/plain": [
       "                        Percent One Race White\n",
       "County Name State Abbr                        \n",
       "ABBEVILLE   SC                            69.9\n",
       "ACADIA      LA                            79.3\n",
       "ACCOMACK    VA                            68.2\n",
       "ADA         ID                            90.5\n",
       "ADAIR       KY                            94.9"
      ]
     },
     "execution_count": 19,
     "metadata": {},
     "output_type": "execute_result"
    }
   ],
   "source": [
    "white_mean_df = cms_merged_df.groupby(['County Name', 'State Abbr']).agg({'Percent One Race White':'mean'})\n",
    "white_mean_df.head()"
   ]
  },
  {
   "cell_type": "code",
   "execution_count": 20,
   "metadata": {},
   "outputs": [
    {
     "data": {
      "text/plain": [
       "82.93281527531084"
      ]
     },
     "execution_count": 20,
     "metadata": {},
     "output_type": "execute_result"
    }
   ],
   "source": [
    "black_mean = black_mean_df['Percent One Race Black+'].mean()\n",
    "white_mean = white_mean_df['Percent One Race White'].mean()\n",
    "white_mean"
   ]
  },
  {
   "cell_type": "code",
   "execution_count": 21,
   "metadata": {},
   "outputs": [
    {
     "data": {
      "text/plain": [
       "5352"
      ]
     },
     "execution_count": 21,
     "metadata": {},
     "output_type": "execute_result"
    }
   ],
   "source": [
    "black_df = cms_merged_df[cms_merged_df['Percent One Race Black+'] > black_mean]\n",
    "len(black_df)"
   ]
  },
  {
   "cell_type": "code",
   "execution_count": 22,
   "metadata": {},
   "outputs": [
    {
     "data": {
      "text/plain": [
       "5969"
      ]
     },
     "execution_count": 22,
     "metadata": {},
     "output_type": "execute_result"
    }
   ],
   "source": [
    "white_df = cms_merged_df[cms_merged_df['Percent One Race White'] > white_mean]\n",
    "len(white_df)"
   ]
  },
  {
   "cell_type": "code",
   "execution_count": 23,
   "metadata": {},
   "outputs": [
    {
     "data": {
      "text/plain": [
       "5159"
      ]
     },
     "execution_count": 23,
     "metadata": {},
     "output_type": "execute_result"
    }
   ],
   "source": [
    "black_df = black_df[~((black_df['Percent One Race White'] > white_mean) & (black_df['Percent One Race Black+'] > black_mean))]\n",
    "len(black_df)"
   ]
  },
  {
   "cell_type": "code",
   "execution_count": 24,
   "metadata": {},
   "outputs": [
    {
     "data": {
      "text/plain": [
       "5776"
      ]
     },
     "execution_count": 24,
     "metadata": {},
     "output_type": "execute_result"
    }
   ],
   "source": [
    "white_df = white_df[~((white_df['Percent One Race White'] > white_mean) & (white_df['Percent One Race Black+'] > black_mean))]\n",
    "len(white_df)"
   ]
  },
  {
   "cell_type": "code",
   "execution_count": 25,
   "metadata": {},
   "outputs": [
    {
     "data": {
      "text/html": [
       "<div>\n",
       "<style scoped>\n",
       "    .dataframe tbody tr th:only-of-type {\n",
       "        vertical-align: middle;\n",
       "    }\n",
       "\n",
       "    .dataframe tbody tr th {\n",
       "        vertical-align: top;\n",
       "    }\n",
       "\n",
       "    .dataframe thead th {\n",
       "        text-align: right;\n",
       "    }\n",
       "</style>\n",
       "<table border=\"1\" class=\"dataframe\">\n",
       "  <thead>\n",
       "    <tr style=\"text-align: right;\">\n",
       "      <th></th>\n",
       "      <th>Facility ID</th>\n",
       "      <th>Facility Name</th>\n",
       "      <th>Address</th>\n",
       "      <th>City</th>\n",
       "      <th>State_x</th>\n",
       "      <th>ZIP Code</th>\n",
       "      <th>County Name</th>\n",
       "      <th>Measure ID</th>\n",
       "      <th>Measure Name</th>\n",
       "      <th>Denominator</th>\n",
       "      <th>...</th>\n",
       "      <th>Percent One Race White</th>\n",
       "      <th>Percent One Race Black+</th>\n",
       "      <th>Percent One Race American Indian+</th>\n",
       "      <th>Percent One Race Asian</th>\n",
       "      <th>Percent One Race Hawaiian+</th>\n",
       "      <th>Percent One Race Some Other</th>\n",
       "      <th>Percent Two Race Or More</th>\n",
       "      <th>State Code</th>\n",
       "      <th>County Code</th>\n",
       "      <th>race_category</th>\n",
       "    </tr>\n",
       "  </thead>\n",
       "  <tbody>\n",
       "    <tr>\n",
       "      <th>304</th>\n",
       "      <td>230089</td>\n",
       "      <td>BEAUMONT HOSPITAL - GROSSE POINTE</td>\n",
       "      <td>468 CADIEUX RD</td>\n",
       "      <td>GROSSE POINTE</td>\n",
       "      <td>MI</td>\n",
       "      <td>48230</td>\n",
       "      <td>WAYNE</td>\n",
       "      <td>MORT_30_COPD</td>\n",
       "      <td>Death rate for COPD patients</td>\n",
       "      <td>496</td>\n",
       "      <td>...</td>\n",
       "      <td>53.1</td>\n",
       "      <td>38.7</td>\n",
       "      <td>0.3</td>\n",
       "      <td>3.4</td>\n",
       "      <td>0.0</td>\n",
       "      <td>1.9</td>\n",
       "      <td>2.5</td>\n",
       "      <td>26</td>\n",
       "      <td>163</td>\n",
       "      <td>B</td>\n",
       "    </tr>\n",
       "    <tr>\n",
       "      <th>305</th>\n",
       "      <td>23037F</td>\n",
       "      <td>DETROIT (JOHN D. DINGELL) VA MEDICAL CENTER</td>\n",
       "      <td>4646 JOHN R.</td>\n",
       "      <td>DETROIT</td>\n",
       "      <td>MI</td>\n",
       "      <td>48201</td>\n",
       "      <td>WAYNE</td>\n",
       "      <td>MORT_30_COPD</td>\n",
       "      <td>Death rate for COPD patients</td>\n",
       "      <td>239</td>\n",
       "      <td>...</td>\n",
       "      <td>53.1</td>\n",
       "      <td>38.7</td>\n",
       "      <td>0.3</td>\n",
       "      <td>3.4</td>\n",
       "      <td>0.0</td>\n",
       "      <td>1.9</td>\n",
       "      <td>2.5</td>\n",
       "      <td>26</td>\n",
       "      <td>163</td>\n",
       "      <td>B</td>\n",
       "    </tr>\n",
       "    <tr>\n",
       "      <th>306</th>\n",
       "      <td>230104</td>\n",
       "      <td>HARPER UNIVERSITY HOSPITAL</td>\n",
       "      <td>3990 JOHN R STREET</td>\n",
       "      <td>DETROIT</td>\n",
       "      <td>MI</td>\n",
       "      <td>48201</td>\n",
       "      <td>WAYNE</td>\n",
       "      <td>MORT_30_COPD</td>\n",
       "      <td>Death rate for COPD patients</td>\n",
       "      <td>293</td>\n",
       "      <td>...</td>\n",
       "      <td>53.1</td>\n",
       "      <td>38.7</td>\n",
       "      <td>0.3</td>\n",
       "      <td>3.4</td>\n",
       "      <td>0.0</td>\n",
       "      <td>1.9</td>\n",
       "      <td>2.5</td>\n",
       "      <td>26</td>\n",
       "      <td>163</td>\n",
       "      <td>B</td>\n",
       "    </tr>\n",
       "    <tr>\n",
       "      <th>307</th>\n",
       "      <td>230270</td>\n",
       "      <td>BEAUMONT HOSPITAL - TAYLOR</td>\n",
       "      <td>10000 TELEGRAPH ROAD</td>\n",
       "      <td>TAYLOR</td>\n",
       "      <td>MI</td>\n",
       "      <td>48180</td>\n",
       "      <td>WAYNE</td>\n",
       "      <td>MORT_30_COPD</td>\n",
       "      <td>Death rate for COPD patients</td>\n",
       "      <td>245</td>\n",
       "      <td>...</td>\n",
       "      <td>53.1</td>\n",
       "      <td>38.7</td>\n",
       "      <td>0.3</td>\n",
       "      <td>3.4</td>\n",
       "      <td>0.0</td>\n",
       "      <td>1.9</td>\n",
       "      <td>2.5</td>\n",
       "      <td>26</td>\n",
       "      <td>163</td>\n",
       "      <td>B</td>\n",
       "    </tr>\n",
       "    <tr>\n",
       "      <th>308</th>\n",
       "      <td>230142</td>\n",
       "      <td>BEAUMONT HOSPITAL - WAYNE</td>\n",
       "      <td>33155 ANNAPOLIS AVE</td>\n",
       "      <td>WAYNE</td>\n",
       "      <td>MI</td>\n",
       "      <td>48184</td>\n",
       "      <td>WAYNE</td>\n",
       "      <td>MORT_30_COPD</td>\n",
       "      <td>Death rate for COPD patients</td>\n",
       "      <td>311</td>\n",
       "      <td>...</td>\n",
       "      <td>53.1</td>\n",
       "      <td>38.7</td>\n",
       "      <td>0.3</td>\n",
       "      <td>3.4</td>\n",
       "      <td>0.0</td>\n",
       "      <td>1.9</td>\n",
       "      <td>2.5</td>\n",
       "      <td>26</td>\n",
       "      <td>163</td>\n",
       "      <td>B</td>\n",
       "    </tr>\n",
       "  </tbody>\n",
       "</table>\n",
       "<p>5 rows × 34 columns</p>\n",
       "</div>"
      ],
      "text/plain": [
       "    Facility ID                                Facility Name  \\\n",
       "304      230089            BEAUMONT HOSPITAL - GROSSE POINTE   \n",
       "305      23037F  DETROIT (JOHN D. DINGELL) VA MEDICAL CENTER   \n",
       "306      230104                   HARPER UNIVERSITY HOSPITAL   \n",
       "307      230270                   BEAUMONT HOSPITAL - TAYLOR   \n",
       "308      230142                    BEAUMONT HOSPITAL - WAYNE   \n",
       "\n",
       "                  Address           City State_x ZIP Code County Name  \\\n",
       "304        468 CADIEUX RD  GROSSE POINTE      MI    48230       WAYNE   \n",
       "305          4646 JOHN R.        DETROIT      MI    48201       WAYNE   \n",
       "306    3990 JOHN R STREET        DETROIT      MI    48201       WAYNE   \n",
       "307  10000 TELEGRAPH ROAD         TAYLOR      MI    48180       WAYNE   \n",
       "308   33155 ANNAPOLIS AVE          WAYNE      MI    48184       WAYNE   \n",
       "\n",
       "       Measure ID                  Measure Name Denominator  ...  \\\n",
       "304  MORT_30_COPD  Death rate for COPD patients         496  ...   \n",
       "305  MORT_30_COPD  Death rate for COPD patients         239  ...   \n",
       "306  MORT_30_COPD  Death rate for COPD patients         293  ...   \n",
       "307  MORT_30_COPD  Death rate for COPD patients         245  ...   \n",
       "308  MORT_30_COPD  Death rate for COPD patients         311  ...   \n",
       "\n",
       "    Percent One Race White Percent One Race Black+  \\\n",
       "304                   53.1                    38.7   \n",
       "305                   53.1                    38.7   \n",
       "306                   53.1                    38.7   \n",
       "307                   53.1                    38.7   \n",
       "308                   53.1                    38.7   \n",
       "\n",
       "    Percent One Race American Indian+ Percent One Race Asian  \\\n",
       "304                               0.3                    3.4   \n",
       "305                               0.3                    3.4   \n",
       "306                               0.3                    3.4   \n",
       "307                               0.3                    3.4   \n",
       "308                               0.3                    3.4   \n",
       "\n",
       "    Percent One Race Hawaiian+ Percent One Race Some Other  \\\n",
       "304                        0.0                         1.9   \n",
       "305                        0.0                         1.9   \n",
       "306                        0.0                         1.9   \n",
       "307                        0.0                         1.9   \n",
       "308                        0.0                         1.9   \n",
       "\n",
       "    Percent Two Race Or More State Code County Code race_category  \n",
       "304                      2.5         26         163             B  \n",
       "305                      2.5         26         163             B  \n",
       "306                      2.5         26         163             B  \n",
       "307                      2.5         26         163             B  \n",
       "308                      2.5         26         163             B  \n",
       "\n",
       "[5 rows x 34 columns]"
      ]
     },
     "execution_count": 25,
     "metadata": {},
     "output_type": "execute_result"
    }
   ],
   "source": [
    "black_df = black_df.assign(race_category=\"B\")\n",
    "black_df.head()"
   ]
  },
  {
   "cell_type": "code",
   "execution_count": 26,
   "metadata": {},
   "outputs": [
    {
     "data": {
      "text/html": [
       "<div>\n",
       "<style scoped>\n",
       "    .dataframe tbody tr th:only-of-type {\n",
       "        vertical-align: middle;\n",
       "    }\n",
       "\n",
       "    .dataframe tbody tr th {\n",
       "        vertical-align: top;\n",
       "    }\n",
       "\n",
       "    .dataframe thead th {\n",
       "        text-align: right;\n",
       "    }\n",
       "</style>\n",
       "<table border=\"1\" class=\"dataframe\">\n",
       "  <thead>\n",
       "    <tr style=\"text-align: right;\">\n",
       "      <th></th>\n",
       "      <th>Facility ID</th>\n",
       "      <th>Facility Name</th>\n",
       "      <th>Address</th>\n",
       "      <th>City</th>\n",
       "      <th>State_x</th>\n",
       "      <th>ZIP Code</th>\n",
       "      <th>County Name</th>\n",
       "      <th>Measure ID</th>\n",
       "      <th>Measure Name</th>\n",
       "      <th>Denominator</th>\n",
       "      <th>...</th>\n",
       "      <th>Percent One Race White</th>\n",
       "      <th>Percent One Race Black+</th>\n",
       "      <th>Percent One Race American Indian+</th>\n",
       "      <th>Percent One Race Asian</th>\n",
       "      <th>Percent One Race Hawaiian+</th>\n",
       "      <th>Percent One Race Some Other</th>\n",
       "      <th>Percent Two Race Or More</th>\n",
       "      <th>State Code</th>\n",
       "      <th>County Code</th>\n",
       "      <th>race_category</th>\n",
       "    </tr>\n",
       "  </thead>\n",
       "  <tbody>\n",
       "    <tr>\n",
       "      <th>298</th>\n",
       "      <td>140034</td>\n",
       "      <td>SSM HEALTH ST MARY'S HOSPITAL -CENTRALIA</td>\n",
       "      <td>400 NORTH PLEASANT AVENUE</td>\n",
       "      <td>CENTRALIA</td>\n",
       "      <td>IL</td>\n",
       "      <td>62801</td>\n",
       "      <td>MARION</td>\n",
       "      <td>MORT_30_COPD</td>\n",
       "      <td>Death rate for COPD patients</td>\n",
       "      <td>531</td>\n",
       "      <td>...</td>\n",
       "      <td>92.5</td>\n",
       "      <td>3.7</td>\n",
       "      <td>0.2</td>\n",
       "      <td>0.6</td>\n",
       "      <td>0.0</td>\n",
       "      <td>0.5</td>\n",
       "      <td>2.5</td>\n",
       "      <td>17</td>\n",
       "      <td>121</td>\n",
       "      <td>W</td>\n",
       "    </tr>\n",
       "    <tr>\n",
       "      <th>299</th>\n",
       "      <td>141345</td>\n",
       "      <td>SALEM TOWNSHIP HOSPITAL</td>\n",
       "      <td>1201 RICKER DRIVE</td>\n",
       "      <td>SALEM</td>\n",
       "      <td>IL</td>\n",
       "      <td>62881</td>\n",
       "      <td>MARION</td>\n",
       "      <td>MORT_30_COPD</td>\n",
       "      <td>Death rate for COPD patients</td>\n",
       "      <td>47</td>\n",
       "      <td>...</td>\n",
       "      <td>92.5</td>\n",
       "      <td>3.7</td>\n",
       "      <td>0.2</td>\n",
       "      <td>0.6</td>\n",
       "      <td>0.0</td>\n",
       "      <td>0.5</td>\n",
       "      <td>2.5</td>\n",
       "      <td>17</td>\n",
       "      <td>121</td>\n",
       "      <td>W</td>\n",
       "    </tr>\n",
       "    <tr>\n",
       "      <th>300</th>\n",
       "      <td>140034</td>\n",
       "      <td>SSM HEALTH ST MARY'S HOSPITAL -CENTRALIA</td>\n",
       "      <td>400 NORTH PLEASANT AVENUE</td>\n",
       "      <td>CENTRALIA</td>\n",
       "      <td>IL</td>\n",
       "      <td>62801</td>\n",
       "      <td>MARION</td>\n",
       "      <td>MORT_30_HF</td>\n",
       "      <td>Death rate for heart failure patients</td>\n",
       "      <td>304</td>\n",
       "      <td>...</td>\n",
       "      <td>92.5</td>\n",
       "      <td>3.7</td>\n",
       "      <td>0.2</td>\n",
       "      <td>0.6</td>\n",
       "      <td>0.0</td>\n",
       "      <td>0.5</td>\n",
       "      <td>2.5</td>\n",
       "      <td>17</td>\n",
       "      <td>121</td>\n",
       "      <td>W</td>\n",
       "    </tr>\n",
       "    <tr>\n",
       "      <th>301</th>\n",
       "      <td>140034</td>\n",
       "      <td>SSM HEALTH ST MARY'S HOSPITAL -CENTRALIA</td>\n",
       "      <td>400 NORTH PLEASANT AVENUE</td>\n",
       "      <td>CENTRALIA</td>\n",
       "      <td>IL</td>\n",
       "      <td>62801</td>\n",
       "      <td>MARION</td>\n",
       "      <td>MORT_30_AMI</td>\n",
       "      <td>Death rate for heart attack patients</td>\n",
       "      <td>51</td>\n",
       "      <td>...</td>\n",
       "      <td>92.5</td>\n",
       "      <td>3.7</td>\n",
       "      <td>0.2</td>\n",
       "      <td>0.6</td>\n",
       "      <td>0.0</td>\n",
       "      <td>0.5</td>\n",
       "      <td>2.5</td>\n",
       "      <td>17</td>\n",
       "      <td>121</td>\n",
       "      <td>W</td>\n",
       "    </tr>\n",
       "    <tr>\n",
       "      <th>302</th>\n",
       "      <td>141345</td>\n",
       "      <td>SALEM TOWNSHIP HOSPITAL</td>\n",
       "      <td>1201 RICKER DRIVE</td>\n",
       "      <td>SALEM</td>\n",
       "      <td>IL</td>\n",
       "      <td>62881</td>\n",
       "      <td>MARION</td>\n",
       "      <td>MORT_30_PN</td>\n",
       "      <td>Death rate for pneumonia patients</td>\n",
       "      <td>70</td>\n",
       "      <td>...</td>\n",
       "      <td>92.5</td>\n",
       "      <td>3.7</td>\n",
       "      <td>0.2</td>\n",
       "      <td>0.6</td>\n",
       "      <td>0.0</td>\n",
       "      <td>0.5</td>\n",
       "      <td>2.5</td>\n",
       "      <td>17</td>\n",
       "      <td>121</td>\n",
       "      <td>W</td>\n",
       "    </tr>\n",
       "  </tbody>\n",
       "</table>\n",
       "<p>5 rows × 34 columns</p>\n",
       "</div>"
      ],
      "text/plain": [
       "    Facility ID                             Facility Name  \\\n",
       "298      140034  SSM HEALTH ST MARY'S HOSPITAL -CENTRALIA   \n",
       "299      141345                   SALEM TOWNSHIP HOSPITAL   \n",
       "300      140034  SSM HEALTH ST MARY'S HOSPITAL -CENTRALIA   \n",
       "301      140034  SSM HEALTH ST MARY'S HOSPITAL -CENTRALIA   \n",
       "302      141345                   SALEM TOWNSHIP HOSPITAL   \n",
       "\n",
       "                       Address       City State_x ZIP Code County Name  \\\n",
       "298  400 NORTH PLEASANT AVENUE  CENTRALIA      IL    62801      MARION   \n",
       "299          1201 RICKER DRIVE      SALEM      IL    62881      MARION   \n",
       "300  400 NORTH PLEASANT AVENUE  CENTRALIA      IL    62801      MARION   \n",
       "301  400 NORTH PLEASANT AVENUE  CENTRALIA      IL    62801      MARION   \n",
       "302          1201 RICKER DRIVE      SALEM      IL    62881      MARION   \n",
       "\n",
       "       Measure ID                           Measure Name Denominator  ...  \\\n",
       "298  MORT_30_COPD           Death rate for COPD patients         531  ...   \n",
       "299  MORT_30_COPD           Death rate for COPD patients          47  ...   \n",
       "300    MORT_30_HF  Death rate for heart failure patients         304  ...   \n",
       "301   MORT_30_AMI   Death rate for heart attack patients          51  ...   \n",
       "302    MORT_30_PN      Death rate for pneumonia patients          70  ...   \n",
       "\n",
       "    Percent One Race White Percent One Race Black+  \\\n",
       "298                   92.5                     3.7   \n",
       "299                   92.5                     3.7   \n",
       "300                   92.5                     3.7   \n",
       "301                   92.5                     3.7   \n",
       "302                   92.5                     3.7   \n",
       "\n",
       "    Percent One Race American Indian+ Percent One Race Asian  \\\n",
       "298                               0.2                    0.6   \n",
       "299                               0.2                    0.6   \n",
       "300                               0.2                    0.6   \n",
       "301                               0.2                    0.6   \n",
       "302                               0.2                    0.6   \n",
       "\n",
       "    Percent One Race Hawaiian+ Percent One Race Some Other  \\\n",
       "298                        0.0                         0.5   \n",
       "299                        0.0                         0.5   \n",
       "300                        0.0                         0.5   \n",
       "301                        0.0                         0.5   \n",
       "302                        0.0                         0.5   \n",
       "\n",
       "    Percent Two Race Or More State Code County Code race_category  \n",
       "298                      2.5         17         121             W  \n",
       "299                      2.5         17         121             W  \n",
       "300                      2.5         17         121             W  \n",
       "301                      2.5         17         121             W  \n",
       "302                      2.5         17         121             W  \n",
       "\n",
       "[5 rows x 34 columns]"
      ]
     },
     "execution_count": 26,
     "metadata": {},
     "output_type": "execute_result"
    }
   ],
   "source": [
    "white_df = white_df.assign(race_category=\"W\")\n",
    "white_df.head()"
   ]
  },
  {
   "cell_type": "code",
   "execution_count": 27,
   "metadata": {},
   "outputs": [
    {
     "data": {
      "text/plain": [
       "10935"
      ]
     },
     "execution_count": 27,
     "metadata": {},
     "output_type": "execute_result"
    }
   ],
   "source": [
    "white_black_df = pd.concat([white_df, black_df])\n",
    "len(white_black_df)"
   ]
  },
  {
   "cell_type": "code",
   "execution_count": null,
   "metadata": {},
   "outputs": [],
   "source": []
  },
  {
   "cell_type": "code",
   "execution_count": null,
   "metadata": {},
   "outputs": [],
   "source": []
  },
  {
   "cell_type": "code",
   "execution_count": null,
   "metadata": {},
   "outputs": [],
   "source": []
  },
  {
   "cell_type": "code",
   "execution_count": null,
   "metadata": {},
   "outputs": [],
   "source": []
  },
  {
   "cell_type": "code",
   "execution_count": null,
   "metadata": {},
   "outputs": [],
   "source": []
  },
  {
   "cell_type": "code",
   "execution_count": null,
   "metadata": {},
   "outputs": [],
   "source": []
  },
  {
   "cell_type": "code",
   "execution_count": null,
   "metadata": {},
   "outputs": [],
   "source": []
  },
  {
   "cell_type": "code",
   "execution_count": 28,
   "metadata": {},
   "outputs": [],
   "source": [
    "white_black_df = white_black_df.rename(\n",
    "        columns={\n",
    "            \"Facility ID\": \"facility_id\",\n",
    "            \"Facility Name\": \"facility_name\",\n",
    "            \"Address\": \"address\",\n",
    "            \"City\": \"city\",\n",
    "            \"State_x\": \"state\",\n",
    "            \"State_y\": \"state_name\",\n",
    "            \"ZIP Code\": \"zip_code\",\n",
    "            \"County Name\": \"county_name\",\n",
    "            \"Measure ID\": \"measure_id\",\n",
    "            \"Measure Name\": \"measure_name\",\n",
    "            \"Denominator\": \"denominator\",\n",
    "            \"Score\": \"score\",\n",
    "            \"Lower Estimate\": \"lower_estimate\",\n",
    "            \"Higher Estimate\": \"higher_estimate\",\n",
    "            \"Start Date\": \"start_date\",\n",
    "            \"End Date\": \"end_date\",\n",
    "            \"Household Median Income\": \"household_median_income\",\n",
    "            \"Family's Median Income\": \"family_median_income\",\n",
    "            \"Total Population\": \"total_population\",\n",
    "            \"Percent Poverty\": \"percent_poverty\",\n",
    "            \"Percent Veteran\": \"percent_veteran\",\n",
    "            \"Percent Married\": \"percent_married\",\n",
    "            \"Percent Bachelor\": \"percent_bachelor\",\n",
    "            \"Percent One Race White\": \"percent_white\",\n",
    "            \"Percent One Race Black+\": \"percent_black\",\n",
    "            \"Percent One Race American Indian+\": \"percent_american_indian\",\n",
    "            \"Percent One Race Asian\": \"percent_asian\",\n",
    "            \"Percent One Race Hawaiian+\": \"percent_hawaiian\",\n",
    "            \"Percent One Race Some Other\": \"percent_some_other\",\n",
    "            \"Percent Two Race Or More\": \"percent_two_or_more\",\n",
    "            \"State Code\": \"state_code\",\n",
    "            \"County Code\": \"county_code\"\n",
    "        }\n",
    ")"
   ]
  },
  {
   "cell_type": "code",
   "execution_count": 29,
   "metadata": {},
   "outputs": [
    {
     "data": {
      "text/plain": [
       "Index(['facility_id', 'facility_name', 'address', 'city', 'state', 'zip_code',\n",
       "       'county_name', 'measure_id', 'measure_name', 'denominator', 'score',\n",
       "       'lower_estimate', 'higher_estimate', 'start_date', 'end_date',\n",
       "       'state_name', 'State Abbr', 'household_median_income',\n",
       "       'family_median_income', 'total_population', 'percent_poverty',\n",
       "       'percent_veteran', 'percent_married', 'percent_bachelor',\n",
       "       'percent_white', 'percent_black', 'percent_american_indian',\n",
       "       'percent_asian', 'percent_hawaiian', 'percent_some_other',\n",
       "       'percent_two_or_more', 'state_code', 'county_code', 'race_category'],\n",
       "      dtype='object')"
      ]
     },
     "execution_count": 29,
     "metadata": {},
     "output_type": "execute_result"
    }
   ],
   "source": [
    "white_black_df.columns"
   ]
  },
  {
   "cell_type": "code",
   "execution_count": 30,
   "metadata": {},
   "outputs": [],
   "source": [
    "white_black_df = white_black_df[[\n",
    "    \"facility_id\",\n",
    "    \"facility_name\",\n",
    "    \"address\",\n",
    "    \"city\",\n",
    "    \"state\",\n",
    "    \"state_name\",\n",
    "    \"zip_code\",\n",
    "    \"county_name\",\n",
    "    \"measure_id\",\n",
    "    \"measure_name\",\n",
    "    \"denominator\",\n",
    "    \"score\",\n",
    "    \"lower_estimate\",\n",
    "    \"higher_estimate\",\n",
    "    \"start_date\",\n",
    "    \"end_date\",\n",
    "    \"race_category\",\n",
    "    \"household_median_income\",\n",
    "    \"family_median_income\",\n",
    "    \"total_population\",\n",
    "    \"percent_poverty\",\n",
    "    \"percent_veteran\",\n",
    "    \"percent_married\",\n",
    "    \"percent_bachelor\",\n",
    "    \"percent_white\",\n",
    "    \"percent_black\",\n",
    "    \"percent_american_indian\",\n",
    "    \"percent_asian\",\n",
    "    \"percent_hawaiian\",\n",
    "    \"percent_some_other\",\n",
    "    \"percent_two_or_more\",\n",
    "    \"state_code\",\n",
    "    \"county_code\"        \n",
    "]]"
   ]
  },
  {
   "cell_type": "code",
   "execution_count": 31,
   "metadata": {},
   "outputs": [
    {
     "data": {
      "text/plain": [
       "Index(['facility_id', 'facility_name', 'address', 'city', 'state',\n",
       "       'state_name', 'zip_code', 'county_name', 'measure_id', 'measure_name',\n",
       "       'denominator', 'score', 'lower_estimate', 'higher_estimate',\n",
       "       'start_date', 'end_date', 'race_category', 'household_median_income',\n",
       "       'family_median_income', 'total_population', 'percent_poverty',\n",
       "       'percent_veteran', 'percent_married', 'percent_bachelor',\n",
       "       'percent_white', 'percent_black', 'percent_american_indian',\n",
       "       'percent_asian', 'percent_hawaiian', 'percent_some_other',\n",
       "       'percent_two_or_more', 'state_code', 'county_code'],\n",
       "      dtype='object')"
      ]
     },
     "execution_count": 31,
     "metadata": {},
     "output_type": "execute_result"
    }
   ],
   "source": [
    "white_black_df.columns"
   ]
  },
  {
   "cell_type": "code",
   "execution_count": 32,
   "metadata": {},
   "outputs": [
    {
     "name": "stdout",
     "output_type": "stream",
     "text": [
      "2021-02-04 20:32:44,260 INFO sqlalchemy.engine.base.Engine PRAGMA main.table_info(\"cms\")\n",
      "2021-02-04 20:32:44,263 INFO sqlalchemy.engine.base.Engine ()\n",
      "2021-02-04 20:32:44,349 INFO sqlalchemy.engine.base.Engine BEGIN (implicit)\n",
      "2021-02-04 20:32:45,735 INFO sqlalchemy.engine.base.Engine INSERT INTO cms (facility_id, facility_name, address, city, state, state_name, zip_code, county_name, measure_id, measure_name, denominator, score, lower_estimate, higher_estimate, start_date, end_date, race_category, household_median_income, family_median_income, total_population, percent_poverty, percent_veteran, percent_married, percent_bachelor, percent_white, percent_black, percent_american_indian, percent_asian, percent_hawaiian, percent_some_other, percent_two_or_more, state_code, county_code) VALUES (?, ?, ?, ?, ?, ?, ?, ?, ?, ?, ?, ?, ?, ?, ?, ?, ?, ?, ?, ?, ?, ?, ?, ?, ?, ?, ?, ?, ?, ?, ?, ?, ?)\n",
      "2021-02-04 20:32:45,737 INFO sqlalchemy.engine.base.Engine (('140034', \"SSM HEALTH ST MARY'S HOSPITAL -CENTRALIA\", '400 NORTH PLEASANT AVENUE', 'CENTRALIA', 'IL', 'Illinois', '62801', 'MARION', 'MORT_30_COPD', 'Death rate for COPD patients', '531', '5.2', '3.9', '6.8', '7/1/2016', '6/30/2019', 'W', '47519', '60645', '37743', '17.7', '9.3', '49.5', '15.2', 92.5, 3.7, '0.2', '0.6', '0.0', '0.5', '2.5', '17', '121'), ('141345', 'SALEM TOWNSHIP HOSPITAL', '1201 RICKER DRIVE', 'SALEM', 'IL', 'Illinois', '62881', 'MARION', 'MORT_30_COPD', 'Death rate for COPD patients', '47', '8.8', '6', '12.9', '7/1/2016', '6/30/2019', 'W', '47519', '60645', '37743', '17.7', '9.3', '49.5', '15.2', 92.5, 3.7, '0.2', '0.6', '0.0', '0.5', '2.5', '17', '121'), ('140034', \"SSM HEALTH ST MARY'S HOSPITAL -CENTRALIA\", '400 NORTH PLEASANT AVENUE', 'CENTRALIA', 'IL', 'Illinois', '62801', 'MARION', 'MORT_30_HF', 'Death rate for heart failure patients', '304', '12.4', '9.8', '15.5', '7/1/2016', '6/30/2019', 'W', '47519', '60645', '37743', '17.7', '9.3', '49.5', '15.2', 92.5, 3.7, '0.2', '0.6', '0.0', '0.5', '2.5', '17', '121'), ('140034', \"SSM HEALTH ST MARY'S HOSPITAL -CENTRALIA\", '400 NORTH PLEASANT AVENUE', 'CENTRALIA', 'IL', 'Illinois', '62801', 'MARION', 'MORT_30_AMI', 'Death rate for heart attack patients', '51', '12.5', '9.9', '15.5', '7/1/2016', '6/30/2019', 'W', '47519', '60645', '37743', '17.7', '9.3', '49.5', '15.2', 92.5, 3.7, '0.2', '0.6', '0.0', '0.5', '2.5', '17', '121'), ('141345', 'SALEM TOWNSHIP HOSPITAL', '1201 RICKER DRIVE', 'SALEM', 'IL', 'Illinois', '62881', 'MARION', 'MORT_30_PN', 'Death rate for pneumonia patients', '70', '13.5', '9.9', '18.4', '7/1/2016', '6/30/2019', 'W', '47519', '60645', '37743', '17.7', '9.3', '49.5', '15.2', 92.5, 3.7, '0.2', '0.6', '0.0', '0.5', '2.5', '17', '121'), ('140034', \"SSM HEALTH ST MARY'S HOSPITAL -CENTRALIA\", '400 NORTH PLEASANT AVENUE', 'CENTRALIA', 'IL', 'Illinois', '62801', 'MARION', 'MORT_30_PN', 'Death rate for pneumonia patients', '509', '14.2', '11.8', '17', '7/1/2016', '6/30/2019', 'W', '47519', '60645', '37743', '17.7', '9.3', '49.5', '15.2', 92.5, 3.7, '0.2', '0.6', '0.0', '0.5', '2.5', '17', '121'), ('220020', \"SAINT ANNE'S HOSPITAL\", '795 MIDDLE STREET', 'FALL RIVER', 'MA', 'Massachusetts', '2721', 'BRISTOL', 'MORT_30_COPD', 'Death rate for COPD patients', '304', '5.9', '4.3', '8', '7/1/2016', '6/30/2019', 'W', '69095', '87136', '561037', '11.3', '6.5', '46.6', '28.7', 84.1, 4.3, '0.1', '2.3', '0.1', '6.2', '3.0', '25', '005'), ('220074', 'SOUTHCOAST HOSPITALS GROUP', '363 HIGHLAND AVENUE', 'FALL RIVER', 'MA', 'Massachusetts', '2720', 'BRISTOL', 'MORT_30_COPD', 'Death rate for COPD patients', '1581', '6.5', '5.4', '7.6', '7/1/2016', '6/30/2019', 'W', '69095', '87136', '561037', '11.3', '6.5', '46.6', '28.7', 84.1, 4.3, '0.1', '2.3', '0.1', '6.2', '3.0', '25', '005')  ... displaying 10 of 10935 total bound parameter sets ...  ('111314', 'LIFEBRITE COMMUNITY HOSPITAL OF EARLY', '11740 COLUMBIA STREET', 'BLAKELY', 'GA', 'Georgia', '39823', 'EARLY', 'MORT_30_PN', 'Death rate for pneumonia patients', '30', '19.2', '13.3', '26.9', '7/1/2016', '6/30/2019', 'B', '30640', '42232', '10312', '30.5', '6.4', '37.7', '15.1', 45.3, 52.5, '0.3', '0.6', '0.0', '0.0', '1.4', '13', '099'), ('341314', 'WASHINGTON COUNTY HOSP INC', '958 US HWY 64 EAST', 'PLYMOUTH', 'NC', 'North Carolina', '27962', 'WASHINGTON', 'MORT_30_PN', 'Death rate for pneumonia patients', '35', '21.8', '15.7', '29.3', '7/1/2016', '6/30/2019', 'B', '35979', '48774', '11922', '22.3', '9.9', '35.3', '11.5', 45.7, 47.5, '0.3', '0.2', '0.0', '1.9', '4.4', '37', '187'))\n",
      "2021-02-04 20:32:46,498 INFO sqlalchemy.engine.base.Engine COMMIT\n"
     ]
    }
   ],
   "source": [
    "white_black_df.to_sql(\"cms\", conn, if_exists=\"append\", index=False)"
   ]
  },
  {
   "cell_type": "code",
   "execution_count": null,
   "metadata": {},
   "outputs": [],
   "source": []
  }
 ],
 "metadata": {
  "kernelspec": {
   "display_name": "Python 3",
   "language": "python",
   "name": "python3"
  },
  "language_info": {
   "codemirror_mode": {
    "name": "ipython",
    "version": 3
   },
   "file_extension": ".py",
   "mimetype": "text/x-python",
   "name": "python",
   "nbconvert_exporter": "python",
   "pygments_lexer": "ipython3",
   "version": "3.6.10"
  }
 },
 "nbformat": 4,
 "nbformat_minor": 4
}
