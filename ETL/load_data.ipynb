{
 "cells": [
  {
   "cell_type": "code",
   "execution_count": 1,
   "metadata": {},
   "outputs": [],
   "source": [
    "from sqlalchemy import create_engine\n",
    "import pandas as pd"
   ]
  },
  {
   "cell_type": "code",
   "execution_count": 2,
   "metadata": {},
   "outputs": [
    {
     "name": "stdout",
     "output_type": "stream",
     "text": [
      "2021-02-01 22:23:58,012 INFO sqlalchemy.engine.base.Engine SELECT CAST('test plain returns' AS VARCHAR(60)) AS anon_1\n",
      "2021-02-01 22:23:58,015 INFO sqlalchemy.engine.base.Engine ()\n",
      "2021-02-01 22:23:58,017 INFO sqlalchemy.engine.base.Engine SELECT CAST('test unicode returns' AS VARCHAR(60)) AS anon_1\n",
      "2021-02-01 22:23:58,018 INFO sqlalchemy.engine.base.Engine ()\n"
     ]
    }
   ],
   "source": [
    "engine = create_engine(\"sqlite:///../data/cms.db\", echo=True)\n",
    "conn = engine.connect()"
   ]
  },
  {
   "cell_type": "code",
   "execution_count": 7,
   "metadata": {
    "scrolled": true
   },
   "outputs": [
    {
     "name": "stdout",
     "output_type": "stream",
     "text": [
      "2021-02-01 22:40:44,326 INFO sqlalchemy.engine.base.Engine \n",
      "CREATE TABLE IF NOT EXISTS cms (\n",
      "    cms_id INTEGER PRIMARY KEY AUTOINCREMENT ,\n",
      "    facility_id TEXT NOT NULL ,\n",
      "    facility_name TEXT NOT NULL ,\n",
      "    address TEXT NOT NULL ,\n",
      "    city TEXT NOT NULL ,\n",
      "    state TEXT NOT NULL ,\n",
      "    zip_code TEXT NOT NULL ,\n",
      "    county_name TEXT NOT NULL ,\n",
      "    measure_id TEXT  NOT NULL ,\n",
      "    measure_name TEXT  NOT NULL ,\n",
      "    denominator INTEGER  NOT NULL ,\n",
      "    score REAL  NOT NULL ,\n",
      "    lower_estimate REAL  NOT NULL ,\n",
      "    higher_estimate REAL  NOT NULL ,\n",
      "    start_date TEXT NOT NULL ,\n",
      "    end_date TEXT NOT NULL ,\n",
      "    household_median_income INTEGER NOT NULL ,\n",
      "    family_median_income INTEGER NOT NULL ,\n",
      "    total_population INTEGER NOT NULL ,\n",
      "    percent_poverty REAL  NOT NULL ,\n",
      "    percent_veteran REAL  NOT NULL ,\n",
      "    percent_married REAL  NOT NULL ,\n",
      "    percent_bachelor REAL  NOT NULL ,\n",
      "    percent_white REAL  NOT NULL ,\n",
      "    percent_black REAL  NOT NULL ,\n",
      "    percent_american_indian REAL  NOT NULL ,\n",
      "    percent_asian REAL  NOT NULL ,\n",
      "    percent_hawaiian REAL  NOT NULL ,\n",
      "    percent_some_other REAL  NOT NULL ,\n",
      "    percent_two_or_more REAL  NOT NULL ,\n",
      "    state_code TEXT  NOT NULL ,\n",
      "    county_code TEXT  NOT NULL \n",
      ")\n",
      "\n"
     ]
    },
    {
     "name": "stderr",
     "output_type": "stream",
     "text": [
      "INFO:sqlalchemy.engine.base.Engine:\n",
      "CREATE TABLE IF NOT EXISTS cms (\n",
      "    cms_id INTEGER PRIMARY KEY AUTOINCREMENT ,\n",
      "    facility_id TEXT NOT NULL ,\n",
      "    facility_name TEXT NOT NULL ,\n",
      "    address TEXT NOT NULL ,\n",
      "    city TEXT NOT NULL ,\n",
      "    state TEXT NOT NULL ,\n",
      "    zip_code TEXT NOT NULL ,\n",
      "    county_name TEXT NOT NULL ,\n",
      "    measure_id TEXT  NOT NULL ,\n",
      "    measure_name TEXT  NOT NULL ,\n",
      "    denominator INTEGER  NOT NULL ,\n",
      "    score REAL  NOT NULL ,\n",
      "    lower_estimate REAL  NOT NULL ,\n",
      "    higher_estimate REAL  NOT NULL ,\n",
      "    start_date TEXT NOT NULL ,\n",
      "    end_date TEXT NOT NULL ,\n",
      "    household_median_income INTEGER NOT NULL ,\n",
      "    family_median_income INTEGER NOT NULL ,\n",
      "    total_population INTEGER NOT NULL ,\n",
      "    percent_poverty REAL  NOT NULL ,\n",
      "    percent_veteran REAL  NOT NULL ,\n",
      "    percent_married REAL  NOT NULL ,\n",
      "    percent_bachelor REAL  NOT NULL ,\n",
      "    percent_white REAL  NOT NULL ,\n",
      "    percent_black REAL  NOT NULL ,\n",
      "    percent_american_indian REAL  NOT NULL ,\n",
      "    percent_asian REAL  NOT NULL ,\n",
      "    percent_hawaiian REAL  NOT NULL ,\n",
      "    percent_some_other REAL  NOT NULL ,\n",
      "    percent_two_or_more REAL  NOT NULL ,\n",
      "    state_code TEXT  NOT NULL ,\n",
      "    county_code TEXT  NOT NULL \n",
      ")\n",
      "\n"
     ]
    },
    {
     "name": "stdout",
     "output_type": "stream",
     "text": [
      "2021-02-01 22:40:44,329 INFO sqlalchemy.engine.base.Engine ()\n"
     ]
    },
    {
     "name": "stderr",
     "output_type": "stream",
     "text": [
      "INFO:sqlalchemy.engine.base.Engine:()\n"
     ]
    },
    {
     "name": "stdout",
     "output_type": "stream",
     "text": [
      "2021-02-01 22:40:44,348 INFO sqlalchemy.engine.base.Engine COMMIT\n"
     ]
    },
    {
     "name": "stderr",
     "output_type": "stream",
     "text": [
      "INFO:sqlalchemy.engine.base.Engine:COMMIT\n"
     ]
    },
    {
     "data": {
      "text/plain": [
       "<sqlalchemy.engine.result.ResultProxy at 0x20ab3d42c18>"
      ]
     },
     "execution_count": 7,
     "metadata": {},
     "output_type": "execute_result"
    }
   ],
   "source": [
    "#conn.execute(\"\"\"DROP TABLE CMS\"\"\")\n",
    "# Create the table - note that if we use automap_base, the table must have primary key!\n",
    "conn.execute(\"\"\"\n",
    "CREATE TABLE IF NOT EXISTS cms (\n",
    "    cms_id INTEGER PRIMARY KEY AUTOINCREMENT ,\n",
    "    facility_id TEXT NOT NULL ,\n",
    "    facility_name TEXT NOT NULL ,\n",
    "    address TEXT NOT NULL ,\n",
    "    city TEXT NOT NULL ,\n",
    "    state TEXT NOT NULL ,\n",
    "    zip_code TEXT NOT NULL ,\n",
    "    county_name TEXT NOT NULL ,\n",
    "    measure_id TEXT  NOT NULL ,\n",
    "    measure_name TEXT  NOT NULL ,\n",
    "    denominator INTEGER  NOT NULL ,\n",
    "    score REAL  NOT NULL ,\n",
    "    lower_estimate REAL  NOT NULL ,\n",
    "    higher_estimate REAL  NOT NULL ,\n",
    "    start_date TEXT NOT NULL ,\n",
    "    end_date TEXT NOT NULL ,\n",
    "    household_median_income INTEGER NOT NULL ,\n",
    "    family_median_income INTEGER NOT NULL ,\n",
    "    total_population INTEGER NOT NULL ,\n",
    "    percent_poverty REAL  NOT NULL ,\n",
    "    percent_veteran REAL  NOT NULL ,\n",
    "    percent_married REAL  NOT NULL ,\n",
    "    percent_bachelor REAL  NOT NULL ,\n",
    "    percent_white REAL  NOT NULL ,\n",
    "    percent_black REAL  NOT NULL ,\n",
    "    percent_american_indian REAL  NOT NULL ,\n",
    "    percent_asian REAL  NOT NULL ,\n",
    "    percent_hawaiian REAL  NOT NULL ,\n",
    "    percent_some_other REAL  NOT NULL ,\n",
    "    percent_two_or_more REAL  NOT NULL ,\n",
    "    state_code TEXT  NOT NULL ,\n",
    "    county_code TEXT  NOT NULL \n",
    ")\n",
    "\"\"\")"
   ]
  },
  {
   "cell_type": "code",
   "execution_count": 14,
   "metadata": {},
   "outputs": [],
   "source": [
    "# Read in target dataframes\n",
    "census_df = pd.read_csv(\"../ETL/ETL-Results/census_data.csv\", dtype=str)\n",
    "cms_df = pd.read_csv(\"../ETL/ETL-Results/four_mort_measures.csv\", dtype=str)"
   ]
  },
  {
   "cell_type": "code",
   "execution_count": 15,
   "metadata": {},
   "outputs": [],
   "source": [
    "# Remove Some Items due to county issues\n",
    "cms_df = cms_df[cms_df[\"State\"] != \"PR\"]\n",
    "cms_df = cms_df[cms_df[\"State\"] != \"GU\"]\n",
    "cms_df = cms_df[cms_df[\"State\"] != \"MP\"]\n",
    "cms_df = cms_df[cms_df[\"State\"] != \"VI\"]"
   ]
  },
  {
   "cell_type": "code",
   "execution_count": 16,
   "metadata": {},
   "outputs": [
    {
     "data": {
      "text/plain": [
       "13478"
      ]
     },
     "execution_count": 16,
     "metadata": {},
     "output_type": "execute_result"
    }
   ],
   "source": [
    "len(cms_df)"
   ]
  },
  {
   "cell_type": "code",
   "execution_count": 18,
   "metadata": {},
   "outputs": [],
   "source": [
    "# Remove Some Items due to county issues\n",
    "cms_df = cms_df[cms_df[\"State\"] != \"PR\"]\n",
    "cms_df = cms_df[cms_df[\"State\"] != \"GU\"]\n",
    "cms_df = cms_df[cms_df[\"State\"] != \"MP\"]\n",
    "cms_df = cms_df[cms_df[\"State\"] != \"VI\"]\n",
    "\n",
    "cms_df = cms_df[cms_df[\"County Name\"] != \"OBRIEN\"]\n",
    "cms_df = cms_df[cms_df[\"County Name\"] != \"JEFFRSON DAVIS\"]\n",
    "\n",
    "cms_df = cms_df[(cms_df[\"County Name\"] != \"LASALLE\")\n",
    "                & (cms_df[\"State\"] != \"LA\")]\n",
    "cms_df = cms_df[(cms_df[\"County Name\"] != \"ST. MARYS\")\n",
    "                & (cms_df[\"State\"] != \"MD\")]\n",
    "cms_df = cms_df[(cms_df[\"County Name\"] != \"MCLEAN\")\n",
    "                & (cms_df[\"State\"] != \"MD\")]"
   ]
  },
  {
   "cell_type": "code",
   "execution_count": 19,
   "metadata": {},
   "outputs": [
    {
     "data": {
      "text/plain": [
       "13013"
      ]
     },
     "execution_count": 19,
     "metadata": {},
     "output_type": "execute_result"
    }
   ],
   "source": [
    "len(cms_df)"
   ]
  },
  {
   "cell_type": "code",
   "execution_count": 17,
   "metadata": {},
   "outputs": [],
   "source": [
    "def fix_county_name(string):\n",
    "\n",
    "    if string == \"DEKALB\":\n",
    "        return \"DE KALB\"\n",
    "    if string == \"DUPAGE\":\n",
    "        return \"DU PAGE\"\n",
    "    elif string == \"DISTRICT OF COLUMBIA\":\n",
    "        return \"THE DISTRICT\"\n",
    "    elif string == \"ANCHORAGE MUNICIPALITY\":\n",
    "        return \"ANCHORAGE\"\n",
    "    elif string == \"PRINCE GEORGE\\'S\":\n",
    "        return \"PRINCE GEORGES\"\n",
    "    elif string == \"MCDOWELL\":\n",
    "        return \"MC DOWELL\"\n",
    "    elif string == \"MCHENRY\":\n",
    "        return \"MC HENRY\"\n",
    "    elif string == \"LASALLE\":\n",
    "        return \"LA SALLE\"\n",
    "    elif string == \"MCKEAN\":\n",
    "        return \"MC KEAN\"\n",
    "    elif string == \"MCDUFFIE\":\n",
    "        return \"MC DUFFIE\"\n",
    "    elif string == \"EAST BATON ROUGE\":\n",
    "        return \"E. BATON ROUGE\"\n",
    "    elif string == \"LAPORTE\":\n",
    "        return \"LA PORTE\"\n",
    "    elif string == \"DEWITT\":\n",
    "        return \"DE WITT\"\n",
    "    elif string == \"JUNEAU CITY AND BOROUGH\":\n",
    "        return \"JUNEAU\"\n",
    "    elif string == \"KENAI PENINSULA BOROUGH\":\n",
    "        return \"KENAI PENINSULA\"\n",
    "    elif string == \"MATANUSKA-SUSITNA BOROUGH\":\n",
    "        return \"MATANUSKA-SUSITNA\"\n",
    "    elif string == \"DESOTO\":\n",
    "        return \"DE SOTO\"\n",
    "    elif string == \"DOÑA ANA\":\n",
    "        return \"DONA ANA\"\n",
    "    elif string == \"LA PAZ\":\n",
    "        return \"LAPAZ\"\n",
    "    elif string == \"MCLEAN\":\n",
    "        return \"MC LEAN\"\n",
    "    elif string == \"MCCRACKEN\":\n",
    "        return \"MC CRACKEN\"\n",
    "    elif string == \"MCDONOUGH\":\n",
    "        return \"MC DONOUGH\"\n",
    "    elif string == \"KETCHIKAN GATEWAY BOROUGH\":\n",
    "        return \"KETCHIKAN GATEWAY\"\n",
    "    elif string == \"SCOTTS BLUFF\":\n",
    "        return \"SCOTT BLUFF\"\n",
    "    elif string == \"NORTHUMBERLAND\":\n",
    "        return \"NORTHUMBERLND\"\n",
    "    elif string == \"MCLENNAN\":\n",
    "        return \"MC LENNAN\"\n",
    "    elif string == \"MCMINN\":\n",
    "        return \"MC MINN\"\n",
    "    elif string == \"FAIRBANKS NORTH STAR BOROUGH\":\n",
    "        return \"FAIRBANKS NORTH STAR\"\n",
    "    elif string == \"MCLEOD\":\n",
    "        return \"MC LEOD\"\n",
    "    elif string == \"YELLOW MEDICINE\":\n",
    "        return \"YELLOW MEDCINE\"\n",
    "    elif string == \"SITKA CITY AND BOROUGH\":\n",
    "        return \"SITKA BOROUGH\"\n",
    "    else:\n",
    "        return string"
   ]
  },
  {
   "cell_type": "code",
   "execution_count": 20,
   "metadata": {},
   "outputs": [],
   "source": [
    "# Save formatted county names\n",
    "census_df['County Name'] = census_df['County Name'].apply(\n",
    "    lambda x: fix_county_name(x))"
   ]
  },
  {
   "cell_type": "code",
   "execution_count": 21,
   "metadata": {},
   "outputs": [
    {
     "data": {
      "text/plain": [
       "Index(['County Name', 'State', 'State Abbr', 'Household Median Income',\n",
       "       'Family's Median Income', 'Total Population', 'Percent Poverty',\n",
       "       'Percent Veteran', 'Percent Married', 'Percent Bachelor',\n",
       "       'Percent One Race White', 'Percent One Race Black+',\n",
       "       'Percent One Race American Indian+', 'Percent One Race Asian',\n",
       "       'Percent One Race Hawaiian+', 'Percent One Race Some Other',\n",
       "       'Percent Two Race Or More', 'State Code', 'County Code'],\n",
       "      dtype='object')"
      ]
     },
     "execution_count": 21,
     "metadata": {},
     "output_type": "execute_result"
    }
   ],
   "source": [
    "census_df.columns"
   ]
  },
  {
   "cell_type": "code",
   "execution_count": 22,
   "metadata": {},
   "outputs": [
    {
     "data": {
      "text/plain": [
       "Index(['Facility ID', 'Facility Name', 'Address', 'City', 'State', 'ZIP Code',\n",
       "       'County Name', 'Measure ID', 'Measure Name', 'Denominator', 'Score',\n",
       "       'Lower Estimate', 'Higher Estimate', 'Start Date', 'End Date'],\n",
       "      dtype='object')"
      ]
     },
     "execution_count": 22,
     "metadata": {},
     "output_type": "execute_result"
    }
   ],
   "source": [
    "cms_df.columns"
   ]
  },
  {
   "cell_type": "code",
   "execution_count": 23,
   "metadata": {},
   "outputs": [],
   "source": [
    "cms_merged_df = pd.merge(\n",
    "    cms_df, census_df, \n",
    "    how=\"inner\", left_on=[\"State\", \"County Name\"], right_on=[\"State Abbr\", \"County Name\"]\n",
    ")"
   ]
  },
  {
   "cell_type": "code",
   "execution_count": 24,
   "metadata": {},
   "outputs": [
    {
     "data": {
      "text/plain": [
       "Index(['Facility ID', 'Facility Name', 'Address', 'City', 'State_x',\n",
       "       'ZIP Code', 'County Name', 'Measure ID', 'Measure Name', 'Denominator',\n",
       "       'Score', 'Lower Estimate', 'Higher Estimate', 'Start Date', 'End Date',\n",
       "       'State_y', 'State Abbr', 'Household Median Income',\n",
       "       'Family's Median Income', 'Total Population', 'Percent Poverty',\n",
       "       'Percent Veteran', 'Percent Married', 'Percent Bachelor',\n",
       "       'Percent One Race White', 'Percent One Race Black+',\n",
       "       'Percent One Race American Indian+', 'Percent One Race Asian',\n",
       "       'Percent One Race Hawaiian+', 'Percent One Race Some Other',\n",
       "       'Percent Two Race Or More', 'State Code', 'County Code'],\n",
       "      dtype='object')"
      ]
     },
     "execution_count": 24,
     "metadata": {},
     "output_type": "execute_result"
    }
   ],
   "source": [
    "cms_merged_df.columns"
   ]
  },
  {
   "cell_type": "code",
   "execution_count": 25,
   "metadata": {},
   "outputs": [
    {
     "data": {
      "text/plain": [
       "13013"
      ]
     },
     "execution_count": 25,
     "metadata": {},
     "output_type": "execute_result"
    }
   ],
   "source": [
    "len(cms_merged_df)"
   ]
  },
  {
   "cell_type": "code",
   "execution_count": 28,
   "metadata": {},
   "outputs": [],
   "source": [
    "cms_merged_df = cms_merged_df.rename(\n",
    "        columns={\n",
    "            \"Facility ID\": \"facility_id\",\n",
    "            \"Facility Name\": \"facility_name\",\n",
    "            \"Address\": \"address\",\n",
    "            \"City\": \"city\",\n",
    "            \"State_x\": \"state\",\n",
    "            \"ZIP Code\": \"zip_code\",\n",
    "            \"County Name\": \"county_name\",\n",
    "            \"Measure ID\": \"measure_id\",\n",
    "            \"Measure Name\": \"measure_name\",\n",
    "            \"Denominator\": \"denominator\",\n",
    "            \"Score\": \"score\",\n",
    "            \"Lower Estimate\": \"lower_estimate\",\n",
    "            \"Higher Estimate\": \"higher_estimate\",\n",
    "            \"Start Date\": \"start_date\",\n",
    "            \"End Date\": \"end_date\",\n",
    "            \"Household Median Income\": \"household_median_income\",\n",
    "            \"Family's Median Income\": \"family_median_income\",\n",
    "            \"Total Population\": \"total_population\",\n",
    "            \"Percent Poverty\": \"percent_poverty\",\n",
    "            \"Percent Veteran\": \"percent_veteran\",\n",
    "            \"Percent Married\": \"percent_married\",\n",
    "            \"Percent Bachelor\": \"percent_bachelor\",\n",
    "            \"Percent One Race White\": \"percent_white\",\n",
    "            \"Percent One Race Black+\": \"percent_black\",\n",
    "            \"Percent One Race American Indian+\": \"percent_american_indian\",\n",
    "            \"Percent One Race Asian\": \"percent_asian\",\n",
    "            \"Percent One Race Hawaiian+\": \"percent_hawaiian\",\n",
    "            \"Percent One Race Some Other\": \"percent_some_other\",\n",
    "            \"Percent Two Race Or More\": \"percent_two_or_more\",\n",
    "            \"State Code\": \"state_code\",\n",
    "            \"County Code\": \"county_code\"\n",
    "        }\n",
    ")"
   ]
  },
  {
   "cell_type": "code",
   "execution_count": 29,
   "metadata": {},
   "outputs": [
    {
     "data": {
      "text/plain": [
       "Index(['facility_id', 'facility_name', 'address', 'city', 'state', 'zip_code',\n",
       "       'county_name', 'measure_id', 'measure_name', 'denominator', 'score',\n",
       "       'lower_estimate', 'higher_estimate', 'start_date', 'end_date',\n",
       "       'State_y', 'State Abbr', 'household_median_income',\n",
       "       'family_median_income', 'total_population', 'percent_poverty',\n",
       "       'percent_veteran', 'percent_married', 'percent_bachelor',\n",
       "       'percent_white', 'percent_black', 'percent_american_indian',\n",
       "       'percent_asian', 'percent_hawaiian', 'percent_some_other',\n",
       "       'percent_two_or_more', 'state_code', 'county_code'],\n",
       "      dtype='object')"
      ]
     },
     "execution_count": 29,
     "metadata": {},
     "output_type": "execute_result"
    }
   ],
   "source": [
    "cms_merged_df.columns"
   ]
  },
  {
   "cell_type": "code",
   "execution_count": 30,
   "metadata": {},
   "outputs": [],
   "source": [
    "cms_merged_df = cms_merged_df[[\n",
    "    \"facility_id\",\n",
    "    \"facility_name\",\n",
    "    \"address\",\n",
    "    \"city\",\n",
    "    \"state\",\n",
    "    \"zip_code\",\n",
    "    \"county_name\",\n",
    "    \"measure_id\",\n",
    "    \"measure_name\",\n",
    "    \"denominator\",\n",
    "    \"score\",\n",
    "    \"lower_estimate\",\n",
    "    \"higher_estimate\",\n",
    "    \"start_date\",\n",
    "    \"end_date\",\n",
    "    \"household_median_income\",\n",
    "    \"family_median_income\",\n",
    "    \"total_population\",\n",
    "    \"percent_poverty\",\n",
    "    \"percent_veteran\",\n",
    "    \"percent_married\",\n",
    "    \"percent_bachelor\",\n",
    "    \"percent_white\",\n",
    "    \"percent_black\",\n",
    "    \"percent_american_indian\",\n",
    "    \"percent_asian\",\n",
    "    \"percent_hawaiian\",\n",
    "    \"percent_some_other\",\n",
    "    \"percent_two_or_more\",\n",
    "    \"state_code\",\n",
    "    \"county_code\"        \n",
    "]]"
   ]
  },
  {
   "cell_type": "code",
   "execution_count": 31,
   "metadata": {},
   "outputs": [
    {
     "data": {
      "text/plain": [
       "Index(['facility_id', 'facility_name', 'address', 'city', 'state', 'zip_code',\n",
       "       'county_name', 'measure_id', 'measure_name', 'denominator', 'score',\n",
       "       'lower_estimate', 'higher_estimate', 'start_date', 'end_date',\n",
       "       'household_median_income', 'family_median_income', 'total_population',\n",
       "       'percent_poverty', 'percent_veteran', 'percent_married',\n",
       "       'percent_bachelor', 'percent_white', 'percent_black',\n",
       "       'percent_american_indian', 'percent_asian', 'percent_hawaiian',\n",
       "       'percent_some_other', 'percent_two_or_more', 'state_code',\n",
       "       'county_code'],\n",
       "      dtype='object')"
      ]
     },
     "execution_count": 31,
     "metadata": {},
     "output_type": "execute_result"
    }
   ],
   "source": [
    "cms_merged_df.columns"
   ]
  },
  {
   "cell_type": "code",
   "execution_count": 32,
   "metadata": {},
   "outputs": [
    {
     "name": "stdout",
     "output_type": "stream",
     "text": [
      "2021-02-01 23:27:01,995 INFO sqlalchemy.engine.base.Engine PRAGMA main.table_info(\"cms\")\n"
     ]
    },
    {
     "name": "stderr",
     "output_type": "stream",
     "text": [
      "INFO:sqlalchemy.engine.base.Engine:PRAGMA main.table_info(\"cms\")\n"
     ]
    },
    {
     "name": "stdout",
     "output_type": "stream",
     "text": [
      "2021-02-01 23:27:01,998 INFO sqlalchemy.engine.base.Engine ()\n"
     ]
    },
    {
     "name": "stderr",
     "output_type": "stream",
     "text": [
      "INFO:sqlalchemy.engine.base.Engine:()\n"
     ]
    },
    {
     "name": "stdout",
     "output_type": "stream",
     "text": [
      "2021-02-01 23:27:02,044 INFO sqlalchemy.engine.base.Engine BEGIN (implicit)\n"
     ]
    },
    {
     "name": "stderr",
     "output_type": "stream",
     "text": [
      "INFO:sqlalchemy.engine.base.Engine:BEGIN (implicit)\n"
     ]
    },
    {
     "name": "stdout",
     "output_type": "stream",
     "text": [
      "2021-02-01 23:27:02,418 INFO sqlalchemy.engine.base.Engine INSERT INTO cms (facility_id, facility_name, address, city, state, zip_code, county_name, measure_id, measure_name, denominator, score, lower_estimate, higher_estimate, start_date, end_date, household_median_income, family_median_income, total_population, percent_poverty, percent_veteran, percent_married, percent_bachelor, percent_white, percent_black, percent_american_indian, percent_asian, percent_hawaiian, percent_some_other, percent_two_or_more, state_code, county_code) VALUES (?, ?, ?, ?, ?, ?, ?, ?, ?, ?, ?, ?, ?, ?, ?, ?, ?, ?, ?, ?, ?, ?, ?, ?, ?, ?, ?, ?, ?, ?, ?)\n"
     ]
    },
    {
     "name": "stderr",
     "output_type": "stream",
     "text": [
      "INFO:sqlalchemy.engine.base.Engine:INSERT INTO cms (facility_id, facility_name, address, city, state, zip_code, county_name, measure_id, measure_name, denominator, score, lower_estimate, higher_estimate, start_date, end_date, household_median_income, family_median_income, total_population, percent_poverty, percent_veteran, percent_married, percent_bachelor, percent_white, percent_black, percent_american_indian, percent_asian, percent_hawaiian, percent_some_other, percent_two_or_more, state_code, county_code) VALUES (?, ?, ?, ?, ?, ?, ?, ?, ?, ?, ?, ?, ?, ?, ?, ?, ?, ?, ?, ?, ?, ?, ?, ?, ?, ?, ?, ?, ?, ?, ?)\n"
     ]
    },
    {
     "name": "stdout",
     "output_type": "stream",
     "text": [
      "2021-02-01 23:27:02,420 INFO sqlalchemy.engine.base.Engine (('50704', 'MISSION COMMUNITY HOSPITAL', '14850 ROSCOE BLVD', 'PANORAMA CITY', 'CA', '91402', 'LOS ANGELES', 'MORT_30_COPD', 'Death rate for COPD patients', '207', '5.1', '3.6', '6.9', '7/1/2016', '6/30/2019', '68044', '76673', '10081570', '14.9', '3.3', '42.9', '32.5', '51.3', '8.1', '0.7', '14.6', '0.3', '21.0', '4.0', '06', '037'), ('50625', 'CEDARS-SINAI MEDICAL CENTER', '8700 BEVERLY BLVD', 'LOS ANGELES', 'CA', '90048', 'LOS ANGELES', 'MORT_30_COPD', 'Death rate for COPD patients', '504', '5.2', '4', '6.6', '7/1/2016', '6/30/2019', '68044', '76673', '10081570', '14.9', '3.3', '42.9', '32.5', '51.3', '8.1', '0.7', '14.6', '0.3', '21.0', '4.0', '06', '037'), ('50739', 'CENTINELA HOSPITAL MEDICAL CENTER', '555 EAST HARDY STREET', 'INGLEWOOD', 'CA', '90301', 'LOS ANGELES', 'MORT_30_HF', 'Death rate for heart failure patients', '568', '5.3', '4.2', '6.7', '7/1/2016', '6/30/2019', '68044', '76673', '10081570', '14.9', '3.3', '42.9', '32.5', '51.3', '8.1', '0.7', '14.6', '0.3', '21.0', '4.0', '06', '037'), ('50763', 'L A DOWNTOWN MEDICAL CENTER, LLC', '1711 WEST TEMPLE STREET', 'LOS ANGELES', 'CA', '90026', 'LOS ANGELES', 'MORT_30_COPD', 'Death rate for COPD patients', '166', '5.3', '3.7', '7.5', '7/1/2016', '6/30/2019', '68044', '76673', '10081570', '14.9', '3.3', '42.9', '32.5', '51.3', '8.1', '0.7', '14.6', '0.3', '21.0', '4.0', '06', '037'), ('50096', 'WEST COVINA MEDICAL CENTER, INC', '725 S ORANGE AVE', 'WEST COVINA', 'CA', '91790', 'LOS ANGELES', 'MORT_30_COPD', 'Death rate for COPD patients', '146', '5.5', '3.8', '7.9', '7/1/2016', '6/30/2019', '68044', '76673', '10081570', '14.9', '3.3', '42.9', '32.5', '51.3', '8.1', '0.7', '14.6', '0.3', '21.0', '4.0', '06', '037'), ('50135', 'SOUTHERN CALIFORNIA HOSPITAL AT HOLLYWOOD', '6245 DE LONGPRE AVE', 'HOLLYWOOD', 'CA', '90028', 'LOS ANGELES', 'MORT_30_COPD', 'Death rate for COPD patients', '225', '5.5', '3.9', '7.7', '7/1/2016', '6/30/2019', '68044', '76673', '10081570', '14.9', '3.3', '42.9', '32.5', '51.3', '8.1', '0.7', '14.6', '0.3', '21.0', '4.0', '06', '037'), ('50742', 'OLYMPIA MEDICAL CENTER', '5900 WEST OLYMPIC BOULEVARD', 'LOS ANGELES', 'CA', '90036', 'LOS ANGELES', 'MORT_30_COPD', 'Death rate for COPD patients', '153', '5.7', '4', '8', '7/1/2016', '6/30/2019', '68044', '76673', '10081570', '14.9', '3.3', '42.9', '32.5', '51.3', '8.1', '0.7', '14.6', '0.3', '21.0', '4.0', '06', '037'), ('50755', 'SHERMAN OAKS HOSPITAL', '4929 VAN NUYS BLVD', 'SHERMAN OAKS', 'CA', '91403', 'LOS ANGELES', 'MORT_30_HF', 'Death rate for heart failure patients', '260', '5.8', '4.3', '7.7', '7/1/2016', '6/30/2019', '68044', '76673', '10081570', '14.9', '3.3', '42.9', '32.5', '51.3', '8.1', '0.7', '14.6', '0.3', '21.0', '4.0', '06', '037')  ... displaying 10 of 13013 total bound parameter sets ...  ('41303', 'MERCY HOSPITAL OZARK', '801 WEST RIVER STREET', 'OZARK', 'AR', '72949', 'FRANKLIN', 'MORT_30_PN', 'Death rate for pneumonia patients', '45', '19.6', '14.5', '26.7', '7/1/2016', '6/30/2019', '38923', '52003', '17738', '23.0', '10.2', '54.4', '12.1', '94.0', '1.0', '1.6', '0.8', '0.2', '0.4', '1.9', '05', '047'), ('341314', 'WASHINGTON COUNTY HOSP INC', '958 US HWY 64 EAST', 'PLYMOUTH', 'NC', '27962', 'WASHINGTON', 'MORT_30_PN', 'Death rate for pneumonia patients', '35', '21.8', '15.7', '29.3', '7/1/2016', '6/30/2019', '35979', '48774', '11922', '22.3', '9.9', '35.3', '11.5', '45.7', '47.5', '0.3', '0.2', '0.0', '1.9', '4.4', '37', '187'))\n"
     ]
    },
    {
     "name": "stderr",
     "output_type": "stream",
     "text": [
      "INFO:sqlalchemy.engine.base.Engine:(('50704', 'MISSION COMMUNITY HOSPITAL', '14850 ROSCOE BLVD', 'PANORAMA CITY', 'CA', '91402', 'LOS ANGELES', 'MORT_30_COPD', 'Death rate for COPD patients', '207', '5.1', '3.6', '6.9', '7/1/2016', '6/30/2019', '68044', '76673', '10081570', '14.9', '3.3', '42.9', '32.5', '51.3', '8.1', '0.7', '14.6', '0.3', '21.0', '4.0', '06', '037'), ('50625', 'CEDARS-SINAI MEDICAL CENTER', '8700 BEVERLY BLVD', 'LOS ANGELES', 'CA', '90048', 'LOS ANGELES', 'MORT_30_COPD', 'Death rate for COPD patients', '504', '5.2', '4', '6.6', '7/1/2016', '6/30/2019', '68044', '76673', '10081570', '14.9', '3.3', '42.9', '32.5', '51.3', '8.1', '0.7', '14.6', '0.3', '21.0', '4.0', '06', '037'), ('50739', 'CENTINELA HOSPITAL MEDICAL CENTER', '555 EAST HARDY STREET', 'INGLEWOOD', 'CA', '90301', 'LOS ANGELES', 'MORT_30_HF', 'Death rate for heart failure patients', '568', '5.3', '4.2', '6.7', '7/1/2016', '6/30/2019', '68044', '76673', '10081570', '14.9', '3.3', '42.9', '32.5', '51.3', '8.1', '0.7', '14.6', '0.3', '21.0', '4.0', '06', '037'), ('50763', 'L A DOWNTOWN MEDICAL CENTER, LLC', '1711 WEST TEMPLE STREET', 'LOS ANGELES', 'CA', '90026', 'LOS ANGELES', 'MORT_30_COPD', 'Death rate for COPD patients', '166', '5.3', '3.7', '7.5', '7/1/2016', '6/30/2019', '68044', '76673', '10081570', '14.9', '3.3', '42.9', '32.5', '51.3', '8.1', '0.7', '14.6', '0.3', '21.0', '4.0', '06', '037'), ('50096', 'WEST COVINA MEDICAL CENTER, INC', '725 S ORANGE AVE', 'WEST COVINA', 'CA', '91790', 'LOS ANGELES', 'MORT_30_COPD', 'Death rate for COPD patients', '146', '5.5', '3.8', '7.9', '7/1/2016', '6/30/2019', '68044', '76673', '10081570', '14.9', '3.3', '42.9', '32.5', '51.3', '8.1', '0.7', '14.6', '0.3', '21.0', '4.0', '06', '037'), ('50135', 'SOUTHERN CALIFORNIA HOSPITAL AT HOLLYWOOD', '6245 DE LONGPRE AVE', 'HOLLYWOOD', 'CA', '90028', 'LOS ANGELES', 'MORT_30_COPD', 'Death rate for COPD patients', '225', '5.5', '3.9', '7.7', '7/1/2016', '6/30/2019', '68044', '76673', '10081570', '14.9', '3.3', '42.9', '32.5', '51.3', '8.1', '0.7', '14.6', '0.3', '21.0', '4.0', '06', '037'), ('50742', 'OLYMPIA MEDICAL CENTER', '5900 WEST OLYMPIC BOULEVARD', 'LOS ANGELES', 'CA', '90036', 'LOS ANGELES', 'MORT_30_COPD', 'Death rate for COPD patients', '153', '5.7', '4', '8', '7/1/2016', '6/30/2019', '68044', '76673', '10081570', '14.9', '3.3', '42.9', '32.5', '51.3', '8.1', '0.7', '14.6', '0.3', '21.0', '4.0', '06', '037'), ('50755', 'SHERMAN OAKS HOSPITAL', '4929 VAN NUYS BLVD', 'SHERMAN OAKS', 'CA', '91403', 'LOS ANGELES', 'MORT_30_HF', 'Death rate for heart failure patients', '260', '5.8', '4.3', '7.7', '7/1/2016', '6/30/2019', '68044', '76673', '10081570', '14.9', '3.3', '42.9', '32.5', '51.3', '8.1', '0.7', '14.6', '0.3', '21.0', '4.0', '06', '037')  ... displaying 10 of 13013 total bound parameter sets ...  ('41303', 'MERCY HOSPITAL OZARK', '801 WEST RIVER STREET', 'OZARK', 'AR', '72949', 'FRANKLIN', 'MORT_30_PN', 'Death rate for pneumonia patients', '45', '19.6', '14.5', '26.7', '7/1/2016', '6/30/2019', '38923', '52003', '17738', '23.0', '10.2', '54.4', '12.1', '94.0', '1.0', '1.6', '0.8', '0.2', '0.4', '1.9', '05', '047'), ('341314', 'WASHINGTON COUNTY HOSP INC', '958 US HWY 64 EAST', 'PLYMOUTH', 'NC', '27962', 'WASHINGTON', 'MORT_30_PN', 'Death rate for pneumonia patients', '35', '21.8', '15.7', '29.3', '7/1/2016', '6/30/2019', '35979', '48774', '11922', '22.3', '9.9', '35.3', '11.5', '45.7', '47.5', '0.3', '0.2', '0.0', '1.9', '4.4', '37', '187'))\n"
     ]
    },
    {
     "name": "stdout",
     "output_type": "stream",
     "text": [
      "2021-02-01 23:27:02,629 INFO sqlalchemy.engine.base.Engine COMMIT\n"
     ]
    },
    {
     "name": "stderr",
     "output_type": "stream",
     "text": [
      "INFO:sqlalchemy.engine.base.Engine:COMMIT\n"
     ]
    }
   ],
   "source": [
    "cms_merged_df.to_sql(\"cms\", conn, if_exists=\"append\", index=False)"
   ]
  }
 ],
 "metadata": {
  "kernelspec": {
   "display_name": "Python 3",
   "language": "python",
   "name": "python3"
  },
  "language_info": {
   "codemirror_mode": {
    "name": "ipython",
    "version": 3
   },
   "file_extension": ".py",
   "mimetype": "text/x-python",
   "name": "python",
   "nbconvert_exporter": "python",
   "pygments_lexer": "ipython3",
   "version": "3.6.10"
  }
 },
 "nbformat": 4,
 "nbformat_minor": 4
}
