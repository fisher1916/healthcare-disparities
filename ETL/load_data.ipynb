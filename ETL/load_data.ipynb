{
 "cells": [
  {
   "cell_type": "code",
   "execution_count": 1,
   "metadata": {},
   "outputs": [],
   "source": [
    "from sqlalchemy import create_engine\n",
    "import pandas as pd"
   ]
  },
  {
   "cell_type": "code",
   "execution_count": 2,
   "metadata": {},
   "outputs": [
    {
     "name": "stdout",
     "output_type": "stream",
     "text": [
      "2021-02-02 15:18:21,471 INFO sqlalchemy.engine.base.Engine SELECT CAST('test plain returns' AS VARCHAR(60)) AS anon_1\n",
      "2021-02-02 15:18:21,474 INFO sqlalchemy.engine.base.Engine ()\n",
      "2021-02-02 15:18:21,476 INFO sqlalchemy.engine.base.Engine SELECT CAST('test unicode returns' AS VARCHAR(60)) AS anon_1\n",
      "2021-02-02 15:18:21,476 INFO sqlalchemy.engine.base.Engine ()\n"
     ]
    }
   ],
   "source": [
    "engine = create_engine(\"sqlite:///../data/cms.db\", echo=True)\n",
    "conn = engine.connect()"
   ]
  },
  {
   "cell_type": "code",
   "execution_count": 3,
   "metadata": {
    "scrolled": true
   },
   "outputs": [
    {
     "name": "stdout",
     "output_type": "stream",
     "text": [
      "2021-02-02 15:18:21,487 INFO sqlalchemy.engine.base.Engine DROP TABLE CMS\n",
      "2021-02-02 15:18:21,489 INFO sqlalchemy.engine.base.Engine ()\n",
      "2021-02-02 15:18:21,626 INFO sqlalchemy.engine.base.Engine COMMIT\n",
      "2021-02-02 15:18:21,629 INFO sqlalchemy.engine.base.Engine \n",
      "CREATE TABLE IF NOT EXISTS cms (\n",
      "    cms_id INTEGER PRIMARY KEY AUTOINCREMENT ,\n",
      "    facility_id TEXT NOT NULL ,\n",
      "    facility_name TEXT NOT NULL ,\n",
      "    address TEXT NOT NULL ,\n",
      "    city TEXT NOT NULL ,\n",
      "    state TEXT NOT NULL ,\n",
      "    state_name TEXT NOT NULL,\n",
      "    zip_code TEXT NOT NULL ,\n",
      "    county_name TEXT NOT NULL ,\n",
      "    measure_id TEXT  NOT NULL ,\n",
      "    measure_name TEXT  NOT NULL ,\n",
      "    denominator INTEGER  NOT NULL ,\n",
      "    score REAL  NOT NULL ,\n",
      "    lower_estimate REAL  NOT NULL ,\n",
      "    higher_estimate REAL  NOT NULL ,\n",
      "    start_date TEXT NOT NULL ,\n",
      "    end_date TEXT NOT NULL ,\n",
      "    household_median_income INTEGER NOT NULL ,\n",
      "    family_median_income INTEGER NOT NULL ,\n",
      "    total_population INTEGER NOT NULL ,\n",
      "    percent_poverty REAL  NOT NULL ,\n",
      "    percent_veteran REAL  NOT NULL ,\n",
      "    percent_married REAL  NOT NULL ,\n",
      "    percent_bachelor REAL  NOT NULL ,\n",
      "    percent_white REAL  NOT NULL ,\n",
      "    percent_black REAL  NOT NULL ,\n",
      "    percent_american_indian REAL  NOT NULL ,\n",
      "    percent_asian REAL  NOT NULL ,\n",
      "    percent_hawaiian REAL  NOT NULL ,\n",
      "    percent_some_other REAL  NOT NULL ,\n",
      "    percent_two_or_more REAL  NOT NULL ,\n",
      "    state_code TEXT  NOT NULL ,\n",
      "    county_code TEXT  NOT NULL \n",
      ")\n",
      "\n",
      "2021-02-02 15:18:21,632 INFO sqlalchemy.engine.base.Engine ()\n",
      "2021-02-02 15:18:21,648 INFO sqlalchemy.engine.base.Engine COMMIT\n"
     ]
    },
    {
     "data": {
      "text/plain": [
       "<sqlalchemy.engine.result.ResultProxy at 0x1b85c2ec1d0>"
      ]
     },
     "execution_count": 3,
     "metadata": {},
     "output_type": "execute_result"
    }
   ],
   "source": [
    "conn.execute(\"\"\"DROP TABLE CMS\"\"\")\n",
    "# Create the table - note that if we use automap_base, the table must have primary key!\n",
    "conn.execute(\"\"\"\n",
    "CREATE TABLE IF NOT EXISTS cms (\n",
    "    cms_id INTEGER PRIMARY KEY AUTOINCREMENT ,\n",
    "    facility_id TEXT NOT NULL ,\n",
    "    facility_name TEXT NOT NULL ,\n",
    "    address TEXT NOT NULL ,\n",
    "    city TEXT NOT NULL ,\n",
    "    state TEXT NOT NULL ,\n",
    "    state_name TEXT NOT NULL,\n",
    "    zip_code TEXT NOT NULL ,\n",
    "    county_name TEXT NOT NULL ,\n",
    "    measure_id TEXT  NOT NULL ,\n",
    "    measure_name TEXT  NOT NULL ,\n",
    "    denominator INTEGER  NOT NULL ,\n",
    "    score REAL  NOT NULL ,\n",
    "    lower_estimate REAL  NOT NULL ,\n",
    "    higher_estimate REAL  NOT NULL ,\n",
    "    start_date TEXT NOT NULL ,\n",
    "    end_date TEXT NOT NULL ,\n",
    "    household_median_income INTEGER NOT NULL ,\n",
    "    family_median_income INTEGER NOT NULL ,\n",
    "    total_population INTEGER NOT NULL ,\n",
    "    percent_poverty REAL  NOT NULL ,\n",
    "    percent_veteran REAL  NOT NULL ,\n",
    "    percent_married REAL  NOT NULL ,\n",
    "    percent_bachelor REAL  NOT NULL ,\n",
    "    percent_white REAL  NOT NULL ,\n",
    "    percent_black REAL  NOT NULL ,\n",
    "    percent_american_indian REAL  NOT NULL ,\n",
    "    percent_asian REAL  NOT NULL ,\n",
    "    percent_hawaiian REAL  NOT NULL ,\n",
    "    percent_some_other REAL  NOT NULL ,\n",
    "    percent_two_or_more REAL  NOT NULL ,\n",
    "    state_code TEXT  NOT NULL ,\n",
    "    county_code TEXT  NOT NULL \n",
    ")\n",
    "\"\"\")"
   ]
  },
  {
   "cell_type": "code",
   "execution_count": 4,
   "metadata": {},
   "outputs": [],
   "source": [
    "# Read in target dataframes\n",
    "census_df = pd.read_csv(\"../ETL/ETL-Results/census_data.csv\", dtype=str)\n",
    "cms_df = pd.read_csv(\"../ETL/ETL-Results/four_mort_measures.csv\", dtype=str)"
   ]
  },
  {
   "cell_type": "code",
   "execution_count": 5,
   "metadata": {},
   "outputs": [],
   "source": [
    "# Remove Some Items due to county issues\n",
    "cms_df = cms_df[cms_df[\"State\"] != \"PR\"]\n",
    "cms_df = cms_df[cms_df[\"State\"] != \"GU\"]\n",
    "cms_df = cms_df[cms_df[\"State\"] != \"MP\"]\n",
    "cms_df = cms_df[cms_df[\"State\"] != \"VI\"]"
   ]
  },
  {
   "cell_type": "code",
   "execution_count": 6,
   "metadata": {},
   "outputs": [
    {
     "data": {
      "text/plain": [
       "13478"
      ]
     },
     "execution_count": 6,
     "metadata": {},
     "output_type": "execute_result"
    }
   ],
   "source": [
    "len(cms_df)"
   ]
  },
  {
   "cell_type": "code",
   "execution_count": 7,
   "metadata": {},
   "outputs": [],
   "source": [
    "# Remove Some Items due to county issues\n",
    "cms_df = cms_df[cms_df[\"State\"] != \"PR\"]\n",
    "cms_df = cms_df[cms_df[\"State\"] != \"GU\"]\n",
    "cms_df = cms_df[cms_df[\"State\"] != \"MP\"]\n",
    "cms_df = cms_df[cms_df[\"State\"] != \"VI\"]\n",
    "\n",
    "cms_df = cms_df[cms_df[\"County Name\"] != \"OBRIEN\"]\n",
    "cms_df = cms_df[cms_df[\"County Name\"] != \"JEFFRSON DAVIS\"]\n",
    "\n",
    "cms_df = cms_df[~((cms_df[\"County Name\"] == \"LASALLE\")\n",
    "                & (cms_df[\"State\"] == \"LA\"))]\n",
    "cms_df = cms_df[~((cms_df[\"County Name\"] == \"ST. MARYS\")\n",
    "                & (cms_df[\"State\"] == \"MD\"))]\n",
    "cms_df = cms_df[~((cms_df[\"County Name\"] == \"MCLEAN\")\n",
    "                & (cms_df[\"State\"] == \"ND\"))]"
   ]
  },
  {
   "cell_type": "code",
   "execution_count": 8,
   "metadata": {},
   "outputs": [
    {
     "data": {
      "text/plain": [
       "13461"
      ]
     },
     "execution_count": 8,
     "metadata": {},
     "output_type": "execute_result"
    }
   ],
   "source": [
    "len(cms_df)"
   ]
  },
  {
   "cell_type": "code",
   "execution_count": 9,
   "metadata": {},
   "outputs": [],
   "source": [
    "def fix_county_name(string):\n",
    "\n",
    "    if string == \"DEKALB\":\n",
    "        return \"DE KALB\"\n",
    "    if string == \"DUPAGE\":\n",
    "        return \"DU PAGE\"\n",
    "    elif string == \"DISTRICT OF COLUMBIA\":\n",
    "        return \"THE DISTRICT\"\n",
    "    elif string == \"ANCHORAGE MUNICIPALITY\":\n",
    "        return \"ANCHORAGE\"\n",
    "    elif string == \"PRINCE GEORGE\\'S\":\n",
    "        return \"PRINCE GEORGES\"\n",
    "    elif string == \"MCDOWELL\":\n",
    "        return \"MC DOWELL\"\n",
    "    elif string == \"MCHENRY\":\n",
    "        return \"MC HENRY\"\n",
    "    elif string == \"LASALLE\":\n",
    "        return \"LA SALLE\"\n",
    "    elif string == \"MCKEAN\":\n",
    "        return \"MC KEAN\"\n",
    "    elif string == \"MCDUFFIE\":\n",
    "        return \"MC DUFFIE\"\n",
    "    elif string == \"EAST BATON ROUGE\":\n",
    "        return \"E. BATON ROUGE\"\n",
    "    elif string == \"LAPORTE\":\n",
    "        return \"LA PORTE\"\n",
    "    elif string == \"DEWITT\":\n",
    "        return \"DE WITT\"\n",
    "    elif string == \"JUNEAU CITY AND BOROUGH\":\n",
    "        return \"JUNEAU\"\n",
    "    elif string == \"KENAI PENINSULA BOROUGH\":\n",
    "        return \"KENAI PENINSULA\"\n",
    "    elif string == \"MATANUSKA-SUSITNA BOROUGH\":\n",
    "        return \"MATANUSKA-SUSITNA\"\n",
    "    elif string == \"DESOTO\":\n",
    "        return \"DE SOTO\"\n",
    "    elif string == \"DOÑA ANA\":\n",
    "        return \"DONA ANA\"\n",
    "    elif string == \"LA PAZ\":\n",
    "        return \"LAPAZ\"\n",
    "    elif string == \"MCLEAN\":\n",
    "        return \"MC LEAN\"\n",
    "    elif string == \"MCCRACKEN\":\n",
    "        return \"MC CRACKEN\"\n",
    "    elif string == \"MCDONOUGH\":\n",
    "        return \"MC DONOUGH\"\n",
    "    elif string == \"KETCHIKAN GATEWAY BOROUGH\":\n",
    "        return \"KETCHIKAN GATEWAY\"\n",
    "    elif string == \"SCOTTS BLUFF\":\n",
    "        return \"SCOTT BLUFF\"\n",
    "    elif string == \"NORTHUMBERLAND\":\n",
    "        return \"NORTHUMBERLND\"\n",
    "    elif string == \"MCLENNAN\":\n",
    "        return \"MC LENNAN\"\n",
    "    elif string == \"MCMINN\":\n",
    "        return \"MC MINN\"\n",
    "    elif string == \"FAIRBANKS NORTH STAR BOROUGH\":\n",
    "        return \"FAIRBANKS NORTH STAR\"\n",
    "    elif string == \"MCLEOD\":\n",
    "        return \"MC LEOD\"\n",
    "    elif string == \"YELLOW MEDICINE\":\n",
    "        return \"YELLOW MEDCINE\"\n",
    "    elif string == \"SITKA CITY AND BOROUGH\":\n",
    "        return \"SITKA BOROUGH\"\n",
    "    else:\n",
    "        return string"
   ]
  },
  {
   "cell_type": "code",
   "execution_count": 10,
   "metadata": {},
   "outputs": [],
   "source": [
    "# Save formatted county names\n",
    "census_df['County Name'] = census_df['County Name'].apply(\n",
    "    lambda x: fix_county_name(x))"
   ]
  },
  {
   "cell_type": "code",
   "execution_count": 11,
   "metadata": {},
   "outputs": [
    {
     "data": {
      "text/plain": [
       "Index(['County Name', 'State', 'State Abbr', 'Household Median Income',\n",
       "       'Family's Median Income', 'Total Population', 'Percent Poverty',\n",
       "       'Percent Veteran', 'Percent Married', 'Percent Bachelor',\n",
       "       'Percent One Race White', 'Percent One Race Black+',\n",
       "       'Percent One Race American Indian+', 'Percent One Race Asian',\n",
       "       'Percent One Race Hawaiian+', 'Percent One Race Some Other',\n",
       "       'Percent Two Race Or More', 'State Code', 'County Code'],\n",
       "      dtype='object')"
      ]
     },
     "execution_count": 11,
     "metadata": {},
     "output_type": "execute_result"
    }
   ],
   "source": [
    "census_df.columns"
   ]
  },
  {
   "cell_type": "code",
   "execution_count": 12,
   "metadata": {},
   "outputs": [
    {
     "data": {
      "text/plain": [
       "Index(['Facility ID', 'Facility Name', 'Address', 'City', 'State', 'ZIP Code',\n",
       "       'County Name', 'Measure ID', 'Measure Name', 'Denominator', 'Score',\n",
       "       'Lower Estimate', 'Higher Estimate', 'Start Date', 'End Date'],\n",
       "      dtype='object')"
      ]
     },
     "execution_count": 12,
     "metadata": {},
     "output_type": "execute_result"
    }
   ],
   "source": [
    "cms_df.columns"
   ]
  },
  {
   "cell_type": "code",
   "execution_count": 13,
   "metadata": {},
   "outputs": [],
   "source": [
    "cms_merged_df = pd.merge(\n",
    "    cms_df, census_df, \n",
    "    how=\"inner\", left_on=[\"State\", \"County Name\"], right_on=[\"State Abbr\", \"County Name\"]\n",
    ")"
   ]
  },
  {
   "cell_type": "code",
   "execution_count": 14,
   "metadata": {},
   "outputs": [
    {
     "data": {
      "text/plain": [
       "Index(['Facility ID', 'Facility Name', 'Address', 'City', 'State_x',\n",
       "       'ZIP Code', 'County Name', 'Measure ID', 'Measure Name', 'Denominator',\n",
       "       'Score', 'Lower Estimate', 'Higher Estimate', 'Start Date', 'End Date',\n",
       "       'State_y', 'State Abbr', 'Household Median Income',\n",
       "       'Family's Median Income', 'Total Population', 'Percent Poverty',\n",
       "       'Percent Veteran', 'Percent Married', 'Percent Bachelor',\n",
       "       'Percent One Race White', 'Percent One Race Black+',\n",
       "       'Percent One Race American Indian+', 'Percent One Race Asian',\n",
       "       'Percent One Race Hawaiian+', 'Percent One Race Some Other',\n",
       "       'Percent Two Race Or More', 'State Code', 'County Code'],\n",
       "      dtype='object')"
      ]
     },
     "execution_count": 14,
     "metadata": {},
     "output_type": "execute_result"
    }
   ],
   "source": [
    "cms_merged_df.columns"
   ]
  },
  {
   "cell_type": "code",
   "execution_count": 15,
   "metadata": {},
   "outputs": [
    {
     "data": {
      "text/plain": [
       "13461"
      ]
     },
     "execution_count": 15,
     "metadata": {},
     "output_type": "execute_result"
    }
   ],
   "source": [
    "len(cms_merged_df)"
   ]
  },
  {
   "cell_type": "code",
   "execution_count": 16,
   "metadata": {},
   "outputs": [
    {
     "ename": "SyntaxError",
     "evalue": "invalid syntax (<ipython-input-16-8583b65f2310>, line 9)",
     "output_type": "error",
     "traceback": [
      "\u001b[1;36m  File \u001b[1;32m\"<ipython-input-16-8583b65f2310>\"\u001b[1;36m, line \u001b[1;32m9\u001b[0m\n\u001b[1;33m    \"ZIP Code\": \"zip_code\",\u001b[0m\n\u001b[1;37m              ^\u001b[0m\n\u001b[1;31mSyntaxError\u001b[0m\u001b[1;31m:\u001b[0m invalid syntax\n"
     ]
    }
   ],
   "source": [
    "cms_merged_df = cms_merged_df.rename(\n",
    "        columns={\n",
    "            \"Facility ID\": \"facility_id\",\n",
    "            \"Facility Name\": \"facility_name\",\n",
    "            \"Address\": \"address\",\n",
    "            \"City\": \"city\",\n",
    "            \"State_x\": \"state\",\n",
    "            \"State_y\": \"state_name\",\n",
    "            \"ZIP Code\": \"zip_code\",\n",
    "            \"County Name\": \"county_name\",\n",
    "            \"Measure ID\": \"measure_id\",\n",
    "            \"Measure Name\": \"measure_name\",\n",
    "            \"Denominator\": \"denominator\",\n",
    "            \"Score\": \"score\",\n",
    "            \"Lower Estimate\": \"lower_estimate\",\n",
    "            \"Higher Estimate\": \"higher_estimate\",\n",
    "            \"Start Date\": \"start_date\",\n",
    "            \"End Date\": \"end_date\",\n",
    "            \"Household Median Income\": \"household_median_income\",\n",
    "            \"Family's Median Income\": \"family_median_income\",\n",
    "            \"Total Population\": \"total_population\",\n",
    "            \"Percent Poverty\": \"percent_poverty\",\n",
    "            \"Percent Veteran\": \"percent_veteran\",\n",
    "            \"Percent Married\": \"percent_married\",\n",
    "            \"Percent Bachelor\": \"percent_bachelor\",\n",
    "            \"Percent One Race White\": \"percent_white\",\n",
    "            \"Percent One Race Black+\": \"percent_black\",\n",
    "            \"Percent One Race American Indian+\": \"percent_american_indian\",\n",
    "            \"Percent One Race Asian\": \"percent_asian\",\n",
    "            \"Percent One Race Hawaiian+\": \"percent_hawaiian\",\n",
    "            \"Percent One Race Some Other\": \"percent_some_other\",\n",
    "            \"Percent Two Race Or More\": \"percent_two_or_more\",\n",
    "            \"State Code\": \"state_code\",\n",
    "            \"County Code\": \"county_code\"\n",
    "        }\n",
    ")"
   ]
  },
  {
   "cell_type": "code",
   "execution_count": null,
   "metadata": {},
   "outputs": [],
   "source": [
    "cms_merged_df.columns"
   ]
  },
  {
   "cell_type": "code",
   "execution_count": null,
   "metadata": {},
   "outputs": [],
   "source": [
    "cms_merged_df = cms_merged_df[[\n",
    "    \"facility_id\",\n",
    "    \"facility_name\",\n",
    "    \"address\",\n",
    "    \"city\",\n",
    "    \"state\",\n",
    "    \"state_name\",\n",
    "    \"zip_code\",\n",
    "    \"county_name\",\n",
    "    \"measure_id\",\n",
    "    \"measure_name\",\n",
    "    \"denominator\",\n",
    "    \"score\",\n",
    "    \"lower_estimate\",\n",
    "    \"higher_estimate\",\n",
    "    \"start_date\",\n",
    "    \"end_date\",\n",
    "    \"household_median_income\",\n",
    "    \"family_median_income\",\n",
    "    \"total_population\",\n",
    "    \"percent_poverty\",\n",
    "    \"percent_veteran\",\n",
    "    \"percent_married\",\n",
    "    \"percent_bachelor\",\n",
    "    \"percent_white\",\n",
    "    \"percent_black\",\n",
    "    \"percent_american_indian\",\n",
    "    \"percent_asian\",\n",
    "    \"percent_hawaiian\",\n",
    "    \"percent_some_other\",\n",
    "    \"percent_two_or_more\",\n",
    "    \"state_code\",\n",
    "    \"county_code\"        \n",
    "]]"
   ]
  },
  {
   "cell_type": "code",
   "execution_count": null,
   "metadata": {},
   "outputs": [],
   "source": [
    "cms_merged_df.columns"
   ]
  },
  {
   "cell_type": "code",
   "execution_count": null,
   "metadata": {},
   "outputs": [],
   "source": [
    "cms_merged_df.to_sql(\"cms\", conn, if_exists=\"append\", index=False)"
   ]
  }
 ],
 "metadata": {
  "kernelspec": {
   "display_name": "Python 3",
   "language": "python",
   "name": "python3"
  },
  "language_info": {
   "codemirror_mode": {
    "name": "ipython",
    "version": 3
   },
   "file_extension": ".py",
   "mimetype": "text/x-python",
   "name": "python",
   "nbconvert_exporter": "python",
   "pygments_lexer": "ipython3",
   "version": "3.6.10"
  }
 },
 "nbformat": 4,
 "nbformat_minor": 4
}
