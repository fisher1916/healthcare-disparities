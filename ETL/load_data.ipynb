{
 "cells": [
  {
   "cell_type": "code",
   "execution_count": 1,
   "metadata": {},
   "outputs": [],
   "source": [
    "from sqlalchemy import create_engine\n",
    "import pandas as pd"
   ]
  },
  {
   "cell_type": "code",
   "execution_count": 2,
   "metadata": {},
   "outputs": [
    {
     "name": "stdout",
     "output_type": "stream",
     "text": [
      "2021-02-02 12:31:57,699 INFO sqlalchemy.engine.base.Engine SELECT CAST('test plain returns' AS VARCHAR(60)) AS anon_1\n",
      "2021-02-02 12:31:57,703 INFO sqlalchemy.engine.base.Engine ()\n",
      "2021-02-02 12:31:57,706 INFO sqlalchemy.engine.base.Engine SELECT CAST('test unicode returns' AS VARCHAR(60)) AS anon_1\n",
      "2021-02-02 12:31:57,707 INFO sqlalchemy.engine.base.Engine ()\n"
     ]
    }
   ],
   "source": [
    "engine = create_engine(\"sqlite:///../data/cms.db\", echo=True)\n",
    "conn = engine.connect()"
   ]
  },
  {
   "cell_type": "code",
   "execution_count": 3,
   "metadata": {
    "scrolled": true
   },
   "outputs": [
    {
     "name": "stdout",
     "output_type": "stream",
     "text": [
      "2021-02-02 12:32:00,939 INFO sqlalchemy.engine.base.Engine DROP TABLE CMS\n",
      "2021-02-02 12:32:00,940 INFO sqlalchemy.engine.base.Engine ()\n",
      "2021-02-02 12:32:01,065 INFO sqlalchemy.engine.base.Engine COMMIT\n",
      "2021-02-02 12:32:01,067 INFO sqlalchemy.engine.base.Engine \n",
      "CREATE TABLE IF NOT EXISTS cms (\n",
      "    cms_id INTEGER PRIMARY KEY AUTOINCREMENT ,\n",
      "    facility_id TEXT NOT NULL ,\n",
      "    facility_name TEXT NOT NULL ,\n",
      "    address TEXT NOT NULL ,\n",
      "    city TEXT NOT NULL ,\n",
      "    state TEXT NOT NULL ,\n",
      "    state_name TEXT NOT NULL,\n",
      "    zip_code TEXT NOT NULL ,\n",
      "    county_name TEXT NOT NULL ,\n",
      "    measure_id TEXT  NOT NULL ,\n",
      "    measure_name TEXT  NOT NULL ,\n",
      "    denominator INTEGER  NOT NULL ,\n",
      "    score REAL  NOT NULL ,\n",
      "    lower_estimate REAL  NOT NULL ,\n",
      "    higher_estimate REAL  NOT NULL ,\n",
      "    start_date TEXT NOT NULL ,\n",
      "    end_date TEXT NOT NULL ,\n",
      "    household_median_income INTEGER NOT NULL ,\n",
      "    family_median_income INTEGER NOT NULL ,\n",
      "    total_population INTEGER NOT NULL ,\n",
      "    percent_poverty REAL  NOT NULL ,\n",
      "    percent_veteran REAL  NOT NULL ,\n",
      "    percent_married REAL  NOT NULL ,\n",
      "    percent_bachelor REAL  NOT NULL ,\n",
      "    percent_white REAL  NOT NULL ,\n",
      "    percent_black REAL  NOT NULL ,\n",
      "    percent_american_indian REAL  NOT NULL ,\n",
      "    percent_asian REAL  NOT NULL ,\n",
      "    percent_hawaiian REAL  NOT NULL ,\n",
      "    percent_some_other REAL  NOT NULL ,\n",
      "    percent_two_or_more REAL  NOT NULL ,\n",
      "    state_code TEXT  NOT NULL ,\n",
      "    county_code TEXT  NOT NULL \n",
      ")\n",
      "\n",
      "2021-02-02 12:32:01,069 INFO sqlalchemy.engine.base.Engine ()\n",
      "2021-02-02 12:32:01,078 INFO sqlalchemy.engine.base.Engine COMMIT\n"
     ]
    },
    {
     "data": {
      "text/plain": [
       "<sqlalchemy.engine.result.ResultProxy at 0x1ed515dc0b8>"
      ]
     },
     "execution_count": 3,
     "metadata": {},
     "output_type": "execute_result"
    }
   ],
   "source": [
    "#conn.execute(\"\"\"DROP TABLE CMS\"\"\")\n",
    "# Create the table - note that if we use automap_base, the table must have primary key!\n",
    "conn.execute(\"\"\"\n",
    "CREATE TABLE IF NOT EXISTS cms (\n",
    "    cms_id INTEGER PRIMARY KEY AUTOINCREMENT ,\n",
    "    facility_id TEXT NOT NULL ,\n",
    "    facility_name TEXT NOT NULL ,\n",
    "    address TEXT NOT NULL ,\n",
    "    city TEXT NOT NULL ,\n",
    "    state TEXT NOT NULL ,\n",
    "    state_name TEXT NOT NULL,\n",
    "    zip_code TEXT NOT NULL ,\n",
    "    county_name TEXT NOT NULL ,\n",
    "    measure_id TEXT  NOT NULL ,\n",
    "    measure_name TEXT  NOT NULL ,\n",
    "    denominator INTEGER  NOT NULL ,\n",
    "    score REAL  NOT NULL ,\n",
    "    lower_estimate REAL  NOT NULL ,\n",
    "    higher_estimate REAL  NOT NULL ,\n",
    "    start_date TEXT NOT NULL ,\n",
    "    end_date TEXT NOT NULL ,\n",
    "    household_median_income INTEGER NOT NULL ,\n",
    "    family_median_income INTEGER NOT NULL ,\n",
    "    total_population INTEGER NOT NULL ,\n",
    "    percent_poverty REAL  NOT NULL ,\n",
    "    percent_veteran REAL  NOT NULL ,\n",
    "    percent_married REAL  NOT NULL ,\n",
    "    percent_bachelor REAL  NOT NULL ,\n",
    "    percent_white REAL  NOT NULL ,\n",
    "    percent_black REAL  NOT NULL ,\n",
    "    percent_american_indian REAL  NOT NULL ,\n",
    "    percent_asian REAL  NOT NULL ,\n",
    "    percent_hawaiian REAL  NOT NULL ,\n",
    "    percent_some_other REAL  NOT NULL ,\n",
    "    percent_two_or_more REAL  NOT NULL ,\n",
    "    state_code TEXT  NOT NULL ,\n",
    "    county_code TEXT  NOT NULL \n",
    ")\n",
    "\"\"\")"
   ]
  },
  {
   "cell_type": "code",
   "execution_count": 4,
   "metadata": {},
   "outputs": [],
   "source": [
    "# Read in target dataframes\n",
    "census_df = pd.read_csv(\"../ETL/ETL-Results/census_data.csv\", dtype=str)\n",
    "cms_df = pd.read_csv(\"../ETL/ETL-Results/four_mort_measures.csv\", dtype=str)"
   ]
  },
  {
   "cell_type": "code",
   "execution_count": 5,
   "metadata": {},
   "outputs": [],
   "source": [
    "# Remove Some Items due to county issues\n",
    "cms_df = cms_df[cms_df[\"State\"] != \"PR\"]\n",
    "cms_df = cms_df[cms_df[\"State\"] != \"GU\"]\n",
    "cms_df = cms_df[cms_df[\"State\"] != \"MP\"]\n",
    "cms_df = cms_df[cms_df[\"State\"] != \"VI\"]"
   ]
  },
  {
   "cell_type": "code",
   "execution_count": 6,
   "metadata": {},
   "outputs": [
    {
     "data": {
      "text/plain": [
       "13478"
      ]
     },
     "execution_count": 6,
     "metadata": {},
     "output_type": "execute_result"
    }
   ],
   "source": [
    "len(cms_df)"
   ]
  },
  {
   "cell_type": "code",
   "execution_count": 7,
   "metadata": {},
   "outputs": [],
   "source": [
    "# Remove Some Items due to county issues\n",
    "cms_df = cms_df[cms_df[\"State\"] != \"PR\"]\n",
    "cms_df = cms_df[cms_df[\"State\"] != \"GU\"]\n",
    "cms_df = cms_df[cms_df[\"State\"] != \"MP\"]\n",
    "cms_df = cms_df[cms_df[\"State\"] != \"VI\"]\n",
    "\n",
    "cms_df = cms_df[cms_df[\"County Name\"] != \"OBRIEN\"]\n",
    "cms_df = cms_df[cms_df[\"County Name\"] != \"JEFFRSON DAVIS\"]\n",
    "\n",
    "cms_df = cms_df[(cms_df[\"County Name\"] != \"LASALLE\")\n",
    "                & (cms_df[\"State\"] != \"LA\")]\n",
    "cms_df = cms_df[(cms_df[\"County Name\"] != \"ST. MARYS\")\n",
    "                & (cms_df[\"State\"] != \"MD\")]\n",
    "cms_df = cms_df[(cms_df[\"County Name\"] != \"MCLEAN\")\n",
    "                & (cms_df[\"State\"] != \"MD\")]"
   ]
  },
  {
   "cell_type": "code",
   "execution_count": 8,
   "metadata": {},
   "outputs": [
    {
     "data": {
      "text/plain": [
       "13013"
      ]
     },
     "execution_count": 8,
     "metadata": {},
     "output_type": "execute_result"
    }
   ],
   "source": [
    "len(cms_df)"
   ]
  },
  {
   "cell_type": "code",
   "execution_count": 9,
   "metadata": {},
   "outputs": [],
   "source": [
    "def fix_county_name(string):\n",
    "\n",
    "    if string == \"DEKALB\":\n",
    "        return \"DE KALB\"\n",
    "    if string == \"DUPAGE\":\n",
    "        return \"DU PAGE\"\n",
    "    elif string == \"DISTRICT OF COLUMBIA\":\n",
    "        return \"THE DISTRICT\"\n",
    "    elif string == \"ANCHORAGE MUNICIPALITY\":\n",
    "        return \"ANCHORAGE\"\n",
    "    elif string == \"PRINCE GEORGE\\'S\":\n",
    "        return \"PRINCE GEORGES\"\n",
    "    elif string == \"MCDOWELL\":\n",
    "        return \"MC DOWELL\"\n",
    "    elif string == \"MCHENRY\":\n",
    "        return \"MC HENRY\"\n",
    "    elif string == \"LASALLE\":\n",
    "        return \"LA SALLE\"\n",
    "    elif string == \"MCKEAN\":\n",
    "        return \"MC KEAN\"\n",
    "    elif string == \"MCDUFFIE\":\n",
    "        return \"MC DUFFIE\"\n",
    "    elif string == \"EAST BATON ROUGE\":\n",
    "        return \"E. BATON ROUGE\"\n",
    "    elif string == \"LAPORTE\":\n",
    "        return \"LA PORTE\"\n",
    "    elif string == \"DEWITT\":\n",
    "        return \"DE WITT\"\n",
    "    elif string == \"JUNEAU CITY AND BOROUGH\":\n",
    "        return \"JUNEAU\"\n",
    "    elif string == \"KENAI PENINSULA BOROUGH\":\n",
    "        return \"KENAI PENINSULA\"\n",
    "    elif string == \"MATANUSKA-SUSITNA BOROUGH\":\n",
    "        return \"MATANUSKA-SUSITNA\"\n",
    "    elif string == \"DESOTO\":\n",
    "        return \"DE SOTO\"\n",
    "    elif string == \"DOÑA ANA\":\n",
    "        return \"DONA ANA\"\n",
    "    elif string == \"LA PAZ\":\n",
    "        return \"LAPAZ\"\n",
    "    elif string == \"MCLEAN\":\n",
    "        return \"MC LEAN\"\n",
    "    elif string == \"MCCRACKEN\":\n",
    "        return \"MC CRACKEN\"\n",
    "    elif string == \"MCDONOUGH\":\n",
    "        return \"MC DONOUGH\"\n",
    "    elif string == \"KETCHIKAN GATEWAY BOROUGH\":\n",
    "        return \"KETCHIKAN GATEWAY\"\n",
    "    elif string == \"SCOTTS BLUFF\":\n",
    "        return \"SCOTT BLUFF\"\n",
    "    elif string == \"NORTHUMBERLAND\":\n",
    "        return \"NORTHUMBERLND\"\n",
    "    elif string == \"MCLENNAN\":\n",
    "        return \"MC LENNAN\"\n",
    "    elif string == \"MCMINN\":\n",
    "        return \"MC MINN\"\n",
    "    elif string == \"FAIRBANKS NORTH STAR BOROUGH\":\n",
    "        return \"FAIRBANKS NORTH STAR\"\n",
    "    elif string == \"MCLEOD\":\n",
    "        return \"MC LEOD\"\n",
    "    elif string == \"YELLOW MEDICINE\":\n",
    "        return \"YELLOW MEDCINE\"\n",
    "    elif string == \"SITKA CITY AND BOROUGH\":\n",
    "        return \"SITKA BOROUGH\"\n",
    "    else:\n",
    "        return string"
   ]
  },
  {
   "cell_type": "code",
   "execution_count": 10,
   "metadata": {},
   "outputs": [],
   "source": [
    "# Save formatted county names\n",
    "census_df['County Name'] = census_df['County Name'].apply(\n",
    "    lambda x: fix_county_name(x))"
   ]
  },
  {
   "cell_type": "code",
   "execution_count": 11,
   "metadata": {},
   "outputs": [
    {
     "data": {
      "text/plain": [
       "Index(['County Name', 'State', 'State Abbr', 'Household Median Income',\n",
       "       'Family's Median Income', 'Total Population', 'Percent Poverty',\n",
       "       'Percent Veteran', 'Percent Married', 'Percent Bachelor',\n",
       "       'Percent One Race White', 'Percent One Race Black+',\n",
       "       'Percent One Race American Indian+', 'Percent One Race Asian',\n",
       "       'Percent One Race Hawaiian+', 'Percent One Race Some Other',\n",
       "       'Percent Two Race Or More', 'State Code', 'County Code'],\n",
       "      dtype='object')"
      ]
     },
     "execution_count": 11,
     "metadata": {},
     "output_type": "execute_result"
    }
   ],
   "source": [
    "census_df.columns"
   ]
  },
  {
   "cell_type": "code",
   "execution_count": 12,
   "metadata": {},
   "outputs": [
    {
     "data": {
      "text/plain": [
       "Index(['Facility ID', 'Facility Name', 'Address', 'City', 'State', 'ZIP Code',\n",
       "       'County Name', 'Measure ID', 'Measure Name', 'Denominator', 'Score',\n",
       "       'Lower Estimate', 'Higher Estimate', 'Start Date', 'End Date'],\n",
       "      dtype='object')"
      ]
     },
     "execution_count": 12,
     "metadata": {},
     "output_type": "execute_result"
    }
   ],
   "source": [
    "cms_df.columns"
   ]
  },
  {
   "cell_type": "code",
   "execution_count": 13,
   "metadata": {},
   "outputs": [],
   "source": [
    "cms_merged_df = pd.merge(\n",
    "    cms_df, census_df, \n",
    "    how=\"inner\", left_on=[\"State\", \"County Name\"], right_on=[\"State Abbr\", \"County Name\"]\n",
    ")"
   ]
  },
  {
   "cell_type": "code",
   "execution_count": 14,
   "metadata": {},
   "outputs": [
    {
     "data": {
      "text/plain": [
       "Index(['Facility ID', 'Facility Name', 'Address', 'City', 'State_x',\n",
       "       'ZIP Code', 'County Name', 'Measure ID', 'Measure Name', 'Denominator',\n",
       "       'Score', 'Lower Estimate', 'Higher Estimate', 'Start Date', 'End Date',\n",
       "       'State_y', 'State Abbr', 'Household Median Income',\n",
       "       'Family's Median Income', 'Total Population', 'Percent Poverty',\n",
       "       'Percent Veteran', 'Percent Married', 'Percent Bachelor',\n",
       "       'Percent One Race White', 'Percent One Race Black+',\n",
       "       'Percent One Race American Indian+', 'Percent One Race Asian',\n",
       "       'Percent One Race Hawaiian+', 'Percent One Race Some Other',\n",
       "       'Percent Two Race Or More', 'State Code', 'County Code'],\n",
       "      dtype='object')"
      ]
     },
     "execution_count": 14,
     "metadata": {},
     "output_type": "execute_result"
    }
   ],
   "source": [
    "cms_merged_df.columns"
   ]
  },
  {
   "cell_type": "code",
   "execution_count": 25,
   "metadata": {},
   "outputs": [
    {
     "data": {
      "text/plain": [
       "13013"
      ]
     },
     "execution_count": 25,
     "metadata": {},
     "output_type": "execute_result"
    }
   ],
   "source": [
    "len(cms_merged_df)"
   ]
  },
  {
   "cell_type": "code",
   "execution_count": 15,
   "metadata": {},
   "outputs": [],
   "source": [
    "cms_merged_df = cms_merged_df.rename(\n",
    "        columns={\n",
    "            \"Facility ID\": \"facility_id\",\n",
    "            \"Facility Name\": \"facility_name\",\n",
    "            \"Address\": \"address\",\n",
    "            \"City\": \"city\",\n",
    "            \"State_x\": \"state\",\n",
    "            \"State_y\": \"state_name\",\n",
    "            \"ZIP Code\": \"zip_code\",\n",
    "            \"County Name\": \"county_name\",\n",
    "            \"Measure ID\": \"measure_id\",\n",
    "            \"Measure Name\": \"measure_name\",\n",
    "            \"Denominator\": \"denominator\",\n",
    "            \"Score\": \"score\",\n",
    "            \"Lower Estimate\": \"lower_estimate\",\n",
    "            \"Higher Estimate\": \"higher_estimate\",\n",
    "            \"Start Date\": \"start_date\",\n",
    "            \"End Date\": \"end_date\",\n",
    "            \"Household Median Income\": \"household_median_income\",\n",
    "            \"Family's Median Income\": \"family_median_income\",\n",
    "            \"Total Population\": \"total_population\",\n",
    "            \"Percent Poverty\": \"percent_poverty\",\n",
    "            \"Percent Veteran\": \"percent_veteran\",\n",
    "            \"Percent Married\": \"percent_married\",\n",
    "            \"Percent Bachelor\": \"percent_bachelor\",\n",
    "            \"Percent One Race White\": \"percent_white\",\n",
    "            \"Percent One Race Black+\": \"percent_black\",\n",
    "            \"Percent One Race American Indian+\": \"percent_american_indian\",\n",
    "            \"Percent One Race Asian\": \"percent_asian\",\n",
    "            \"Percent One Race Hawaiian+\": \"percent_hawaiian\",\n",
    "            \"Percent One Race Some Other\": \"percent_some_other\",\n",
    "            \"Percent Two Race Or More\": \"percent_two_or_more\",\n",
    "            \"State Code\": \"state_code\",\n",
    "            \"County Code\": \"county_code\"\n",
    "        }\n",
    ")"
   ]
  },
  {
   "cell_type": "code",
   "execution_count": 16,
   "metadata": {},
   "outputs": [
    {
     "data": {
      "text/plain": [
       "Index(['facility_id', 'facility_name', 'address', 'city', 'state', 'zip_code',\n",
       "       'county_name', 'measure_id', 'measure_name', 'denominator', 'score',\n",
       "       'lower_estimate', 'higher_estimate', 'start_date', 'end_date',\n",
       "       'state_name', 'State Abbr', 'household_median_income',\n",
       "       'family_median_income', 'total_population', 'percent_poverty',\n",
       "       'percent_veteran', 'percent_married', 'percent_bachelor',\n",
       "       'percent_white', 'percent_black', 'percent_american_indian',\n",
       "       'percent_asian', 'percent_hawaiian', 'percent_some_other',\n",
       "       'percent_two_or_more', 'state_code', 'county_code'],\n",
       "      dtype='object')"
      ]
     },
     "execution_count": 16,
     "metadata": {},
     "output_type": "execute_result"
    }
   ],
   "source": [
    "cms_merged_df.columns"
   ]
  },
  {
   "cell_type": "code",
   "execution_count": 17,
   "metadata": {},
   "outputs": [],
   "source": [
    "cms_merged_df = cms_merged_df[[\n",
    "    \"facility_id\",\n",
    "    \"facility_name\",\n",
    "    \"address\",\n",
    "    \"city\",\n",
    "    \"state\",\n",
    "    \"state_name\",\n",
    "    \"zip_code\",\n",
    "    \"county_name\",\n",
    "    \"measure_id\",\n",
    "    \"measure_name\",\n",
    "    \"denominator\",\n",
    "    \"score\",\n",
    "    \"lower_estimate\",\n",
    "    \"higher_estimate\",\n",
    "    \"start_date\",\n",
    "    \"end_date\",\n",
    "    \"household_median_income\",\n",
    "    \"family_median_income\",\n",
    "    \"total_population\",\n",
    "    \"percent_poverty\",\n",
    "    \"percent_veteran\",\n",
    "    \"percent_married\",\n",
    "    \"percent_bachelor\",\n",
    "    \"percent_white\",\n",
    "    \"percent_black\",\n",
    "    \"percent_american_indian\",\n",
    "    \"percent_asian\",\n",
    "    \"percent_hawaiian\",\n",
    "    \"percent_some_other\",\n",
    "    \"percent_two_or_more\",\n",
    "    \"state_code\",\n",
    "    \"county_code\"        \n",
    "]]"
   ]
  },
  {
   "cell_type": "code",
   "execution_count": 18,
   "metadata": {},
   "outputs": [
    {
     "data": {
      "text/plain": [
       "Index(['facility_id', 'facility_name', 'address', 'city', 'state',\n",
       "       'state_name', 'zip_code', 'county_name', 'measure_id', 'measure_name',\n",
       "       'denominator', 'score', 'lower_estimate', 'higher_estimate',\n",
       "       'start_date', 'end_date', 'household_median_income',\n",
       "       'family_median_income', 'total_population', 'percent_poverty',\n",
       "       'percent_veteran', 'percent_married', 'percent_bachelor',\n",
       "       'percent_white', 'percent_black', 'percent_american_indian',\n",
       "       'percent_asian', 'percent_hawaiian', 'percent_some_other',\n",
       "       'percent_two_or_more', 'state_code', 'county_code'],\n",
       "      dtype='object')"
      ]
     },
     "execution_count": 18,
     "metadata": {},
     "output_type": "execute_result"
    }
   ],
   "source": [
    "cms_merged_df.columns"
   ]
  },
  {
   "cell_type": "code",
   "execution_count": 20,
   "metadata": {},
   "outputs": [
    {
     "data": {
      "text/html": [
       "<div>\n",
       "<style scoped>\n",
       "    .dataframe tbody tr th:only-of-type {\n",
       "        vertical-align: middle;\n",
       "    }\n",
       "\n",
       "    .dataframe tbody tr th {\n",
       "        vertical-align: top;\n",
       "    }\n",
       "\n",
       "    .dataframe thead th {\n",
       "        text-align: right;\n",
       "    }\n",
       "</style>\n",
       "<table border=\"1\" class=\"dataframe\">\n",
       "  <thead>\n",
       "    <tr style=\"text-align: right;\">\n",
       "      <th></th>\n",
       "      <th>facility_id</th>\n",
       "      <th>facility_name</th>\n",
       "      <th>address</th>\n",
       "      <th>city</th>\n",
       "      <th>state</th>\n",
       "      <th>state_name</th>\n",
       "      <th>zip_code</th>\n",
       "      <th>county_name</th>\n",
       "      <th>measure_id</th>\n",
       "      <th>measure_name</th>\n",
       "      <th>...</th>\n",
       "      <th>percent_bachelor</th>\n",
       "      <th>percent_white</th>\n",
       "      <th>percent_black</th>\n",
       "      <th>percent_american_indian</th>\n",
       "      <th>percent_asian</th>\n",
       "      <th>percent_hawaiian</th>\n",
       "      <th>percent_some_other</th>\n",
       "      <th>percent_two_or_more</th>\n",
       "      <th>state_code</th>\n",
       "      <th>county_code</th>\n",
       "    </tr>\n",
       "  </thead>\n",
       "  <tbody>\n",
       "    <tr>\n",
       "      <th>0</th>\n",
       "      <td>50704</td>\n",
       "      <td>MISSION COMMUNITY HOSPITAL</td>\n",
       "      <td>14850 ROSCOE BLVD</td>\n",
       "      <td>PANORAMA CITY</td>\n",
       "      <td>CA</td>\n",
       "      <td>California</td>\n",
       "      <td>91402</td>\n",
       "      <td>LOS ANGELES</td>\n",
       "      <td>MORT_30_COPD</td>\n",
       "      <td>Death rate for COPD patients</td>\n",
       "      <td>...</td>\n",
       "      <td>32.5</td>\n",
       "      <td>51.3</td>\n",
       "      <td>8.1</td>\n",
       "      <td>0.7</td>\n",
       "      <td>14.6</td>\n",
       "      <td>0.3</td>\n",
       "      <td>21.0</td>\n",
       "      <td>4.0</td>\n",
       "      <td>06</td>\n",
       "      <td>037</td>\n",
       "    </tr>\n",
       "  </tbody>\n",
       "</table>\n",
       "<p>1 rows × 32 columns</p>\n",
       "</div>"
      ],
      "text/plain": [
       "  facility_id               facility_name            address           city  \\\n",
       "0       50704  MISSION COMMUNITY HOSPITAL  14850 ROSCOE BLVD  PANORAMA CITY   \n",
       "\n",
       "  state  state_name zip_code  county_name    measure_id  \\\n",
       "0    CA  California    91402  LOS ANGELES  MORT_30_COPD   \n",
       "\n",
       "                   measure_name  ... percent_bachelor percent_white  \\\n",
       "0  Death rate for COPD patients  ...             32.5          51.3   \n",
       "\n",
       "  percent_black percent_american_indian percent_asian percent_hawaiian  \\\n",
       "0           8.1                     0.7          14.6              0.3   \n",
       "\n",
       "  percent_some_other percent_two_or_more state_code county_code  \n",
       "0               21.0                 4.0         06         037  \n",
       "\n",
       "[1 rows x 32 columns]"
      ]
     },
     "execution_count": 20,
     "metadata": {},
     "output_type": "execute_result"
    }
   ],
   "source": [
    "cms_merged_df.head(1)"
   ]
  },
  {
   "cell_type": "code",
   "execution_count": 21,
   "metadata": {},
   "outputs": [
    {
     "name": "stdout",
     "output_type": "stream",
     "text": [
      "2021-02-02 12:34:47,691 INFO sqlalchemy.engine.base.Engine PRAGMA main.table_info(\"cms\")\n",
      "2021-02-02 12:34:47,692 INFO sqlalchemy.engine.base.Engine ()\n",
      "2021-02-02 12:34:47,724 INFO sqlalchemy.engine.base.Engine BEGIN (implicit)\n",
      "2021-02-02 12:34:48,120 INFO sqlalchemy.engine.base.Engine INSERT INTO cms (facility_id, facility_name, address, city, state, state_name, zip_code, county_name, measure_id, measure_name, denominator, score, lower_estimate, higher_estimate, start_date, end_date, household_median_income, family_median_income, total_population, percent_poverty, percent_veteran, percent_married, percent_bachelor, percent_white, percent_black, percent_american_indian, percent_asian, percent_hawaiian, percent_some_other, percent_two_or_more, state_code, county_code) VALUES (?, ?, ?, ?, ?, ?, ?, ?, ?, ?, ?, ?, ?, ?, ?, ?, ?, ?, ?, ?, ?, ?, ?, ?, ?, ?, ?, ?, ?, ?, ?, ?)\n",
      "2021-02-02 12:34:48,122 INFO sqlalchemy.engine.base.Engine (('50704', 'MISSION COMMUNITY HOSPITAL', '14850 ROSCOE BLVD', 'PANORAMA CITY', 'CA', 'California', '91402', 'LOS ANGELES', 'MORT_30_COPD', 'Death rate for COPD patients', '207', '5.1', '3.6', '6.9', '7/1/2016', '6/30/2019', '68044', '76673', '10081570', '14.9', '3.3', '42.9', '32.5', '51.3', '8.1', '0.7', '14.6', '0.3', '21.0', '4.0', '06', '037'), ('50625', 'CEDARS-SINAI MEDICAL CENTER', '8700 BEVERLY BLVD', 'LOS ANGELES', 'CA', 'California', '90048', 'LOS ANGELES', 'MORT_30_COPD', 'Death rate for COPD patients', '504', '5.2', '4', '6.6', '7/1/2016', '6/30/2019', '68044', '76673', '10081570', '14.9', '3.3', '42.9', '32.5', '51.3', '8.1', '0.7', '14.6', '0.3', '21.0', '4.0', '06', '037'), ('50739', 'CENTINELA HOSPITAL MEDICAL CENTER', '555 EAST HARDY STREET', 'INGLEWOOD', 'CA', 'California', '90301', 'LOS ANGELES', 'MORT_30_HF', 'Death rate for heart failure patients', '568', '5.3', '4.2', '6.7', '7/1/2016', '6/30/2019', '68044', '76673', '10081570', '14.9', '3.3', '42.9', '32.5', '51.3', '8.1', '0.7', '14.6', '0.3', '21.0', '4.0', '06', '037'), ('50763', 'L A DOWNTOWN MEDICAL CENTER, LLC', '1711 WEST TEMPLE STREET', 'LOS ANGELES', 'CA', 'California', '90026', 'LOS ANGELES', 'MORT_30_COPD', 'Death rate for COPD patients', '166', '5.3', '3.7', '7.5', '7/1/2016', '6/30/2019', '68044', '76673', '10081570', '14.9', '3.3', '42.9', '32.5', '51.3', '8.1', '0.7', '14.6', '0.3', '21.0', '4.0', '06', '037'), ('50096', 'WEST COVINA MEDICAL CENTER, INC', '725 S ORANGE AVE', 'WEST COVINA', 'CA', 'California', '91790', 'LOS ANGELES', 'MORT_30_COPD', 'Death rate for COPD patients', '146', '5.5', '3.8', '7.9', '7/1/2016', '6/30/2019', '68044', '76673', '10081570', '14.9', '3.3', '42.9', '32.5', '51.3', '8.1', '0.7', '14.6', '0.3', '21.0', '4.0', '06', '037'), ('50135', 'SOUTHERN CALIFORNIA HOSPITAL AT HOLLYWOOD', '6245 DE LONGPRE AVE', 'HOLLYWOOD', 'CA', 'California', '90028', 'LOS ANGELES', 'MORT_30_COPD', 'Death rate for COPD patients', '225', '5.5', '3.9', '7.7', '7/1/2016', '6/30/2019', '68044', '76673', '10081570', '14.9', '3.3', '42.9', '32.5', '51.3', '8.1', '0.7', '14.6', '0.3', '21.0', '4.0', '06', '037'), ('50742', 'OLYMPIA MEDICAL CENTER', '5900 WEST OLYMPIC BOULEVARD', 'LOS ANGELES', 'CA', 'California', '90036', 'LOS ANGELES', 'MORT_30_COPD', 'Death rate for COPD patients', '153', '5.7', '4', '8', '7/1/2016', '6/30/2019', '68044', '76673', '10081570', '14.9', '3.3', '42.9', '32.5', '51.3', '8.1', '0.7', '14.6', '0.3', '21.0', '4.0', '06', '037'), ('50755', 'SHERMAN OAKS HOSPITAL', '4929 VAN NUYS BLVD', 'SHERMAN OAKS', 'CA', 'California', '91403', 'LOS ANGELES', 'MORT_30_HF', 'Death rate for heart failure patients', '260', '5.8', '4.3', '7.7', '7/1/2016', '6/30/2019', '68044', '76673', '10081570', '14.9', '3.3', '42.9', '32.5', '51.3', '8.1', '0.7', '14.6', '0.3', '21.0', '4.0', '06', '037')  ... displaying 10 of 13013 total bound parameter sets ...  ('41303', 'MERCY HOSPITAL OZARK', '801 WEST RIVER STREET', 'OZARK', 'AR', 'Arkansas', '72949', 'FRANKLIN', 'MORT_30_PN', 'Death rate for pneumonia patients', '45', '19.6', '14.5', '26.7', '7/1/2016', '6/30/2019', '38923', '52003', '17738', '23.0', '10.2', '54.4', '12.1', '94.0', '1.0', '1.6', '0.8', '0.2', '0.4', '1.9', '05', '047'), ('341314', 'WASHINGTON COUNTY HOSP INC', '958 US HWY 64 EAST', 'PLYMOUTH', 'NC', 'North Carolina', '27962', 'WASHINGTON', 'MORT_30_PN', 'Death rate for pneumonia patients', '35', '21.8', '15.7', '29.3', '7/1/2016', '6/30/2019', '35979', '48774', '11922', '22.3', '9.9', '35.3', '11.5', '45.7', '47.5', '0.3', '0.2', '0.0', '1.9', '4.4', '37', '187'))\n",
      "2021-02-02 12:34:48,332 INFO sqlalchemy.engine.base.Engine COMMIT\n"
     ]
    }
   ],
   "source": [
    "cms_merged_df.to_sql(\"cms\", conn, if_exists=\"append\", index=False)"
   ]
  }
 ],
 "metadata": {
  "kernelspec": {
   "display_name": "Python 3",
   "language": "python",
   "name": "python3"
  },
  "language_info": {
   "codemirror_mode": {
    "name": "ipython",
    "version": 3
   },
   "file_extension": ".py",
   "mimetype": "text/x-python",
   "name": "python",
   "nbconvert_exporter": "python",
   "pygments_lexer": "ipython3",
   "version": "3.6.10"
  }
 },
 "nbformat": 4,
 "nbformat_minor": 4
}
